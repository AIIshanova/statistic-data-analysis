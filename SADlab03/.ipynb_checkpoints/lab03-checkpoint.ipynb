{
 "cells": [
  {
   "cell_type": "code",
   "execution_count": 1,
   "id": "1b570b33-449b-4e62-94ec-079d72a1dc41",
   "metadata": {},
   "outputs": [
    {
     "name": "stdout",
     "output_type": "stream",
     "text": [
      "1\n",
      "2\n",
      "3\n",
      "4\n",
      "5\n",
      "6\n",
      "7\n",
      "8\n",
      "9\n",
      "10\n"
     ]
    }
   ],
   "source": [
    "# пока n<10 прибавить к n единицу и распечатать значение:\n",
    "n=0\n",
    "while n < 10\n",
    "n += 1\n",
    "println(n)\n",
    "end"
   ]
  },
  {
   "cell_type": "code",
   "execution_count": 2,
   "id": "dcef5775-02a7-4ae0-b20c-7f122ae15e44",
   "metadata": {},
   "outputs": [
    {
     "data": {
      "text/plain": [
       "5-element Vector{String}:\n",
       " \"Ted\"\n",
       " \"Robyn\"\n",
       " \"Barney\"\n",
       " \"Lily\"\n",
       " \"Marshall\""
      ]
     },
     "execution_count": 2,
     "metadata": {},
     "output_type": "execute_result"
    }
   ],
   "source": [
    "myfriends = [\"Ted\", \"Robyn\", \"Barney\", \"Lily\", \"Marshall\"]"
   ]
  },
  {
   "cell_type": "code",
   "execution_count": 3,
   "id": "15010a1c-1781-4ff6-95f8-f17210059fff",
   "metadata": {},
   "outputs": [
    {
     "name": "stdout",
     "output_type": "stream",
     "text": [
      "Hi Ted, it's great to see you!\n",
      "Hi Robyn, it's great to see you!\n",
      "Hi Barney, it's great to see you!\n",
      "Hi Lily, it's great to see you!\n",
      "Hi Marshall, it's great to see you!\n"
     ]
    }
   ],
   "source": [
    "i=1\n",
    "while i <= length(myfriends)\n",
    "    friend = myfriends[i]\n",
    "    println(\"Hi $friend, it's great to see you!\")\n",
    "    i += 1\n",
    "end"
   ]
  },
  {
   "cell_type": "code",
   "execution_count": 4,
   "id": "d88e8c83-010b-496a-9e5d-9ce4deb5cceb",
   "metadata": {},
   "outputs": [
    {
     "name": "stdout",
     "output_type": "stream",
     "text": [
      "1\n",
      "3\n",
      "5\n",
      "7\n",
      "9\n"
     ]
    }
   ],
   "source": [
    "for n in 1:2:10\n",
    "    println(n)\n",
    "end"
   ]
  },
  {
   "cell_type": "code",
   "execution_count": 5,
   "id": "2b988697-3c2b-4c57-99a9-fafe8dc6b1f1",
   "metadata": {},
   "outputs": [
    {
     "name": "stdout",
     "output_type": "stream",
     "text": [
      "Hi Ted, it's great to see you!\n",
      "Hi Robyn, it's great to see you!\n",
      "Hi Barney, it's great to see you!\n",
      "Hi Lily, it's great to see you!\n",
      "Hi Marshall, it's great to see you!\n"
     ]
    }
   ],
   "source": [
    "myfriends = [\"Ted\", \"Robyn\", \"Barney\", \"Lily\", \"Marshall\"]\n",
    "for friend in myfriends\n",
    "    println(\"Hi $friend, it's great to see you!\")\n",
    "end"
   ]
  },
  {
   "cell_type": "code",
   "execution_count": 6,
   "id": "f739988b-289e-4f37-985c-5d0f75796e86",
   "metadata": {},
   "outputs": [
    {
     "data": {
      "text/plain": [
       "5×5 Matrix{Int64}:\n",
       " 0  0  0  0  0\n",
       " 0  0  0  0  0\n",
       " 0  0  0  0  0\n",
       " 0  0  0  0  0\n",
       " 0  0  0  0  0"
      ]
     },
     "execution_count": 6,
     "metadata": {},
     "output_type": "execute_result"
    }
   ],
   "source": [
    "# инициализация массива m x n из нулей:\n",
    "m, n = 5, 5\n",
    "A = fill(0, (m, n))"
   ]
  },
  {
   "cell_type": "code",
   "execution_count": 7,
   "id": "34870266-210e-4e84-a737-29af27643b48",
   "metadata": {},
   "outputs": [
    {
     "data": {
      "text/plain": [
       "5×5 Matrix{Int64}:\n",
       " 2  3  4  5   6\n",
       " 3  4  5  6   7\n",
       " 4  5  6  7   8\n",
       " 5  6  7  8   9\n",
       " 6  7  8  9  10"
      ]
     },
     "execution_count": 7,
     "metadata": {},
     "output_type": "execute_result"
    }
   ],
   "source": [
    "# формирование массива, в котором значение каждой записи\n",
    "# является суммой индексов строки и столбца:\n",
    "for i in 1:m\n",
    "    for j in 1:n\n",
    "        A[i, j] = i + j\n",
    "    end\n",
    "end\n",
    "A"
   ]
  },
  {
   "cell_type": "code",
   "execution_count": 8,
   "id": "cf4fd9b7-ff6c-46a1-9dc4-38a791c87dd4",
   "metadata": {},
   "outputs": [
    {
     "data": {
      "text/plain": [
       "5×5 Matrix{Int64}:\n",
       " 2  3  4  5   6\n",
       " 3  4  5  6   7\n",
       " 4  5  6  7   8\n",
       " 5  6  7  8   9\n",
       " 6  7  8  9  10"
      ]
     },
     "execution_count": 8,
     "metadata": {},
     "output_type": "execute_result"
    }
   ],
   "source": [
    "# инициализация массива m x n из нулей:\n",
    "B = fill(0, (m, n))\n",
    "for i in 1:m, j in 1:n\n",
    "    B[i, j] = i + j\n",
    "end\n",
    "B"
   ]
  },
  {
   "cell_type": "code",
   "execution_count": 9,
   "id": "104b7b5d-1c4d-4af7-b745-a58f5a353f62",
   "metadata": {},
   "outputs": [
    {
     "data": {
      "text/plain": [
       "5×5 Matrix{Int64}:\n",
       " 2  3  4  5   6\n",
       " 3  4  5  6   7\n",
       " 4  5  6  7   8\n",
       " 5  6  7  8   9\n",
       " 6  7  8  9  10"
      ]
     },
     "execution_count": 9,
     "metadata": {},
     "output_type": "execute_result"
    }
   ],
   "source": [
    "C = [i + j for i in 1:m, j in 1:n]\n",
    "C"
   ]
  },
  {
   "cell_type": "code",
   "execution_count": 11,
   "id": "35617a52-5365-4ac3-9e34-4eca96ef2b55",
   "metadata": {},
   "outputs": [
    {
     "name": "stdout",
     "output_type": "stream",
     "text": [
      "FizzBuzz\n"
     ]
    }
   ],
   "source": [
    "# используем `&&` для реализации операции \"AND\"\n",
    "# операция % вычисляет остаток от деления\n",
    "N = 15\n",
    "if (N % 3 == 0) && (N % 5 == 0)\n",
    "    println(\"FizzBuzz\")\n",
    "elseif N % 3 == 0\n",
    "    println(\"Fizz\")\n",
    "elseif N % 5 == 0\n",
    "    println(\"Buzz\")\n",
    "else\n",
    "    println(N)\n",
    "end"
   ]
  },
  {
   "cell_type": "code",
   "execution_count": 12,
   "id": "064e44fd-f6a7-42cb-bf57-1ec0c161825c",
   "metadata": {},
   "outputs": [
    {
     "name": "stdout",
     "output_type": "stream",
     "text": [
      "Buzz\n"
     ]
    }
   ],
   "source": [
    "N = 5\n",
    "if (N % 3 == 0) && (N % 5 == 0)\n",
    "    println(\"FizzBuzz\")\n",
    "elseif N % 3 == 0\n",
    "    println(\"Fizz\")\n",
    "elseif N % 5 == 0\n",
    "    println(\"Buzz\")\n",
    "else\n",
    "    println(N)\n",
    "end"
   ]
  },
  {
   "cell_type": "code",
   "execution_count": 13,
   "id": "6b27c012-864a-43af-866e-80249e4db984",
   "metadata": {},
   "outputs": [
    {
     "name": "stdout",
     "output_type": "stream",
     "text": [
      "Fizz\n"
     ]
    }
   ],
   "source": [
    "N = 3\n",
    "if (N % 3 == 0) && (N % 5 == 0)\n",
    "    println(\"FizzBuzz\")\n",
    "elseif N % 3 == 0\n",
    "    println(\"Fizz\")\n",
    "elseif N % 5 == 0\n",
    "    println(\"Buzz\")\n",
    "else\n",
    "    println(N)\n",
    "end"
   ]
  },
  {
   "cell_type": "code",
   "execution_count": 14,
   "id": "a6bbfa51-f928-4520-8436-caf692b7ee0a",
   "metadata": {},
   "outputs": [
    {
     "name": "stdout",
     "output_type": "stream",
     "text": [
      "1\n"
     ]
    }
   ],
   "source": [
    "N = 1\n",
    "if (N % 3 == 0) && (N % 5 == 0)\n",
    "    println(\"FizzBuzz\")\n",
    "elseif N % 3 == 0\n",
    "    println(\"Fizz\")\n",
    "elseif N % 5 == 0\n",
    "    println(\"Buzz\")\n",
    "else\n",
    "    println(N)\n",
    "end"
   ]
  },
  {
   "cell_type": "code",
   "execution_count": 15,
   "id": "05e481f8-ff90-4146-91cf-ab42c38bc91d",
   "metadata": {},
   "outputs": [
    {
     "data": {
      "text/plain": [
       "10"
      ]
     },
     "execution_count": 15,
     "metadata": {},
     "output_type": "execute_result"
    }
   ],
   "source": [
    "# Пример использования тернарного оператора:\n",
    "x=5\n",
    "y = 10\n",
    "(x > y) ? x : y"
   ]
  },
  {
   "cell_type": "code",
   "execution_count": 16,
   "id": "7ab9e18c-5067-42fd-9758-efdc5aad2e57",
   "metadata": {},
   "outputs": [
    {
     "data": {
      "text/plain": [
       "f (generic function with 1 method)"
      ]
     },
     "execution_count": 16,
     "metadata": {},
     "output_type": "execute_result"
    }
   ],
   "source": [
    "function sayhi(name)\n",
    "    println(\"Hi $name, it's great to see you!\")\n",
    "end\n",
    "\n",
    "# функция возведения в квадрат:\n",
    "function f(x)\n",
    "    x^2\n",
    "end"
   ]
  },
  {
   "cell_type": "code",
   "execution_count": 19,
   "id": "68a9cc9c-e935-4277-abb7-210e08f2bb33",
   "metadata": {},
   "outputs": [
    {
     "name": "stdout",
     "output_type": "stream",
     "text": [
      "Hi C-3PO, it's great to see you!\n"
     ]
    }
   ],
   "source": [
    "sayhi(\"C-3PO\")"
   ]
  },
  {
   "cell_type": "code",
   "execution_count": 20,
   "id": "dece8ffd-2c33-45f6-aa2b-5359deb07170",
   "metadata": {},
   "outputs": [
    {
     "data": {
      "text/plain": [
       "1764"
      ]
     },
     "execution_count": 20,
     "metadata": {},
     "output_type": "execute_result"
    }
   ],
   "source": [
    "f(42)"
   ]
  },
  {
   "cell_type": "code",
   "execution_count": 21,
   "id": "bf792778-4b09-47e4-a59c-de114b1654f7",
   "metadata": {},
   "outputs": [
    {
     "data": {
      "text/plain": [
       "f2 (generic function with 1 method)"
      ]
     },
     "execution_count": 21,
     "metadata": {},
     "output_type": "execute_result"
    }
   ],
   "source": [
    "sayhi2(name) = println(\"Hi $name, it's great to see you!\")\n",
    "f2(x) = x^2"
   ]
  },
  {
   "cell_type": "code",
   "execution_count": 22,
   "id": "4ef90afd-5e4a-47ca-954a-772eb07a819a",
   "metadata": {},
   "outputs": [
    {
     "name": "stdout",
     "output_type": "stream",
     "text": [
      "Hi C-3PO, it's great to see you!\n"
     ]
    }
   ],
   "source": [
    "sayhi2(\"C-3PO\")"
   ]
  },
  {
   "cell_type": "code",
   "execution_count": 23,
   "id": "23836f79-65ee-4aeb-a16c-7eac2b805678",
   "metadata": {},
   "outputs": [
    {
     "data": {
      "text/plain": [
       "1764"
      ]
     },
     "execution_count": 23,
     "metadata": {},
     "output_type": "execute_result"
    }
   ],
   "source": [
    "f2(42)"
   ]
  },
  {
   "cell_type": "code",
   "execution_count": 24,
   "id": "83c0f219-5502-4faa-9c07-a15444059a06",
   "metadata": {},
   "outputs": [
    {
     "data": {
      "text/plain": [
       "#5 (generic function with 1 method)"
      ]
     },
     "execution_count": 24,
     "metadata": {},
     "output_type": "execute_result"
    }
   ],
   "source": [
    "sayhi3 = name -> println(\"Hi $name, it's great to see you!\")\n",
    "f3 = x -> x^2"
   ]
  },
  {
   "cell_type": "code",
   "execution_count": 25,
   "id": "490c46dc-168f-4fe9-99af-79544940df0c",
   "metadata": {},
   "outputs": [
    {
     "name": "stdout",
     "output_type": "stream",
     "text": [
      "Hi C-3PO, it's great to see you!\n"
     ]
    }
   ],
   "source": [
    "sayhi3(\"C-3PO\")"
   ]
  },
  {
   "cell_type": "code",
   "execution_count": 26,
   "id": "a341e016-cbe7-47b8-a8a2-35b289a8994f",
   "metadata": {},
   "outputs": [
    {
     "data": {
      "text/plain": [
       "1764"
      ]
     },
     "execution_count": 26,
     "metadata": {},
     "output_type": "execute_result"
    }
   ],
   "source": [
    "f3(42)"
   ]
  },
  {
   "cell_type": "code",
   "execution_count": 27,
   "id": "508fd590-a3c2-497b-8963-d366620962f2",
   "metadata": {},
   "outputs": [
    {
     "data": {
      "text/plain": [
       "3-element Vector{Int64}:\n",
       " 3\n",
       " 5\n",
       " 2"
      ]
     },
     "execution_count": 27,
     "metadata": {},
     "output_type": "execute_result"
    }
   ],
   "source": [
    "v = [3, 5, 2]\n",
    "sort(v)\n",
    "v"
   ]
  },
  {
   "cell_type": "code",
   "execution_count": 28,
   "id": "fd9e415b-2050-495f-af68-295591aa3c66",
   "metadata": {},
   "outputs": [
    {
     "data": {
      "text/plain": [
       "3-element Vector{Int64}:\n",
       " 2\n",
       " 3\n",
       " 5"
      ]
     },
     "execution_count": 28,
     "metadata": {},
     "output_type": "execute_result"
    }
   ],
   "source": [
    "v = [3, 5, 2]\n",
    "sort!(v)\n",
    "v"
   ]
  },
  {
   "cell_type": "code",
   "execution_count": 29,
   "id": "2358c8f9-5ebc-44f8-96ed-ba974e7d0440",
   "metadata": {},
   "outputs": [
    {
     "data": {
      "text/plain": [
       "3-element Vector{Int64}:\n",
       " 1\n",
       " 4\n",
       " 9"
      ]
     },
     "execution_count": 29,
     "metadata": {},
     "output_type": "execute_result"
    }
   ],
   "source": [
    "f(x) = x^2\n",
    "map(f, [1, 2, 3])"
   ]
  },
  {
   "cell_type": "code",
   "execution_count": 30,
   "id": "4d2b70a7-bbc1-4ebb-874f-04390ecb469e",
   "metadata": {},
   "outputs": [
    {
     "data": {
      "text/plain": [
       "3-element Vector{Int64}:\n",
       "  1\n",
       "  8\n",
       " 27"
      ]
     },
     "execution_count": 30,
     "metadata": {},
     "output_type": "execute_result"
    }
   ],
   "source": [
    "x -> x^3\n",
    "map(x -> x^3, [1, 2, 3])"
   ]
  },
  {
   "cell_type": "code",
   "execution_count": 31,
   "id": "d48f7a32-cd7d-445a-afee-771d6befe94d",
   "metadata": {},
   "outputs": [
    {
     "data": {
      "text/plain": [
       "3-element Vector{Int64}:\n",
       " 1\n",
       " 4\n",
       " 9"
      ]
     },
     "execution_count": 31,
     "metadata": {},
     "output_type": "execute_result"
    }
   ],
   "source": [
    "f(x) = x^2\n",
    "broadcast(f, [1, 2, 3])"
   ]
  },
  {
   "cell_type": "code",
   "execution_count": 32,
   "id": "9d93f2be-2342-426c-820e-733b21ed5916",
   "metadata": {},
   "outputs": [
    {
     "data": {
      "text/plain": [
       "3-element Vector{Int64}:\n",
       " 1\n",
       " 4\n",
       " 9"
      ]
     },
     "execution_count": 32,
     "metadata": {},
     "output_type": "execute_result"
    }
   ],
   "source": [
    "f.([1, 2, 3])"
   ]
  },
  {
   "cell_type": "code",
   "execution_count": 33,
   "id": "01a3961f-eb1d-4206-b760-b258476a9e55",
   "metadata": {},
   "outputs": [
    {
     "data": {
      "text/plain": [
       "3×3 Matrix{Int64}:\n",
       " 1  2  3\n",
       " 4  5  6\n",
       " 7  8  9"
      ]
     },
     "execution_count": 33,
     "metadata": {},
     "output_type": "execute_result"
    }
   ],
   "source": [
    "# Задаём матрицу A:\n",
    "A = [i + 3*j for j in 0:2, i in 1:3]"
   ]
  },
  {
   "cell_type": "code",
   "execution_count": 34,
   "id": "26d9692d-8ef2-439d-9f57-ef5f70a09e29",
   "metadata": {},
   "outputs": [
    {
     "data": {
      "text/plain": [
       "3×3 Matrix{Int64}:\n",
       "  30   36   42\n",
       "  66   81   96\n",
       " 102  126  150"
      ]
     },
     "execution_count": 34,
     "metadata": {},
     "output_type": "execute_result"
    }
   ],
   "source": [
    "# Вызываем функцию f возведения в квадрат\n",
    "f(A)"
   ]
  },
  {
   "cell_type": "code",
   "execution_count": 35,
   "id": "a66d6e37-90dd-485d-9c38-865dde64d0a0",
   "metadata": {},
   "outputs": [
    {
     "data": {
      "text/plain": [
       "3×3 Matrix{Int64}:\n",
       "  1   4   9\n",
       " 16  25  36\n",
       " 49  64  81"
      ]
     },
     "execution_count": 35,
     "metadata": {},
     "output_type": "execute_result"
    }
   ],
   "source": [
    "B = f.(A)"
   ]
  },
  {
   "cell_type": "code",
   "execution_count": 36,
   "id": "94f3569a-e20c-49b8-9f02-605f8a802318",
   "metadata": {},
   "outputs": [
    {
     "data": {
      "text/plain": [
       "3×3 Matrix{Float64}:\n",
       "  3.0   6.0   9.0\n",
       " 12.0  15.0  18.0\n",
       " 21.0  24.0  27.0"
      ]
     },
     "execution_count": 36,
     "metadata": {},
     "output_type": "execute_result"
    }
   ],
   "source": [
    "A .+ 2 .* f.(A) ./ A"
   ]
  },
  {
   "cell_type": "code",
   "execution_count": 37,
   "id": "13d18f2f-360c-4b1f-bd47-24f45610b0c3",
   "metadata": {},
   "outputs": [
    {
     "data": {
      "text/plain": [
       "3×3 Matrix{Float64}:\n",
       "  3.0   6.0   9.0\n",
       " 12.0  15.0  18.0\n",
       " 21.0  24.0  27.0"
      ]
     },
     "execution_count": 37,
     "metadata": {},
     "output_type": "execute_result"
    }
   ],
   "source": [
    "@. A + 2 * f(A) / A"
   ]
  },
  {
   "cell_type": "code",
   "execution_count": 38,
   "id": "30d3ef59-e4bc-451d-a85d-d4919e6737ca",
   "metadata": {},
   "outputs": [
    {
     "data": {
      "text/plain": [
       "3×3 Matrix{Float64}:\n",
       "  3.0   6.0   9.0\n",
       " 12.0  15.0  18.0\n",
       " 21.0  24.0  27.0"
      ]
     },
     "execution_count": 38,
     "metadata": {},
     "output_type": "execute_result"
    }
   ],
   "source": [
    "broadcast(x -> x + 2 * f(x) / x, A)"
   ]
  },
  {
   "cell_type": "code",
   "execution_count": 39,
   "id": "4468e97c-e884-42a7-afe4-a28af8338532",
   "metadata": {},
   "outputs": [
    {
     "data": {
      "image/svg+xml": [
       "<?xml version=\"1.0\" encoding=\"UTF-8\"?>\n",
       "<!DOCTYPE svg PUBLIC \"-//W3C//DTD SVG 1.1//EN\"\n",
       " \"http://www.w3.org/Graphics/SVG/1.1/DTD/svg11.dtd\">\n",
       "<svg xmlns=\"http://www.w3.org/2000/svg\" version=\"1.1\"\n",
       "     width=\"180mm\" height=\"25mm\"\n",
       "     viewBox=\"0 0 100 1\" preserveAspectRatio=\"none\"\n",
       "     shape-rendering=\"crispEdges\" stroke=\"none\">\n",
       "<rect width=\"1\" height=\".96\" x=\"0\" y=\"0\" fill=\"#000000\" />\n",
       "<rect width=\"1\" height=\".96\" x=\"1\" y=\"0\" fill=\"#FFFF74\" />\n",
       "<rect width=\"1\" height=\".96\" x=\"2\" y=\"0\" fill=\"#FF9BFF\" />\n",
       "<rect width=\"1\" height=\".96\" x=\"3\" y=\"0\" fill=\"#00D3FF\" />\n",
       "<rect width=\"1\" height=\".96\" x=\"4\" y=\"0\" fill=\"#E2630D\" />\n",
       "<rect width=\"1\" height=\".96\" x=\"5\" y=\"0\" fill=\"#007E00\" />\n",
       "<rect width=\"1\" height=\".96\" x=\"6\" y=\"0\" fill=\"#0050E6\" />\n",
       "<rect width=\"1\" height=\".96\" x=\"7\" y=\"0\" fill=\"#AC0047\" />\n",
       "<rect width=\"1\" height=\".96\" x=\"8\" y=\"0\" fill=\"#00FFC8\" />\n",
       "<rect width=\"1\" height=\".96\" x=\"9\" y=\"0\" fill=\"#006468\" />\n",
       "<rect width=\"1\" height=\".96\" x=\"10\" y=\"0\" fill=\"#FFD5C4\" />\n",
       "<rect width=\"1\" height=\".96\" x=\"11\" y=\"0\" fill=\"#6C5200\" />\n",
       "<rect width=\"1\" height=\".96\" x=\"12\" y=\"0\" fill=\"#7A7581\" />\n",
       "<rect width=\"1\" height=\".96\" x=\"13\" y=\"0\" fill=\"#44005C\" />\n",
       "<rect width=\"1\" height=\".96\" x=\"14\" y=\"0\" fill=\"#9E9E77\" />\n",
       "<rect width=\"1\" height=\".96\" x=\"15\" y=\"0\" fill=\"#FF5C78\" />\n",
       "<rect width=\"1\" height=\".96\" x=\"16\" y=\"0\" fill=\"#8197F1\" />\n",
       "<rect width=\"1\" height=\".96\" x=\"17\" y=\"0\" fill=\"#003200\" />\n",
       "<rect width=\"1\" height=\".96\" x=\"18\" y=\"0\" fill=\"#C721DD\" />\n",
       "<rect width=\"1\" height=\".96\" x=\"19\" y=\"0\" fill=\"#FFAD07\" />\n",
       "<rect width=\"1\" height=\".96\" x=\"20\" y=\"0\" fill=\"#611C00\" />\n",
       "<rect width=\"1\" height=\".96\" x=\"21\" y=\"0\" fill=\"#F3FFFA\" />\n",
       "<rect width=\"1\" height=\".96\" x=\"22\" y=\"0\" fill=\"#009E88\" />\n",
       "<rect width=\"1\" height=\".96\" x=\"23\" y=\"0\" fill=\"#5EC700\" />\n",
       "<rect width=\"1\" height=\".96\" x=\"24\" y=\"0\" fill=\"#002D54\" />\n",
       "<rect width=\"1\" height=\".96\" x=\"25\" y=\"0\" fill=\"#553C4A\" />\n",
       "<rect width=\"1\" height=\".96\" x=\"26\" y=\"0\" fill=\"#444439\" />\n",
       "<rect width=\"1\" height=\".96\" x=\"27\" y=\"0\" fill=\"#008FB6\" />\n",
       "<rect width=\"1\" height=\".96\" x=\"28\" y=\"0\" fill=\"#CFD4FD\" />\n",
       "<rect width=\"1\" height=\".96\" x=\"29\" y=\"0\" fill=\"#C40000\" />\n",
       "<rect width=\"1\" height=\".96\" x=\"30\" y=\"0\" fill=\"#A4675C\" />\n",
       "<rect width=\"1\" height=\".96\" x=\"31\" y=\"0\" fill=\"#BB8FA8\" />\n",
       "<rect width=\"1\" height=\".96\" x=\"32\" y=\"0\" fill=\"#290001\" />\n",
       "<rect width=\"1\" height=\".96\" x=\"33\" y=\"0\" fill=\"#A78600\" />\n",
       "<rect width=\"1\" height=\".96\" x=\"34\" y=\"0\" fill=\"#002D30\" />\n",
       "<rect width=\"1\" height=\".96\" x=\"35\" y=\"0\" fill=\"#C7DEAA\" />\n",
       "<rect width=\"1\" height=\".96\" x=\"36\" y=\"0\" fill=\"#8D9FA3\" />\n",
       "<rect width=\"1\" height=\".96\" x=\"37\" y=\"0\" fill=\"#6F5B95\" />\n",
       "<rect width=\"1\" height=\".96\" x=\"38\" y=\"0\" fill=\"#A1FFFF\" />\n",
       "<rect width=\"1\" height=\".96\" x=\"39\" y=\"0\" fill=\"#B39688\" />\n",
       "<rect width=\"1\" height=\".96\" x=\"40\" y=\"0\" fill=\"#4E6D50\" />\n",
       "<rect width=\"1\" height=\".96\" x=\"41\" y=\"0\" fill=\"#FF977B\" />\n",
       "<rect width=\"1\" height=\".96\" x=\"42\" y=\"0\" fill=\"#FFD1EC\" />\n",
       "<rect width=\"1\" height=\".96\" x=\"43\" y=\"0\" fill=\"#9E5100\" />\n",
       "<rect width=\"1\" height=\".96\" x=\"44\" y=\"0\" fill=\"#AE5B8E\" />\n",
       "<rect width=\"1\" height=\".96\" x=\"45\" y=\"0\" fill=\"#799400\" />\n",
       "<rect width=\"1\" height=\".96\" x=\"46\" y=\"0\" fill=\"#362200\" />\n",
       "<rect width=\"1\" height=\".96\" x=\"47\" y=\"0\" fill=\"#0E0026\" />\n",
       "<rect width=\"1\" height=\".96\" x=\"48\" y=\"0\" fill=\"#80765F\" />\n",
       "<rect width=\"1\" height=\".96\" x=\"49\" y=\"0\" fill=\"#485C00\" />\n",
       "<rect width=\"1\" height=\".96\" x=\"50\" y=\"0\" fill=\"#C8C2B5\" />\n",
       "<rect width=\"1\" height=\".96\" x=\"51\" y=\"0\" fill=\"#8800A1\" />\n",
       "<rect width=\"1\" height=\".96\" x=\"52\" y=\"0\" fill=\"#00A853\" />\n",
       "<rect width=\"1\" height=\".96\" x=\"53\" y=\"0\" fill=\"#FFE1AA\" />\n",
       "<rect width=\"1\" height=\".96\" x=\"54\" y=\"0\" fill=\"#674F42\" />\n",
       "<rect width=\"1\" height=\".96\" x=\"55\" y=\"0\" fill=\"#FF342D\" />\n",
       "<rect width=\"1\" height=\".96\" x=\"56\" y=\"0\" fill=\"#6B0041\" />\n",
       "<rect width=\"1\" height=\".96\" x=\"57\" y=\"0\" fill=\"#0806B1\" />\n",
       "<rect width=\"1\" height=\".96\" x=\"58\" y=\"0\" fill=\"#986DFF\" />\n",
       "<rect width=\"1\" height=\".96\" x=\"59\" y=\"0\" fill=\"#FF4EC7\" />\n",
       "<rect width=\"1\" height=\".96\" x=\"60\" y=\"0\" fill=\"#8AB9A2\" />\n",
       "<rect width=\"1\" height=\".96\" x=\"61\" y=\"0\" fill=\"#2EFF71\" />\n",
       "<rect width=\"1\" height=\".96\" x=\"62\" y=\"0\" fill=\"#005577\" />\n",
       "<rect width=\"1\" height=\".96\" x=\"63\" y=\"0\" fill=\"#0078E3\" />\n",
       "<rect width=\"1\" height=\".96\" x=\"64\" y=\"0\" fill=\"#B2ADB9\" />\n",
       "<rect width=\"1\" height=\".96\" x=\"65\" y=\"0\" fill=\"#00C3C6\" />\n",
       "<rect width=\"1\" height=\".96\" x=\"66\" y=\"0\" fill=\"#00AEFF\" />\n",
       "<rect width=\"1\" height=\".96\" x=\"67\" y=\"0\" fill=\"#4E545F\" />\n",
       "<rect width=\"1\" height=\".96\" x=\"68\" y=\"0\" fill=\"#FF9BB0\" />\n",
       "<rect width=\"1\" height=\".96\" x=\"69\" y=\"0\" fill=\"#FED206\" />\n",
       "<rect width=\"1\" height=\".96\" x=\"70\" y=\"0\" fill=\"#687B7A\" />\n",
       "<rect width=\"1\" height=\".96\" x=\"71\" y=\"0\" fill=\"#B1DCFC\" />\n",
       "<rect width=\"1\" height=\".96\" x=\"72\" y=\"0\" fill=\"#FFF6FF\" />\n",
       "<rect width=\"1\" height=\".96\" x=\"73\" y=\"0\" fill=\"#620019\" />\n",
       "<rect width=\"1\" height=\".96\" x=\"74\" y=\"0\" fill=\"#C79253\" />\n",
       "<rect width=\"1\" height=\".96\" x=\"75\" y=\"0\" fill=\"#A891CF\" />\n",
       "<rect width=\"1\" height=\".96\" x=\"76\" y=\"0\" fill=\"#EF007A\" />\n",
       "<rect width=\"1\" height=\".96\" x=\"77\" y=\"0\" fill=\"#B8CE00\" />\n",
       "<rect width=\"1\" height=\".96\" x=\"78\" y=\"0\" fill=\"#001700\" />\n",
       "<rect width=\"1\" height=\".96\" x=\"79\" y=\"0\" fill=\"#204B39\" />\n",
       "<rect width=\"1\" height=\".96\" x=\"80\" y=\"0\" fill=\"#875866\" />\n",
       "<rect width=\"1\" height=\".96\" x=\"81\" y=\"0\" fill=\"#B5FF4E\" />\n",
       "<rect width=\"1\" height=\".96\" x=\"82\" y=\"0\" fill=\"#B40080\" />\n",
       "<rect width=\"1\" height=\".96\" x=\"83\" y=\"0\" fill=\"#853F34\" />\n",
       "<rect width=\"1\" height=\".96\" x=\"84\" y=\"0\" fill=\"#69936B\" />\n",
       "<rect width=\"1\" height=\".96\" x=\"85\" y=\"0\" fill=\"#FFBC80\" />\n",
       "<rect width=\"1\" height=\".96\" x=\"86\" y=\"0\" fill=\"#4C3779\" />\n",
       "<rect width=\"1\" height=\".96\" x=\"87\" y=\"0\" fill=\"#323606\" />\n",
       "<rect width=\"1\" height=\".96\" x=\"88\" y=\"0\" fill=\"#008E94\" />\n",
       "<rect width=\"1\" height=\".96\" x=\"89\" y=\"0\" fill=\"#CAAC51\" />\n",
       "<rect width=\"1\" height=\".96\" x=\"90\" y=\"0\" fill=\"#787B3B\" />\n",
       "<rect width=\"1\" height=\".96\" x=\"91\" y=\"0\" fill=\"#B6F9D9\" />\n",
       "<rect width=\"1\" height=\".96\" x=\"92\" y=\"0\" fill=\"#DA003F\" />\n",
       "<rect width=\"1\" height=\".96\" x=\"93\" y=\"0\" fill=\"#2E2124\" />\n",
       "<rect width=\"1\" height=\".96\" x=\"94\" y=\"0\" fill=\"#005815\" />\n",
       "<rect width=\"1\" height=\".96\" x=\"95\" y=\"0\" fill=\"#FF8E1D\" />\n",
       "<rect width=\"1\" height=\".96\" x=\"96\" y=\"0\" fill=\"#6674B1\" />\n",
       "<rect width=\"1\" height=\".96\" x=\"97\" y=\"0\" fill=\"#00CDAD\" />\n",
       "<rect width=\"1\" height=\".96\" x=\"98\" y=\"0\" fill=\"#007F63\" />\n",
       "<rect width=\"1\" height=\".96\" x=\"99\" y=\"0\" fill=\"#996F3D\" />\n",
       "</svg>"
      ],
      "text/plain": [
       "100-element Array{RGB{N0f8},1} with eltype RGB{FixedPointNumbers.N0f8}:\n",
       " RGB{N0f8}(0.0,0.0,0.0)\n",
       " RGB{N0f8}(1.0,1.0,0.455)\n",
       " RGB{N0f8}(1.0,0.608,1.0)\n",
       " RGB{N0f8}(0.0,0.827,1.0)\n",
       " RGB{N0f8}(0.886,0.388,0.051)\n",
       " RGB{N0f8}(0.0,0.494,0.0)\n",
       " RGB{N0f8}(0.0,0.314,0.902)\n",
       " RGB{N0f8}(0.675,0.0,0.278)\n",
       " RGB{N0f8}(0.0,1.0,0.784)\n",
       " RGB{N0f8}(0.0,0.392,0.408)\n",
       " RGB{N0f8}(1.0,0.835,0.769)\n",
       " RGB{N0f8}(0.424,0.322,0.0)\n",
       " RGB{N0f8}(0.478,0.459,0.506)\n",
       " ⋮\n",
       " RGB{N0f8}(0.0,0.557,0.58)\n",
       " RGB{N0f8}(0.792,0.675,0.318)\n",
       " RGB{N0f8}(0.471,0.482,0.231)\n",
       " RGB{N0f8}(0.714,0.976,0.851)\n",
       " RGB{N0f8}(0.855,0.0,0.247)\n",
       " RGB{N0f8}(0.18,0.129,0.141)\n",
       " RGB{N0f8}(0.0,0.345,0.082)\n",
       " RGB{N0f8}(1.0,0.557,0.114)\n",
       " RGB{N0f8}(0.4,0.455,0.694)\n",
       " RGB{N0f8}(0.0,0.804,0.678)\n",
       " RGB{N0f8}(0.0,0.498,0.388)\n",
       " RGB{N0f8}(0.6,0.435,0.239)"
      ]
     },
     "execution_count": 39,
     "metadata": {},
     "output_type": "execute_result"
    }
   ],
   "source": [
    "using Colors\n",
    "palette = distinguishable_colors(100)"
   ]
  },
  {
   "cell_type": "markdown",
   "id": "d26221f7-edde-43a6-a8ec-5dabd4ecb06c",
   "metadata": {},
   "source": [
    "# rand(palette, 3, 3)"
   ]
  },
  {
   "cell_type": "code",
   "execution_count": null,
   "id": "6b97e845-b675-4ae4-98f3-806eb7ba1053",
   "metadata": {},
   "outputs": [],
   "source": [
    "# ЗАДАНИЯ ДЛЯ САМОСТОЯТЕЛЬНОГО ВЫПОЛНЕНИЯ"
   ]
  },
  {
   "cell_type": "code",
   "execution_count": 42,
   "id": "112188fb-74f0-4c1b-8d0d-cc9be28342cb",
   "metadata": {},
   "outputs": [
    {
     "name": "stdout",
     "output_type": "stream",
     "text": [
      "1 1\n",
      "2 4\n",
      "3 9\n",
      "4 16\n",
      "5 25\n",
      "6 36\n",
      "7 49\n",
      "8 64\n",
      "9 81\n",
      "10 100\n",
      "11 121\n",
      "12 144\n",
      "13 169\n",
      "14 196\n",
      "15 225\n",
      "16 256\n",
      "17 289\n",
      "18 324\n",
      "19 361\n",
      "20 400\n",
      "21 441\n",
      "22 484\n",
      "23 529\n",
      "24 576\n",
      "25 625\n",
      "26 676\n",
      "27 729\n",
      "28 784\n",
      "29 841\n",
      "30 900\n",
      "31 961\n",
      "32 1024\n",
      "33 1089\n",
      "34 1156\n",
      "35 1225\n",
      "36 1296\n",
      "37 1369\n",
      "38 1444\n",
      "39 1521\n",
      "40 1600\n",
      "41 1681\n",
      "42 1764\n",
      "43 1849\n",
      "44 1936\n",
      "45 2025\n",
      "46 2116\n",
      "47 2209\n",
      "48 2304\n",
      "49 2401\n",
      "50 2500\n",
      "51 2601\n",
      "52 2704\n",
      "53 2809\n",
      "54 2916\n",
      "55 3025\n",
      "56 3136\n",
      "57 3249\n",
      "58 3364\n",
      "59 3481\n",
      "60 3600\n",
      "61 3721\n",
      "62 3844\n",
      "63 3969\n",
      "64 4096\n",
      "65 4225\n",
      "66 4356\n",
      "67 4489\n",
      "68 4624\n",
      "69 4761\n",
      "70 4900\n",
      "71 5041\n",
      "72 5184\n",
      "73 5329\n",
      "74 5476\n",
      "75 5625\n",
      "76 5776\n",
      "77 5929\n",
      "78 6084\n",
      "79 6241\n",
      "80 6400\n",
      "81 6561\n",
      "82 6724\n",
      "83 6889\n",
      "84 7056\n",
      "85 7225\n",
      "86 7396\n",
      "87 7569\n",
      "88 7744\n",
      "89 7921\n",
      "90 8100\n",
      "91 8281\n",
      "92 8464\n",
      "93 8649\n",
      "94 8836\n",
      "95 9025\n",
      "96 9216\n",
      "97 9409\n",
      "98 9604\n",
      "99 9801\n",
      "100 10000\n"
     ]
    }
   ],
   "source": [
    "# 1.\n",
    "\n",
    "n = 1\n",
    "while n<=100\n",
    "    println(\"$n \", n^2)\n",
    "    n = n+1\n",
    "end\n"
   ]
  },
  {
   "cell_type": "markdown",
   "id": "1b8def55-c3a0-4ef9-bae1-880e514e9377",
   "metadata": {},
   "source": [
    "for n in 1:100\n",
    "    println(\"$n \", n^2)\n",
    "end"
   ]
  },
  {
   "cell_type": "markdown",
   "id": "414cd74a-b9dc-4e87-9ba9-0666e5dc1985",
   "metadata": {},
   "source": [
    "for n in 1:100\n",
    "    println(n, \" \", n^2)\n",
    "end"
   ]
  },
  {
   "cell_type": "code",
   "execution_count": 44,
   "id": "cc4e176a-3218-4cad-9887-0374f793cb21",
   "metadata": {},
   "outputs": [
    {
     "data": {
      "text/plain": [
       "Dict{Any, Any} with 100 entries:\n",
       "  5  => 25\n",
       "  56 => 3136\n",
       "  35 => 1225\n",
       "  55 => 3025\n",
       "  60 => 3600\n",
       "  30 => 900\n",
       "  32 => 1024\n",
       "  6  => 36\n",
       "  67 => 4489\n",
       "  45 => 2025\n",
       "  73 => 5329\n",
       "  64 => 4096\n",
       "  90 => 8100\n",
       "  4  => 16\n",
       "  13 => 169\n",
       "  54 => 2916\n",
       "  63 => 3969\n",
       "  86 => 7396\n",
       "  91 => 8281\n",
       "  62 => 3844\n",
       "  58 => 3364\n",
       "  52 => 2704\n",
       "  12 => 144\n",
       "  28 => 784\n",
       "  75 => 5625\n",
       "  ⋮  => ⋮"
      ]
     },
     "execution_count": 44,
     "metadata": {},
     "output_type": "execute_result"
    }
   ],
   "source": [
    "squares = Dict()\n",
    "for i in 1:100\n",
    "    squares[i] = i^2\n",
    "end\n",
    "pairs(squares)"
   ]
  },
  {
   "cell_type": "code",
   "execution_count": 276,
   "id": "c3ffa9bb-e21f-4cc9-bc36-2f6e7d7f8549",
   "metadata": {},
   "outputs": [
    {
     "data": {
      "text/plain": [
       "Dict{Any, Any} with 100 entries:\n",
       "  5  => 25\n",
       "  56 => 3136\n",
       "  35 => 1225\n",
       "  55 => 3025\n",
       "  60 => 3600\n",
       "  30 => 900\n",
       "  32 => 1024\n",
       "  6  => 36\n",
       "  67 => 4489\n",
       "  45 => 2025\n",
       "  73 => 5329\n",
       "  64 => 4096\n",
       "  90 => 8100\n",
       "  4  => 16\n",
       "  13 => 169\n",
       "  54 => 2916\n",
       "  63 => 3969\n",
       "  86 => 7396\n",
       "  91 => 8281\n",
       "  62 => 3844\n",
       "  58 => 3364\n",
       "  52 => 2704\n",
       "  12 => 144\n",
       "  28 => 784\n",
       "  75 => 5625\n",
       "  ⋮  => ⋮"
      ]
     },
     "execution_count": 276,
     "metadata": {},
     "output_type": "execute_result"
    }
   ],
   "source": [
    "n = 1\n",
    "while n<=100\n",
    "    squares[n] = n^2\n",
    "    n = n+1\n",
    "end\n",
    "pairs(squares)"
   ]
  },
  {
   "cell_type": "code",
   "execution_count": 49,
   "id": "79729565-a538-4c69-bcc3-51a94c64dec5",
   "metadata": {},
   "outputs": [
    {
     "data": {
      "text/plain": [
       "100-element Vector{Any}:\n",
       "     1\n",
       "     4\n",
       "     9\n",
       "    16\n",
       "    25\n",
       "    36\n",
       "    49\n",
       "    64\n",
       "    81\n",
       "   100\n",
       "   121\n",
       "   144\n",
       "   169\n",
       "     ⋮\n",
       "  7921\n",
       "  8100\n",
       "  8281\n",
       "  8464\n",
       "  8649\n",
       "  8836\n",
       "  9025\n",
       "  9216\n",
       "  9409\n",
       "  9604\n",
       "  9801\n",
       " 10000"
      ]
     },
     "execution_count": 49,
     "metadata": {},
     "output_type": "execute_result"
    }
   ],
   "source": [
    "squares_arr = []\n",
    "for i in 1:100\n",
    "    append!(squares_arr, i^2)\n",
    "end\n",
    "squares_arr"
   ]
  },
  {
   "cell_type": "code",
   "execution_count": 278,
   "id": "cf9b2587-57c8-49ba-8378-eefaf289b2ba",
   "metadata": {},
   "outputs": [
    {
     "name": "stdout",
     "output_type": "stream",
     "text": [
      "2\n"
     ]
    }
   ],
   "source": [
    "# 2\n",
    "\n",
    "N = 2\n",
    "if (N%2==0)\n",
    "    println(N)\n",
    "else\n",
    "    println(\"нечётное\")\n",
    "end"
   ]
  },
  {
   "cell_type": "code",
   "execution_count": 279,
   "id": "8a4242f6-c6b2-4f85-9f5a-6cc8b3c003b0",
   "metadata": {},
   "outputs": [
    {
     "name": "stdout",
     "output_type": "stream",
     "text": [
      "2\n"
     ]
    }
   ],
   "source": [
    "(N%2==0) ? println(N) : println(\"нечётное\")"
   ]
  },
  {
   "cell_type": "code",
   "execution_count": 54,
   "id": "a4196e3f-0dd7-42a1-a8a1-4f9b8c08180d",
   "metadata": {},
   "outputs": [
    {
     "data": {
      "text/plain": [
       "2"
      ]
     },
     "execution_count": 54,
     "metadata": {},
     "output_type": "execute_result"
    }
   ],
   "source": [
    "# 3\n",
    "\n",
    "function add_one(x)\n",
    "    x+1\n",
    "end\n",
    "\n",
    "add_one(1)"
   ]
  },
  {
   "cell_type": "code",
   "execution_count": 82,
   "id": "23b15767-7564-4d44-b272-94cc11339583",
   "metadata": {},
   "outputs": [
    {
     "data": {
      "text/plain": [
       "5×5 Matrix{Float64}:\n",
       " 1.0  1.0  1.0  1.0  1.0\n",
       " 1.0  1.0  1.0  1.0  1.0\n",
       " 1.0  1.0  1.0  1.0  1.0\n",
       " 1.0  1.0  1.0  1.0  1.0\n",
       " 1.0  1.0  1.0  1.0  1.0"
      ]
     },
     "execution_count": 82,
     "metadata": {},
     "output_type": "execute_result"
    }
   ],
   "source": [
    "# 4\n",
    "\n",
    "A = ones(5,5)"
   ]
  },
  {
   "cell_type": "code",
   "execution_count": 83,
   "id": "4ec2de02-fd1a-4a0a-a492-33e151bf9faf",
   "metadata": {},
   "outputs": [
    {
     "data": {
      "text/plain": [
       "5×5 Matrix{Float64}:\n",
       "  2.0   3.0   4.0   5.0   6.0\n",
       "  7.0   8.0   9.0  10.0  11.0\n",
       " 12.0  13.0  14.0  15.0  16.0\n",
       " 17.0  18.0  19.0  20.0  21.0\n",
       " 22.0  23.0  24.0  25.0  26.0"
      ]
     },
     "execution_count": 83,
     "metadata": {},
     "output_type": "execute_result"
    }
   ],
   "source": [
    "for i in 1:5, j in 1:5\n",
    "    A[i, j:5] = broadcast(add_one, A[i, j:5])\n",
    "    if (i!=5 && j==5)\n",
    "        A[i+1, :] = fill(A[i,5], (1,5))\n",
    "    end\n",
    "end\n",
    "A"
   ]
  },
  {
   "cell_type": "code",
   "execution_count": 90,
   "id": "e927ba69-3ef0-45ce-a1ce-703a02caa43b",
   "metadata": {},
   "outputs": [
    {
     "data": {
      "text/plain": [
       "3×3 Matrix{Int64}:\n",
       "  1   1   3\n",
       "  5   2   6\n",
       " -2  -1  -3"
      ]
     },
     "execution_count": 90,
     "metadata": {},
     "output_type": "execute_result"
    }
   ],
   "source": [
    "# 5\n",
    "\n",
    "A = [ [1, 5, -2] [1, 2, -1] [3, 6, -3]]"
   ]
  },
  {
   "cell_type": "code",
   "execution_count": 92,
   "id": "a33a2d9a-671e-4d15-804d-098d5798c9a7",
   "metadata": {},
   "outputs": [
    {
     "data": {
      "text/plain": [
       "3×3 Matrix{Int64}:\n",
       " 0  0  0\n",
       " 0  0  0\n",
       " 0  0  0"
      ]
     },
     "execution_count": 92,
     "metadata": {},
     "output_type": "execute_result"
    }
   ],
   "source": [
    "A^3"
   ]
  },
  {
   "cell_type": "code",
   "execution_count": 94,
   "id": "87f304b5-ebac-42a2-8326-760c61d94b3c",
   "metadata": {},
   "outputs": [
    {
     "data": {
      "text/plain": [
       "3×3 Matrix{Int64}:\n",
       "  1   1   4\n",
       "  5   2   8\n",
       " -2  -1  -4"
      ]
     },
     "execution_count": 94,
     "metadata": {},
     "output_type": "execute_result"
    }
   ],
   "source": [
    "A[:, 3] = A[:,2]+A[:,3]\n",
    "A"
   ]
  },
  {
   "cell_type": "code",
   "execution_count": 103,
   "id": "1033d169-da67-45bb-b082-e4646dda681b",
   "metadata": {},
   "outputs": [
    {
     "data": {
      "text/plain": [
       "15×3 Matrix{Int64}:\n",
       " 10  -10  10\n",
       " 10  -10  10\n",
       " 10  -10  10\n",
       " 10  -10  10\n",
       " 10  -10  10\n",
       " 10  -10  10\n",
       " 10  -10  10\n",
       " 10  -10  10\n",
       " 10  -10  10\n",
       " 10  -10  10\n",
       " 10  -10  10\n",
       " 10  -10  10\n",
       " 10  -10  10\n",
       " 10  -10  10\n",
       " 10  -10  10"
      ]
     },
     "execution_count": 103,
     "metadata": {},
     "output_type": "execute_result"
    }
   ],
   "source": [
    "# 6\n",
    "\n",
    "B = repeat([10 -10 10], 15)"
   ]
  },
  {
   "cell_type": "code",
   "execution_count": 104,
   "id": "9f74e43c-c6ec-408b-a56f-5539e4280cea",
   "metadata": {},
   "outputs": [
    {
     "data": {
      "text/plain": [
       "3×3 Matrix{Int64}:\n",
       "  1500  -1500   1500\n",
       " -1500   1500  -1500\n",
       "  1500  -1500   1500"
      ]
     },
     "execution_count": 104,
     "metadata": {},
     "output_type": "execute_result"
    }
   ],
   "source": [
    "C = B' * B"
   ]
  },
  {
   "cell_type": "code",
   "execution_count": 115,
   "id": "ec8a6d50-83d2-443c-853d-debc8ff88949",
   "metadata": {},
   "outputs": [
    {
     "data": {
      "text/plain": [
       "6×6 Matrix{Float64}:\n",
       " 0.0  1.0  0.0  0.0  0.0  0.0\n",
       " 1.0  0.0  1.0  0.0  0.0  0.0\n",
       " 0.0  1.0  0.0  1.0  0.0  0.0\n",
       " 0.0  0.0  1.0  0.0  1.0  0.0\n",
       " 0.0  0.0  0.0  1.0  0.0  1.0\n",
       " 0.0  0.0  0.0  0.0  1.0  0.0"
      ]
     },
     "execution_count": 115,
     "metadata": {},
     "output_type": "execute_result"
    }
   ],
   "source": [
    "# 7\n",
    "\n",
    "Z = zeros(6,6)\n",
    "E = ones(6,6)\n",
    "\n",
    "Z1 = zeros(6,6)\n",
    "\n",
    "for i in 1:6, j in 1:6\n",
    "    if (abs(i-j)==1)\n",
    "        Z1[i,j] = E[i,j]\n",
    "    end\n",
    "end\n",
    "Z1"
   ]
  },
  {
   "cell_type": "code",
   "execution_count": 118,
   "id": "5da656f5-4f2e-4cfe-ba34-e16313e0583b",
   "metadata": {
    "tags": []
   },
   "outputs": [
    {
     "data": {
      "text/plain": [
       "6×6 Matrix{Float64}:\n",
       " 1.0  0.0  1.0  0.0  0.0  0.0\n",
       " 0.0  1.0  0.0  1.0  0.0  0.0\n",
       " 1.0  0.0  1.0  0.0  1.0  0.0\n",
       " 0.0  1.0  0.0  1.0  0.0  1.0\n",
       " 0.0  0.0  1.0  0.0  1.0  0.0\n",
       " 0.0  0.0  0.0  1.0  0.0  1.0"
      ]
     },
     "execution_count": 118,
     "metadata": {},
     "output_type": "execute_result"
    }
   ],
   "source": [
    "Z2 = zeros(6,6)\n",
    "for i in 1:6, j in 1:6\n",
    "    if (abs(i-j)==2 || i==j)\n",
    "        Z2[i,j] = E[i,j]\n",
    "    end\n",
    "end\n",
    "Z2"
   ]
  },
  {
   "cell_type": "code",
   "execution_count": 128,
   "id": "d8a8b615-448c-4482-8519-98891c872a3e",
   "metadata": {},
   "outputs": [
    {
     "data": {
      "text/plain": [
       "6×6 Matrix{Float64}:\n",
       " 0.0  0.0  0.0  1.0  0.0  1.0\n",
       " 0.0  0.0  1.0  0.0  1.0  0.0\n",
       " 0.0  1.0  0.0  1.0  0.0  1.0\n",
       " 1.0  0.0  1.0  0.0  1.0  0.0\n",
       " 0.0  1.0  0.0  1.0  0.0  0.0\n",
       " 1.0  0.0  1.0  0.0  0.0  0.0"
      ]
     },
     "execution_count": 128,
     "metadata": {},
     "output_type": "execute_result"
    }
   ],
   "source": [
    "Z3 = zeros(6,6)\n",
    "for i in 1:6, j in 1:6\n",
    "    if (j == 7-i || j == 5-i || j == 9-i)\n",
    "        Z3[i,j] = E[i,j]\n",
    "    end\n",
    "end\n",
    "Z3"
   ]
  },
  {
   "cell_type": "code",
   "execution_count": 133,
   "id": "a8c05d45-8d08-4140-8b86-31bc7c76242e",
   "metadata": {},
   "outputs": [
    {
     "data": {
      "text/plain": [
       "6×6 Matrix{Float64}:\n",
       " 1.0  0.0  1.0  0.0  1.0  0.0\n",
       " 0.0  1.0  0.0  1.0  0.0  1.0\n",
       " 1.0  0.0  1.0  0.0  1.0  0.0\n",
       " 0.0  1.0  0.0  1.0  0.0  1.0\n",
       " 1.0  0.0  1.0  0.0  1.0  0.0\n",
       " 0.0  1.0  0.0  1.0  0.0  1.0"
      ]
     },
     "execution_count": 133,
     "metadata": {},
     "output_type": "execute_result"
    }
   ],
   "source": [
    "Z4 = zeros(6,6)\n",
    "for i in 1:6, j in 1:6\n",
    "    if (j == i || abs(i-j)==2 || abs(i-j)==4 )\n",
    "        Z4[i,j] = E[i,j]\n",
    "    end\n",
    "end\n",
    "Z4"
   ]
  },
  {
   "cell_type": "code",
   "execution_count": 218,
   "id": "9e01a70a-c577-4bab-94f5-801fd1ed03bf",
   "metadata": {},
   "outputs": [
    {
     "data": {
      "text/plain": [
       "outer (generic function with 1 method)"
      ]
     },
     "execution_count": 218,
     "metadata": {},
     "output_type": "execute_result"
    }
   ],
   "source": [
    "#8\n",
    "function outer(x,y,operation)\n",
    "    res = zeros(size(x)[1], size(y)[2])\n",
    "    for i in 1:size(x)[1], j in 1:size(y)[2], k in 1:size(x)[2]\n",
    "        res[i,j]+=operation(x[i,k],y[k,j])\n",
    "    end\n",
    "    return res\n",
    "end        "
   ]
  },
  {
   "cell_type": "code",
   "execution_count": 228,
   "id": "5a8804a6-7e53-4ac7-9db0-23d2459bce43",
   "metadata": {},
   "outputs": [
    {
     "data": {
      "text/plain": [
       "5×1 Matrix{Int64}:\n",
       " 0\n",
       " 1\n",
       " 2\n",
       " 3\n",
       " 4"
      ]
     },
     "execution_count": 228,
     "metadata": {},
     "output_type": "execute_result"
    }
   ],
   "source": [
    "aa = collect(0:4)\n",
    "aa = reshape(aa, (size(aa,1), size(aa,2)))"
   ]
  },
  {
   "cell_type": "code",
   "execution_count": 229,
   "id": "1a434e69-663d-4c19-8eaf-69874d48abdf",
   "metadata": {},
   "outputs": [
    {
     "data": {
      "text/plain": [
       "5×5 Matrix{Float64}:\n",
       " 0.0  1.0  2.0  3.0  4.0\n",
       " 1.0  2.0  3.0  4.0  5.0\n",
       " 2.0  3.0  4.0  5.0  6.0\n",
       " 3.0  4.0  5.0  6.0  7.0\n",
       " 4.0  5.0  6.0  7.0  8.0"
      ]
     },
     "execution_count": 229,
     "metadata": {},
     "output_type": "execute_result"
    }
   ],
   "source": [
    "A1 = outer(aa, aa', +)"
   ]
  },
  {
   "cell_type": "code",
   "execution_count": 231,
   "id": "7b1baf6c-bf6e-423e-88c9-1558b4495e70",
   "metadata": {},
   "outputs": [
    {
     "data": {
      "text/plain": [
       "5×5 Matrix{Float64}:\n",
       " 0.0   0.0   0.0    0.0     0.0\n",
       " 1.0   1.0   1.0    1.0     1.0\n",
       " 2.0   4.0   8.0   16.0    32.0\n",
       " 3.0   9.0  27.0   81.0   243.0\n",
       " 4.0  16.0  64.0  256.0  1024.0"
      ]
     },
     "execution_count": 231,
     "metadata": {},
     "output_type": "execute_result"
    }
   ],
   "source": [
    "A2 = outer(aa, collect(1:5)', ^)"
   ]
  },
  {
   "cell_type": "code",
   "execution_count": 239,
   "id": "b0114b29-5559-42fe-bb28-b555400c3ea8",
   "metadata": {},
   "outputs": [
    {
     "data": {
      "text/plain": [
       "5×5 Matrix{Float64}:\n",
       " 0.0  1.0  2.0  3.0  4.0\n",
       " 1.0  2.0  3.0  4.0  0.0\n",
       " 2.0  3.0  4.0  0.0  1.0\n",
       " 3.0  4.0  0.0  1.0  2.0\n",
       " 4.0  0.0  1.0  2.0  3.0"
      ]
     },
     "execution_count": 239,
     "metadata": {},
     "output_type": "execute_result"
    }
   ],
   "source": [
    "A3 = .%(outer(aa, aa',+),5)"
   ]
  },
  {
   "cell_type": "code",
   "execution_count": 241,
   "id": "a809d6fe-2b5f-4b18-829e-f481304b5530",
   "metadata": {},
   "outputs": [
    {
     "data": {
      "text/plain": [
       "10×10 Matrix{Float64}:\n",
       " 0.0  1.0  2.0  3.0  4.0  5.0  6.0  7.0  8.0  9.0\n",
       " 1.0  2.0  3.0  4.0  5.0  6.0  7.0  8.0  9.0  0.0\n",
       " 2.0  3.0  4.0  5.0  6.0  7.0  8.0  9.0  0.0  1.0\n",
       " 3.0  4.0  5.0  6.0  7.0  8.0  9.0  0.0  1.0  2.0\n",
       " 4.0  5.0  6.0  7.0  8.0  9.0  0.0  1.0  2.0  3.0\n",
       " 5.0  6.0  7.0  8.0  9.0  0.0  1.0  2.0  3.0  4.0\n",
       " 6.0  7.0  8.0  9.0  0.0  1.0  2.0  3.0  4.0  5.0\n",
       " 7.0  8.0  9.0  0.0  1.0  2.0  3.0  4.0  5.0  6.0\n",
       " 8.0  9.0  0.0  1.0  2.0  3.0  4.0  5.0  6.0  7.0\n",
       " 9.0  0.0  1.0  2.0  3.0  4.0  5.0  6.0  7.0  8.0"
      ]
     },
     "execution_count": 241,
     "metadata": {},
     "output_type": "execute_result"
    }
   ],
   "source": [
    "bb = collect(0:9)\n",
    "bb = reshape(bb, (size(bb,1), size(bb,2)))\n",
    "A4 = .%(outer(bb, bb',+),10)"
   ]
  },
  {
   "cell_type": "code",
   "execution_count": 246,
   "id": "188fb4cb-005a-4e43-8ce9-51dc35a7a14e",
   "metadata": {},
   "outputs": [
    {
     "data": {
      "text/plain": [
       "9×9 Matrix{Float64}:\n",
       " 0.0  8.0  7.0  6.0  5.0  4.0  3.0  2.0  1.0\n",
       " 1.0  0.0  8.0  7.0  6.0  5.0  4.0  3.0  2.0\n",
       " 2.0  1.0  0.0  8.0  7.0  6.0  5.0  4.0  3.0\n",
       " 3.0  2.0  1.0  0.0  8.0  7.0  6.0  5.0  4.0\n",
       " 4.0  3.0  2.0  1.0  0.0  8.0  7.0  6.0  5.0\n",
       " 5.0  4.0  3.0  2.0  1.0  0.0  8.0  7.0  6.0\n",
       " 6.0  5.0  4.0  3.0  2.0  1.0  0.0  8.0  7.0\n",
       " 7.0  6.0  5.0  4.0  3.0  2.0  1.0  0.0  8.0\n",
       " 8.0  7.0  6.0  5.0  4.0  3.0  2.0  1.0  0.0"
      ]
     },
     "execution_count": 246,
     "metadata": {},
     "output_type": "execute_result"
    }
   ],
   "source": [
    "cc = collect(0:8)\n",
    "dd = collect(9:-1:1)\n",
    "cc = reshape(cc, (size(cc,1), size(cc,2)))\n",
    "dd = reshape(dd, (size(dd,1), size(dd,2)))\n",
    "\n",
    "A5 = .%(outer(cc, dd', +),9)"
   ]
  },
  {
   "cell_type": "code",
   "execution_count": 249,
   "id": "f143e74c-8903-431b-95b8-eccb20030bc4",
   "metadata": {},
   "outputs": [
    {
     "data": {
      "text/plain": [
       "5×5 Matrix{Int64}:\n",
       " 1  2  3  4  5\n",
       " 2  1  2  3  4\n",
       " 3  2  1  2  3\n",
       " 4  3  2  1  2\n",
       " 5  4  3  2  1"
      ]
     },
     "execution_count": 249,
     "metadata": {},
     "output_type": "execute_result"
    }
   ],
   "source": [
    "#9\n",
    "\n",
    "A = [1 2 3 4 5; 2 1 2 3 4; 3 2 1 2 3; 4 3 2 1 2; 5 4 3 2 1]"
   ]
  },
  {
   "cell_type": "code",
   "execution_count": 250,
   "id": "b1cba528-adfb-49a9-a809-271446695654",
   "metadata": {},
   "outputs": [
    {
     "data": {
      "text/plain": [
       "1×5 Matrix{Int64}:\n",
       " 7  -1  -3  5  17"
      ]
     },
     "execution_count": 250,
     "metadata": {},
     "output_type": "execute_result"
    }
   ],
   "source": [
    "y = [ 7 -1 -3 5 17]"
   ]
  },
  {
   "cell_type": "code",
   "execution_count": 251,
   "id": "fc0ecfba-99f4-465e-94c3-1b9ac05bae6b",
   "metadata": {},
   "outputs": [
    {
     "data": {
      "text/plain": [
       "solveSLAU (generic function with 1 method)"
      ]
     },
     "execution_count": 251,
     "metadata": {},
     "output_type": "execute_result"
    }
   ],
   "source": [
    "function solveSLAU(A,y)\n",
    "    inv(A)*y\n",
    "end"
   ]
  },
  {
   "cell_type": "code",
   "execution_count": 256,
   "id": "b8e42478-c5ed-45d3-876e-aac91462fad9",
   "metadata": {},
   "outputs": [
    {
     "data": {
      "text/plain": [
       "5×1 Matrix{Float64}:\n",
       " -1.9999999999999996\n",
       "  3.0\n",
       "  5.0\n",
       "  2.0\n",
       " -4.0"
      ]
     },
     "execution_count": 256,
     "metadata": {},
     "output_type": "execute_result"
    }
   ],
   "source": [
    "X = solveSLAU(A,y')"
   ]
  },
  {
   "cell_type": "code",
   "execution_count": 257,
   "id": "561e4194-eba4-48f4-a4ab-730a0712707a",
   "metadata": {},
   "outputs": [
    {
     "data": {
      "text/plain": [
       "6×10 Matrix{Int64}:\n",
       " 6  7  1   8  8  5   6   8   6  4\n",
       " 4  1  1  10  4  2   7   2   4  1\n",
       " 2  5  9  10  2  8   5   1   7  1\n",
       " 3  3  7   3  9  8   8   2   4  3\n",
       " 5  9  4   9  6  7  10   2   5  3\n",
       " 4  4  5   9  9  8   2  10  10  5"
      ]
     },
     "execution_count": 257,
     "metadata": {},
     "output_type": "execute_result"
    }
   ],
   "source": [
    "# 10\n",
    "\n",
    "M = rand(1:10, 6, 10)"
   ]
  },
  {
   "cell_type": "code",
   "execution_count": 263,
   "id": "b2383139-f702-4d34-a96d-885e949adb4f",
   "metadata": {},
   "outputs": [
    {
     "name": "stdout",
     "output_type": "stream",
     "text": [
      "1 8\n",
      "2 2\n",
      "3 6\n",
      "4 4\n",
      "5 7\n",
      "6 7\n"
     ]
    }
   ],
   "source": [
    "N = 4\n",
    "for i in 1:size(M,1)\n",
    "    k = 0\n",
    "for j in 1:size(M,2)\n",
    "    if (M[i,j] > N)\n",
    "            k = k+1\n",
    "    end\n",
    "    end\n",
    "    println(i, \" \", k )\n",
    "end"
   ]
  },
  {
   "cell_type": "code",
   "execution_count": 277,
   "id": "849e86ee-759b-4a96-8f7b-c682703e151b",
   "metadata": {},
   "outputs": [],
   "source": [
    "NM = 7\n",
    "for i in 1:size(M,1)\n",
    "    if (length(findall(M[i,:] .== NM))==2)\n",
    "        println(i)\n",
    "    end\n",
    "end"
   ]
  },
  {
   "cell_type": "code",
   "execution_count": 271,
   "id": "54a5ae98-8403-43bd-a49c-4495760e6b6d",
   "metadata": {},
   "outputs": [
    {
     "name": "stdout",
     "output_type": "stream",
     "text": [
      "1 2\n",
      "1 3\n",
      "1 4\n",
      "1 5\n",
      "1 6\n",
      "2 3\n",
      "2 4\n",
      "2 5\n",
      "2 6\n",
      "3 4\n",
      "3 5\n",
      "3 6\n",
      "4 5\n",
      "4 6\n",
      "5 6\n"
     ]
    }
   ],
   "source": [
    "K = 75\n",
    "for i in 1:size(M,1)\n",
    "    for u in i+1:size(M,1)\n",
    "        if (sum(M[i,:]+M[u,:]) > K)\n",
    "            println(i, \" \", u)\n",
    "        end\n",
    "    end\n",
    "end"
   ]
  },
  {
   "cell_type": "code",
   "execution_count": 272,
   "id": "a94d2f70-b871-48dd-9413-30983143de90",
   "metadata": {},
   "outputs": [
    {
     "data": {
      "text/plain": [
       "639215.2833333334"
      ]
     },
     "execution_count": 272,
     "metadata": {},
     "output_type": "execute_result"
    }
   ],
   "source": [
    "# 11\n",
    "\n",
    "r1 = 0\n",
    "for i in 1:20, j in 1:5\n",
    "    r1 += i^4/(3+j)\n",
    "end\n",
    "r1"
   ]
  },
  {
   "cell_type": "code",
   "execution_count": 273,
   "id": "971a6ef3-b77b-43e2-a07a-2058a06ca3ca",
   "metadata": {},
   "outputs": [
    {
     "data": {
      "text/plain": [
       "89912.02146097136"
      ]
     },
     "execution_count": 273,
     "metadata": {},
     "output_type": "execute_result"
    }
   ],
   "source": [
    "r2 = 0\n",
    "for i in 1:20, j in 1:5\n",
    "    r2 += i^4/(3+i*j)\n",
    "end\n",
    "r2"
   ]
  }
 ],
 "metadata": {
  "kernelspec": {
   "display_name": "Julia 1.8.2",
   "language": "julia",
   "name": "julia-1.8"
  },
  "language_info": {
   "file_extension": ".jl",
   "mimetype": "application/julia",
   "name": "julia",
   "version": "1.8.2"
  }
 },
 "nbformat": 4,
 "nbformat_minor": 5
}
