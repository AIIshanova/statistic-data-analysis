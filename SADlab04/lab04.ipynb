{
 "cells": [
  {
   "cell_type": "code",
   "execution_count": 6,
   "id": "9f058384-737d-4345-9661-13ccaf7e4a2e",
   "metadata": {},
   "outputs": [
    {
     "data": {
      "text/plain": [
       "4×3 Matrix{Int64}:\n",
       " 8  18   6\n",
       " 1  18  15\n",
       " 9   1   8\n",
       " 1   9  12"
      ]
     },
     "execution_count": 6,
     "metadata": {},
     "output_type": "execute_result"
    }
   ],
   "source": [
    "# Массив 4x3 со случайными целыми числами (от 1 до 20):\n",
    "  a = rand(1:20,(4,3))"
   ]
  },
  {
   "cell_type": "code",
   "execution_count": 7,
   "id": "52e0b964-9f7c-477c-a534-9cd6e26272ba",
   "metadata": {},
   "outputs": [
    {
     "data": {
      "text/plain": [
       "106"
      ]
     },
     "execution_count": 7,
     "metadata": {},
     "output_type": "execute_result"
    }
   ],
   "source": [
    "# Поэлементная сумма:\n",
    "sum(a)"
   ]
  },
  {
   "cell_type": "code",
   "execution_count": 8,
   "id": "c0fb5ca6-1c63-43e8-8e92-8262dba60b7a",
   "metadata": {},
   "outputs": [
    {
     "data": {
      "text/plain": [
       "1×3 Matrix{Int64}:\n",
       " 19  46  41"
      ]
     },
     "execution_count": 8,
     "metadata": {},
     "output_type": "execute_result"
    }
   ],
   "source": [
    "# Поэлементная сумма по столбцам:\n",
    "sum(a,dims=1)"
   ]
  },
  {
   "cell_type": "code",
   "execution_count": 9,
   "id": "83f38260-0415-4347-b79c-9e751c16bf00",
   "metadata": {},
   "outputs": [
    {
     "data": {
      "text/plain": [
       "4×1 Matrix{Int64}:\n",
       " 32\n",
       " 34\n",
       " 18\n",
       " 22"
      ]
     },
     "execution_count": 9,
     "metadata": {},
     "output_type": "execute_result"
    }
   ],
   "source": [
    "# Поэлементная сумма по строкам:\n",
    "sum(a,dims=2)"
   ]
  },
  {
   "cell_type": "code",
   "execution_count": 10,
   "id": "2908b02a-7953-48dc-9952-a9b2b1e6cd23",
   "metadata": {},
   "outputs": [
    {
     "data": {
      "text/plain": [
       "1813985280"
      ]
     },
     "execution_count": 10,
     "metadata": {},
     "output_type": "execute_result"
    }
   ],
   "source": [
    "# Поэлементное произведение:\n",
    "prod(a)"
   ]
  },
  {
   "cell_type": "code",
   "execution_count": 11,
   "id": "3a62f5b6-9653-4694-8f88-871858f357be",
   "metadata": {},
   "outputs": [
    {
     "data": {
      "text/plain": [
       "1×3 Matrix{Int64}:\n",
       " 72  2916  8640"
      ]
     },
     "execution_count": 11,
     "metadata": {},
     "output_type": "execute_result"
    }
   ],
   "source": [
    "# Поэлементное произведение по столбцам:\n",
    "prod(a,dims=1)"
   ]
  },
  {
   "cell_type": "code",
   "execution_count": 12,
   "id": "3794e7a8-c5c6-4f9b-83d2-d90a882759d1",
   "metadata": {},
   "outputs": [
    {
     "data": {
      "text/plain": [
       "4×1 Matrix{Int64}:\n",
       " 864\n",
       " 270\n",
       "  72\n",
       " 108"
      ]
     },
     "execution_count": 12,
     "metadata": {},
     "output_type": "execute_result"
    }
   ],
   "source": [
    "# Поэлементное произведение по строкам:\n",
    "prod(a,dims=2)"
   ]
  },
  {
   "cell_type": "code",
   "execution_count": 13,
   "id": "8e6ee877-469d-4128-8881-d6bbd1b429cd",
   "metadata": {},
   "outputs": [
    {
     "name": "stderr",
     "output_type": "stream",
     "text": [
      "\u001b[32m\u001b[1m    Updating\u001b[22m\u001b[39m registry at `~/.julia/registries/General.toml`\n",
      "\u001b[32m\u001b[1m   Resolving\u001b[22m\u001b[39m package versions...\n",
      "\u001b[32m\u001b[1m  No Changes\u001b[22m\u001b[39m to `~/.julia/environments/v1.8/Project.toml`\n",
      "\u001b[32m\u001b[1m  No Changes\u001b[22m\u001b[39m to `~/.julia/environments/v1.8/Manifest.toml`\n"
     ]
    }
   ],
   "source": [
    " # Подключение пакета Statistics:\n",
    "import Pkg\n",
    "Pkg.add(\"Statistics\")\n",
    "using Statistics"
   ]
  },
  {
   "cell_type": "code",
   "execution_count": 14,
   "id": "da6f21ca-d0e4-4e8e-96d5-481008884f15",
   "metadata": {},
   "outputs": [
    {
     "data": {
      "text/plain": [
       "8.833333333333334"
      ]
     },
     "execution_count": 14,
     "metadata": {},
     "output_type": "execute_result"
    }
   ],
   "source": [
    "# Вычисление среднего значения массива:\n",
    "mean(a)"
   ]
  },
  {
   "cell_type": "code",
   "execution_count": 15,
   "id": "7a2dfe64-5f16-4c65-85c3-c435885652da",
   "metadata": {},
   "outputs": [
    {
     "data": {
      "text/plain": [
       "1×3 Matrix{Float64}:\n",
       " 4.75  11.5  10.25"
      ]
     },
     "execution_count": 15,
     "metadata": {},
     "output_type": "execute_result"
    }
   ],
   "source": [
    "# Среднее по столбцам:\n",
    "mean(a,dims=1)"
   ]
  },
  {
   "cell_type": "code",
   "execution_count": 16,
   "id": "be342a2d-87b0-4d57-b277-86998cd0aaf9",
   "metadata": {},
   "outputs": [
    {
     "data": {
      "text/plain": [
       "4×1 Matrix{Float64}:\n",
       " 10.666666666666666\n",
       " 11.333333333333334\n",
       "  6.0\n",
       "  7.333333333333333"
      ]
     },
     "execution_count": 16,
     "metadata": {},
     "output_type": "execute_result"
    }
   ],
   "source": [
    "# Среднее по строкам:\n",
    "mean(a,dims=2)"
   ]
  },
  {
   "cell_type": "code",
   "execution_count": 17,
   "id": "766643ad-751a-4759-b839-9bba0600fad1",
   "metadata": {},
   "outputs": [
    {
     "name": "stderr",
     "output_type": "stream",
     "text": [
      "\u001b[32m\u001b[1m   Resolving\u001b[22m\u001b[39m package versions...\n",
      "\u001b[32m\u001b[1m  No Changes\u001b[22m\u001b[39m to `~/.julia/environments/v1.8/Project.toml`\n",
      "\u001b[32m\u001b[1m  No Changes\u001b[22m\u001b[39m to `~/.julia/environments/v1.8/Manifest.toml`\n"
     ]
    }
   ],
   "source": [
    "# Подключение пакета LinearAlgebra:\n",
    "import Pkg\n",
    "Pkg.add(\"LinearAlgebra\")\n",
    "using LinearAlgebra"
   ]
  },
  {
   "cell_type": "code",
   "execution_count": 18,
   "id": "8ab1879b-d65d-451c-b160-4c5a90605c71",
   "metadata": {},
   "outputs": [
    {
     "data": {
      "text/plain": [
       "4×4 Matrix{Int64}:\n",
       " 15  19  17  13\n",
       " 18  18   4   8\n",
       "  2   9  10   5\n",
       " 20  19   3  20"
      ]
     },
     "execution_count": 18,
     "metadata": {},
     "output_type": "execute_result"
    }
   ],
   "source": [
    "# Массив 4x4 со случайными целыми числами (от 1 до 20):\n",
    "b = rand(1:20,(4,4))"
   ]
  },
  {
   "cell_type": "code",
   "execution_count": 19,
   "id": "725a6352-97be-461f-86cf-ea3a15411430",
   "metadata": {},
   "outputs": [
    {
     "data": {
      "text/plain": [
       "4×4 transpose(::Matrix{Int64}) with eltype Int64:\n",
       " 15  18   2  20\n",
       " 19  18   9  19\n",
       " 17   4  10   3\n",
       " 13   8   5  20"
      ]
     },
     "execution_count": 19,
     "metadata": {},
     "output_type": "execute_result"
    }
   ],
   "source": [
    "# Транспонирование:\n",
    "transpose(b)"
   ]
  },
  {
   "cell_type": "code",
   "execution_count": 20,
   "id": "9505bd59-a8cd-4622-bcf1-6988258ccd58",
   "metadata": {},
   "outputs": [
    {
     "data": {
      "text/plain": [
       "63"
      ]
     },
     "execution_count": 20,
     "metadata": {},
     "output_type": "execute_result"
    }
   ],
   "source": [
    "# След матрицы (сумма диагональных элементов):\n",
    "tr(b)"
   ]
  },
  {
   "cell_type": "code",
   "execution_count": 21,
   "id": "04b84429-f1db-4dbe-b074-10bd6fefaf8d",
   "metadata": {},
   "outputs": [
    {
     "data": {
      "text/plain": [
       "4-element Vector{Int64}:\n",
       " 15\n",
       " 18\n",
       " 10\n",
       " 20"
      ]
     },
     "execution_count": 21,
     "metadata": {},
     "output_type": "execute_result"
    }
   ],
   "source": [
    "# Извлечение диагональных элементов как массив:\n",
    "diag(b)"
   ]
  },
  {
   "cell_type": "code",
   "execution_count": 22,
   "id": "94b07c89-3e1d-49c6-80e9-27ca13074571",
   "metadata": {},
   "outputs": [
    {
     "data": {
      "text/plain": [
       "4"
      ]
     },
     "execution_count": 22,
     "metadata": {},
     "output_type": "execute_result"
    }
   ],
   "source": [
    "# Ранг матрицы:\n",
    "rank(b)"
   ]
  },
  {
   "cell_type": "code",
   "execution_count": 23,
   "id": "34aeb8a5-b02f-490b-8bb6-7b48dd4d37bf",
   "metadata": {},
   "outputs": [
    {
     "data": {
      "text/plain": [
       "4×4 Matrix{Float64}:\n",
       "  0.138926      0.00403757  -0.227258   -0.0351022\n",
       " -0.166282      0.104895     0.238794    0.00642716\n",
       "  0.121457     -0.0468853   -0.0753131  -0.0413645\n",
       "  0.000823995  -0.0966546    0.0117007   0.0852011"
      ]
     },
     "execution_count": 23,
     "metadata": {},
     "output_type": "execute_result"
    }
   ],
   "source": [
    "# Инверсия матрицы (определение обратной матрицы):\n",
    "inv(b)"
   ]
  },
  {
   "cell_type": "code",
   "execution_count": 24,
   "id": "67cfdbe5-f955-4481-a2fe-f2014026e538",
   "metadata": {},
   "outputs": [
    {
     "data": {
      "text/plain": [
       "12136.000000000002"
      ]
     },
     "execution_count": 24,
     "metadata": {},
     "output_type": "execute_result"
    }
   ],
   "source": [
    "# Определитель матрицы:\n",
    "det(b)"
   ]
  },
  {
   "cell_type": "code",
   "execution_count": 25,
   "id": "15479329-5427-47ea-8a85-397fed304194",
   "metadata": {},
   "outputs": [
    {
     "data": {
      "text/plain": [
       "3×4 Matrix{Float64}:\n",
       "  0.0481849  -0.0405044   0.0754184  -0.023741\n",
       "  0.049925    0.0153562  -0.0444718  -0.0145098\n",
       " -0.0548958   0.0285036   0.0402613   0.0483108"
      ]
     },
     "execution_count": 25,
     "metadata": {},
     "output_type": "execute_result"
    }
   ],
   "source": [
    "# Псевдобратная функция для прямоугольных матриц:\n",
    "pinv(a)"
   ]
  },
  {
   "cell_type": "code",
   "execution_count": 26,
   "id": "09e507d1-1541-4f47-b40c-0fab8119e261",
   "metadata": {},
   "outputs": [
    {
     "data": {
      "text/plain": [
       "6.708203932499369"
      ]
     },
     "execution_count": 26,
     "metadata": {},
     "output_type": "execute_result"
    }
   ],
   "source": [
    "# Создание вектора X:\n",
    "X = [2, 4, -5]\n",
    "\n",
    "# Вычисление евклидовой нормы:\n",
    "norm(X)"
   ]
  },
  {
   "cell_type": "code",
   "execution_count": 27,
   "id": "5bf6c113-ae37-4019-8021-ab01709f7d5e",
   "metadata": {},
   "outputs": [
    {
     "data": {
      "text/plain": [
       "11.0"
      ]
     },
     "execution_count": 27,
     "metadata": {},
     "output_type": "execute_result"
    }
   ],
   "source": [
    "# Вычисление p-нормы:\n",
    "p=1\n",
    "norm(X,p)"
   ]
  },
  {
   "cell_type": "code",
   "execution_count": 28,
   "id": "5358a304-0e50-4778-9025-7cb29a60232f",
   "metadata": {},
   "outputs": [
    {
     "data": {
      "text/plain": [
       "9.486832980505138"
      ]
     },
     "execution_count": 28,
     "metadata": {},
     "output_type": "execute_result"
    }
   ],
   "source": [
    "# Расстояние между двумя векторами X и Y:\n",
    "X = [2, 4, -5];\n",
    "Y = [1,-1,3];\n",
    "norm(X-Y)"
   ]
  },
  {
   "cell_type": "code",
   "execution_count": 29,
   "id": "906357db-fa78-4053-8a6f-c66f96a62b3a",
   "metadata": {},
   "outputs": [
    {
     "data": {
      "text/plain": [
       "9.486832980505138"
      ]
     },
     "execution_count": 29,
     "metadata": {},
     "output_type": "execute_result"
    }
   ],
   "source": [
    "# Проверка по базовому определению:\n",
    "sqrt(sum((X-Y).^2))"
   ]
  },
  {
   "cell_type": "code",
   "execution_count": 30,
   "id": "f1509c39-8ea0-4ccc-8670-420dbccd59a5",
   "metadata": {},
   "outputs": [
    {
     "data": {
      "text/plain": [
       "2.4404307889469252"
      ]
     },
     "execution_count": 30,
     "metadata": {},
     "output_type": "execute_result"
    }
   ],
   "source": [
    "# Угол между двумя векторами:\n",
    "acos((transpose(X)*Y)/(norm(X)*norm(Y)))"
   ]
  },
  {
   "cell_type": "code",
   "execution_count": 31,
   "id": "49c925d7-c459-452c-ba90-7a91b991efa0",
   "metadata": {},
   "outputs": [
    {
     "data": {
      "text/plain": [
       "7.147682841795258"
      ]
     },
     "execution_count": 31,
     "metadata": {},
     "output_type": "execute_result"
    }
   ],
   "source": [
    "# Создание матрицы:\n",
    "d = [5 -4 2 ; -1 2 3; -2 1 0]\n",
    "# Вычисление Евклидовой нормы:\n",
    "opnorm(d)"
   ]
  },
  {
   "cell_type": "code",
   "execution_count": 32,
   "id": "7136b95f-d336-40ca-b5fe-e63dbbb23889",
   "metadata": {},
   "outputs": [
    {
     "data": {
      "text/plain": [
       "8.0"
      ]
     },
     "execution_count": 32,
     "metadata": {},
     "output_type": "execute_result"
    }
   ],
   "source": [
    "# Вычисление p-нормы:\n",
    "p=1\n",
    "opnorm(d,p)"
   ]
  },
  {
   "cell_type": "code",
   "execution_count": 33,
   "id": "33f77dbd-7ab4-4d59-b6f6-99afb6977012",
   "metadata": {},
   "outputs": [
    {
     "data": {
      "text/plain": [
       "3×3 Matrix{Int64}:\n",
       " 0   1  -2\n",
       " 3   2  -1\n",
       " 2  -4   5"
      ]
     },
     "execution_count": 33,
     "metadata": {},
     "output_type": "execute_result"
    }
   ],
   "source": [
    "# Поворот на 180 градусов:\n",
    "rot180(d)"
   ]
  },
  {
   "cell_type": "code",
   "execution_count": 34,
   "id": "d07cf3fb-298e-4cc9-b5c7-88d148dd3927",
   "metadata": {},
   "outputs": [
    {
     "data": {
      "text/plain": [
       "3×3 Matrix{Int64}:\n",
       " -2   1  0\n",
       " -1   2  3\n",
       "  5  -4  2"
      ]
     },
     "execution_count": 34,
     "metadata": {},
     "output_type": "execute_result"
    }
   ],
   "source": [
    "# Переворачивание строк:\n",
    "reverse(d,dims=1)"
   ]
  },
  {
   "cell_type": "code",
   "execution_count": 35,
   "id": "38a064c9-bc0b-49ed-9ca2-9fefe56fc307",
   "metadata": {},
   "outputs": [
    {
     "data": {
      "text/plain": [
       "3×3 Matrix{Int64}:\n",
       " 2  -4   5\n",
       " 3   2  -1\n",
       " 0   1  -2"
      ]
     },
     "execution_count": 35,
     "metadata": {},
     "output_type": "execute_result"
    }
   ],
   "source": [
    "# Переворачивание столбцов\n",
    "reverse(d,dims=2)"
   ]
  },
  {
   "cell_type": "code",
   "execution_count": 36,
   "id": "4e58e72e-55fb-4673-a64c-fc434013a38b",
   "metadata": {},
   "outputs": [
    {
     "data": {
      "text/plain": [
       "2×3 Matrix{Int64}:\n",
       " 3  8  7\n",
       " 3  2  9"
      ]
     },
     "execution_count": 36,
     "metadata": {},
     "output_type": "execute_result"
    }
   ],
   "source": [
    "# Матрица 2x3 со случайными целыми значениями от 1 до 10:\n",
    "A = rand(1:10,(2,3))"
   ]
  },
  {
   "cell_type": "code",
   "execution_count": 37,
   "id": "69f44349-eab4-4c34-919a-1272bae446f1",
   "metadata": {},
   "outputs": [
    {
     "data": {
      "text/plain": [
       "3×4 Matrix{Int64}:\n",
       " 7  4  6  2\n",
       " 2  8  1  1\n",
       " 4  8  2  7"
      ]
     },
     "execution_count": 37,
     "metadata": {},
     "output_type": "execute_result"
    }
   ],
   "source": [
    "# Матрица 3x4 со случайными целыми значениями от 1 до 10:\n",
    "B = rand(1:10,(3,4))"
   ]
  },
  {
   "cell_type": "code",
   "execution_count": 38,
   "id": "9bd4db38-92ce-4b95-8099-a4fa3d4c2b3b",
   "metadata": {},
   "outputs": [
    {
     "data": {
      "text/plain": [
       "2×4 Matrix{Int64}:\n",
       " 65  132  40  63\n",
       " 61  100  38  71"
      ]
     },
     "execution_count": 38,
     "metadata": {},
     "output_type": "execute_result"
    }
   ],
   "source": [
    "# Произведение матриц A и B:\n",
    "A*B"
   ]
  },
  {
   "cell_type": "code",
   "execution_count": 39,
   "id": "529acfd0-3889-4ca5-b113-a2e593b43070",
   "metadata": {},
   "outputs": [
    {
     "data": {
      "text/plain": [
       "3×3 Matrix{Int64}:\n",
       " 1  0  0\n",
       " 0  1  0\n",
       " 0  0  1"
      ]
     },
     "execution_count": 39,
     "metadata": {},
     "output_type": "execute_result"
    }
   ],
   "source": [
    "# Единичная матрица 3x3:\n",
    "Matrix{Int}(I, 3, 3)"
   ]
  },
  {
   "cell_type": "code",
   "execution_count": 40,
   "id": "34c534cc-0719-4095-a0db-af9a44b31c6d",
   "metadata": {},
   "outputs": [
    {
     "data": {
      "text/plain": [
       "-17"
      ]
     },
     "execution_count": 40,
     "metadata": {},
     "output_type": "execute_result"
    }
   ],
   "source": [
    "# Скалярное произведение векторов X и Y:\n",
    "X = [2, 4, -5]\n",
    "Y = [1,-1,3]\n",
    "dot(X,Y)"
   ]
  },
  {
   "cell_type": "code",
   "execution_count": 41,
   "id": "ae780874-0b29-4432-9054-9f0e9b5e7945",
   "metadata": {},
   "outputs": [
    {
     "data": {
      "text/plain": [
       "-17"
      ]
     },
     "execution_count": 41,
     "metadata": {},
     "output_type": "execute_result"
    }
   ],
   "source": [
    "# тоже скалярное произведение:\n",
    "X'Y"
   ]
  },
  {
   "cell_type": "code",
   "execution_count": 42,
   "id": "4a110d5c-1249-47ed-bc5e-660d76dcc80e",
   "metadata": {},
   "outputs": [
    {
     "data": {
      "text/plain": [
       "3×3 Matrix{Float64}:\n",
       " 0.484023  0.623866  0.271227\n",
       " 0.434113  0.952469  0.125433\n",
       " 0.345751  0.361731  0.28935"
      ]
     },
     "execution_count": 42,
     "metadata": {},
     "output_type": "execute_result"
    }
   ],
   "source": [
    "# Задаём квадратную матрицу 3x3 со случайными значениями:\n",
    "A = rand(3, 3)"
   ]
  },
  {
   "cell_type": "code",
   "execution_count": 43,
   "id": "2868c7bd-c3ea-4ead-97bf-68aead0c82e4",
   "metadata": {},
   "outputs": [
    {
     "data": {
      "text/plain": [
       "3-element Vector{Float64}:\n",
       " 1.0\n",
       " 1.0\n",
       " 1.0"
      ]
     },
     "execution_count": 43,
     "metadata": {},
     "output_type": "execute_result"
    }
   ],
   "source": [
    "# Задаём единичный вектор:\n",
    "x = fill(1.0, 3)"
   ]
  },
  {
   "cell_type": "code",
   "execution_count": 44,
   "id": "d5bdfcaf-dabc-431e-b01f-254946ade3ba",
   "metadata": {},
   "outputs": [
    {
     "data": {
      "text/plain": [
       "3-element Vector{Float64}:\n",
       " 1.3791169552289078\n",
       " 1.512013895917551\n",
       " 0.9968322281932307"
      ]
     },
     "execution_count": 44,
     "metadata": {},
     "output_type": "execute_result"
    }
   ],
   "source": [
    "# Задаём вектор b:\n",
    "b = A*x"
   ]
  },
  {
   "cell_type": "code",
   "execution_count": 45,
   "id": "2918c278-1636-4c8e-ad98-71539e34e584",
   "metadata": {},
   "outputs": [
    {
     "data": {
      "text/plain": [
       "3-element Vector{Float64}:\n",
       " 1.0000000000000027\n",
       " 0.999999999999999\n",
       " 0.9999999999999982"
      ]
     },
     "execution_count": 45,
     "metadata": {},
     "output_type": "execute_result"
    }
   ],
   "source": [
    "# Решение исходного уравнения получаем с помощью функции \\\n",
    "# (убеждаемся, что x - единичный вектор):\n",
    "A\\b"
   ]
  },
  {
   "cell_type": "code",
   "execution_count": 46,
   "id": "6cee2289-bd72-41c3-9a9a-398fcf8f09a8",
   "metadata": {},
   "outputs": [
    {
     "data": {
      "text/plain": [
       "LU{Float64, Matrix{Float64}, Vector{Int64}}\n",
       "L factor:\n",
       "3×3 Matrix{Float64}:\n",
       " 1.0        0.0       0.0\n",
       " 0.896883   1.0       0.0\n",
       " 0.714327  -0.213558  1.0\n",
       "U factor:\n",
       "3×3 Matrix{Float64}:\n",
       " 0.484023  0.623866   0.271227\n",
       " 0.0       0.392933  -0.117826\n",
       " 0.0       0.0        0.0704426"
      ]
     },
     "execution_count": 46,
     "metadata": {},
     "output_type": "execute_result"
    }
   ],
   "source": [
    "# LU-факторизация:\n",
    "Alu = lu(A)"
   ]
  },
  {
   "cell_type": "code",
   "execution_count": 47,
   "id": "7ce4d5e3-0fbb-4c28-9a81-f14d105e5383",
   "metadata": {},
   "outputs": [
    {
     "data": {
      "text/plain": [
       "3×3 Matrix{Float64}:\n",
       " 1.0  0.0  0.0\n",
       " 0.0  1.0  0.0\n",
       " 0.0  0.0  1.0"
      ]
     },
     "execution_count": 47,
     "metadata": {},
     "output_type": "execute_result"
    }
   ],
   "source": [
    "# Матрица перестановок:\n",
    "Alu.P"
   ]
  },
  {
   "cell_type": "code",
   "execution_count": 48,
   "id": "3419cb7a-af7d-4d1e-9487-9d0eb71b6e22",
   "metadata": {},
   "outputs": [
    {
     "data": {
      "text/plain": [
       "3-element Vector{Int64}:\n",
       " 1\n",
       " 2\n",
       " 3"
      ]
     },
     "execution_count": 48,
     "metadata": {},
     "output_type": "execute_result"
    }
   ],
   "source": [
    "# Вектор перестановок:\n",
    "Alu.p"
   ]
  },
  {
   "cell_type": "code",
   "execution_count": 49,
   "id": "3e7a19ab-2aec-4c99-affa-539f758ee037",
   "metadata": {},
   "outputs": [
    {
     "data": {
      "text/plain": [
       "3×3 Matrix{Float64}:\n",
       " 1.0        0.0       0.0\n",
       " 0.896883   1.0       0.0\n",
       " 0.714327  -0.213558  1.0"
      ]
     },
     "execution_count": 49,
     "metadata": {},
     "output_type": "execute_result"
    }
   ],
   "source": [
    "# Матрица L:\n",
    "Alu.L"
   ]
  },
  {
   "cell_type": "code",
   "execution_count": 50,
   "id": "b492ac07-898f-4f86-8287-0dde6466bf43",
   "metadata": {},
   "outputs": [
    {
     "data": {
      "text/plain": [
       "3×3 Matrix{Float64}:\n",
       " 0.484023  0.623866   0.271227\n",
       " 0.0       0.392933  -0.117826\n",
       " 0.0       0.0        0.0704426"
      ]
     },
     "execution_count": 50,
     "metadata": {},
     "output_type": "execute_result"
    }
   ],
   "source": [
    "# Матрица U:\n",
    "Alu.U"
   ]
  },
  {
   "cell_type": "code",
   "execution_count": 51,
   "id": "e74dd7fe-0dc7-4dcd-b875-068fb35232d0",
   "metadata": {},
   "outputs": [
    {
     "data": {
      "text/plain": [
       "3-element Vector{Float64}:\n",
       " 1.0000000000000027\n",
       " 0.999999999999999\n",
       " 0.9999999999999982"
      ]
     },
     "execution_count": 51,
     "metadata": {},
     "output_type": "execute_result"
    }
   ],
   "source": [
    "# Решение СЛАУ через матрицу A:\n",
    "A\\b"
   ]
  },
  {
   "cell_type": "code",
   "execution_count": 52,
   "id": "d843c7ef-7c67-4259-a42f-7e5e0369a1b2",
   "metadata": {},
   "outputs": [
    {
     "data": {
      "text/plain": [
       "3-element Vector{Float64}:\n",
       " 1.0000000000000027\n",
       " 0.999999999999999\n",
       " 0.9999999999999982"
      ]
     },
     "execution_count": 52,
     "metadata": {},
     "output_type": "execute_result"
    }
   ],
   "source": [
    "# Решение СЛАУ через объект факторизации:\n",
    "Alu\\b"
   ]
  },
  {
   "cell_type": "code",
   "execution_count": 53,
   "id": "ddd3a7ec-c309-4ba1-a725-7d8c9938cf14",
   "metadata": {},
   "outputs": [
    {
     "data": {
      "text/plain": [
       "0.013397407753057599"
      ]
     },
     "execution_count": 53,
     "metadata": {},
     "output_type": "execute_result"
    }
   ],
   "source": [
    "# Детерминант матрицы A:\n",
    "det(A)"
   ]
  },
  {
   "cell_type": "code",
   "execution_count": 54,
   "id": "dae1ae41-d83d-4194-8a32-47519dff6f16",
   "metadata": {},
   "outputs": [
    {
     "data": {
      "text/plain": [
       "0.013397407753057599"
      ]
     },
     "execution_count": 54,
     "metadata": {},
     "output_type": "execute_result"
    }
   ],
   "source": [
    "# Детерминант матрицы A через объект факторизации:\n",
    "det(Alu)"
   ]
  },
  {
   "cell_type": "code",
   "execution_count": 55,
   "id": "e04fc72c-ca15-4260-b237-c3bbc9fbb2fb",
   "metadata": {},
   "outputs": [
    {
     "data": {
      "text/plain": [
       "LinearAlgebra.QRCompactWY{Float64, Matrix{Float64}, Matrix{Float64}}\n",
       "Q factor:\n",
       "3×3 LinearAlgebra.QRCompactWYQ{Float64, Matrix{Float64}, Matrix{Float64}}:\n",
       " -0.657289   0.358133  -0.663108\n",
       " -0.589511  -0.792489   0.156328\n",
       " -0.469519   0.493662   0.732017\n",
       "R factor:\n",
       "3×3 Matrix{Float64}:\n",
       " -0.736394  -1.14139  -0.388074\n",
       "  0.0       -0.35282   0.140573\n",
       "  0.0        0.0       0.0515652"
      ]
     },
     "execution_count": 55,
     "metadata": {},
     "output_type": "execute_result"
    }
   ],
   "source": [
    "# QR-факторизация:\n",
    "Aqr = qr(A)"
   ]
  },
  {
   "cell_type": "code",
   "execution_count": 56,
   "id": "5b7fcaa7-a278-49c6-b306-347f2b025886",
   "metadata": {},
   "outputs": [
    {
     "data": {
      "text/plain": [
       "3×3 LinearAlgebra.QRCompactWYQ{Float64, Matrix{Float64}, Matrix{Float64}}:\n",
       " -0.657289   0.358133  -0.663108\n",
       " -0.589511  -0.792489   0.156328\n",
       " -0.469519   0.493662   0.732017"
      ]
     },
     "execution_count": 56,
     "metadata": {},
     "output_type": "execute_result"
    }
   ],
   "source": [
    "# Матрица Q:\n",
    "Aqr.Q"
   ]
  },
  {
   "cell_type": "code",
   "execution_count": 57,
   "id": "c01fcf45-da1f-4890-92f4-0f03d174ad56",
   "metadata": {},
   "outputs": [
    {
     "data": {
      "text/plain": [
       "3×3 Matrix{Float64}:\n",
       " -0.736394  -1.14139  -0.388074\n",
       "  0.0       -0.35282   0.140573\n",
       "  0.0        0.0       0.0515652"
      ]
     },
     "execution_count": 57,
     "metadata": {},
     "output_type": "execute_result"
    }
   ],
   "source": [
    "# Матрица R:\n",
    "Aqr.R"
   ]
  },
  {
   "cell_type": "code",
   "execution_count": 58,
   "id": "fbd8212b-0e30-47bb-9bc4-4d63d1950b87",
   "metadata": {},
   "outputs": [
    {
     "data": {
      "text/plain": [
       "3×3 Matrix{Float64}:\n",
       " 1.0  -5.55112e-17  0.0\n",
       " 0.0   1.0          1.66533e-16\n",
       " 0.0   1.66533e-16  1.0"
      ]
     },
     "execution_count": 58,
     "metadata": {},
     "output_type": "execute_result"
    }
   ],
   "source": [
    "# Проверка, что матрица Q - ортогональная:\n",
    "Aqr.Q'*Aqr.Q"
   ]
  },
  {
   "cell_type": "code",
   "execution_count": 59,
   "id": "e40003f6-e079-488d-acfb-e7356720edcb",
   "metadata": {},
   "outputs": [
    {
     "data": {
      "text/plain": [
       "3×3 Matrix{Float64}:\n",
       " 0.968047  1.05798   0.616978\n",
       " 1.05798   1.90494   0.487164\n",
       " 0.616978  0.487164  0.578701"
      ]
     },
     "execution_count": 59,
     "metadata": {},
     "output_type": "execute_result"
    }
   ],
   "source": [
    "#  Симметризация матрицы A:\n",
    "Asym = A + A'"
   ]
  },
  {
   "cell_type": "code",
   "execution_count": 60,
   "id": "42227dad-b1fe-44be-b59b-0f0b9202c23a",
   "metadata": {},
   "outputs": [
    {
     "data": {
      "text/plain": [
       "Eigen{Float64, Float64, Matrix{Float64}, Vector{Float64}}\n",
       "values:\n",
       "3-element Vector{Float64}:\n",
       " 0.06486717396819534\n",
       " 0.5453799725267454\n",
       " 2.8414376012764384\n",
       "vectors:\n",
       "3×3 Matrix{Float64}:\n",
       " -0.72855    0.417193  -0.543291\n",
       "  0.250053  -0.576421  -0.777954\n",
       "  0.637721   0.70263   -0.315631"
      ]
     },
     "execution_count": 60,
     "metadata": {},
     "output_type": "execute_result"
    }
   ],
   "source": [
    "# Спектральное разложение симметризованной матрицы:\n",
    "AsymEig = eigen(Asym)"
   ]
  },
  {
   "cell_type": "code",
   "execution_count": 61,
   "id": "3be042ad-b485-4d02-a877-35b21091b8d3",
   "metadata": {},
   "outputs": [
    {
     "data": {
      "text/plain": [
       "3-element Vector{Float64}:\n",
       " 0.06486717396819534\n",
       " 0.5453799725267454\n",
       " 2.8414376012764384"
      ]
     },
     "execution_count": 61,
     "metadata": {},
     "output_type": "execute_result"
    }
   ],
   "source": [
    "# Собственные значения:\n",
    "AsymEig.values"
   ]
  },
  {
   "cell_type": "code",
   "execution_count": 62,
   "id": "e030637f-3853-4720-8acc-ffea4bf17cea",
   "metadata": {},
   "outputs": [
    {
     "data": {
      "text/plain": [
       "3×3 Matrix{Float64}:\n",
       " -0.72855    0.417193  -0.543291\n",
       "  0.250053  -0.576421  -0.777954\n",
       "  0.637721   0.70263   -0.315631"
      ]
     },
     "execution_count": 62,
     "metadata": {},
     "output_type": "execute_result"
    }
   ],
   "source": [
    "#Собственные векторы:\n",
    "AsymEig.vectors"
   ]
  },
  {
   "cell_type": "code",
   "execution_count": 63,
   "id": "f865fe0c-bedb-4b19-952c-bff27445028a",
   "metadata": {},
   "outputs": [
    {
     "data": {
      "text/plain": [
       "3×3 Matrix{Float64}:\n",
       "  1.0          -3.9968e-15   -1.33227e-15\n",
       " -6.66134e-16   1.0          -4.44089e-16\n",
       "  8.88178e-16   2.22045e-15   1.0"
      ]
     },
     "execution_count": 63,
     "metadata": {},
     "output_type": "execute_result"
    }
   ],
   "source": [
    "# Проверяем, что получится единичная матрица:\n",
    "inv(AsymEig)*Asym"
   ]
  },
  {
   "cell_type": "code",
   "execution_count": 64,
   "id": "3b60a0ae-3694-491f-931a-fba23e2ec900",
   "metadata": {},
   "outputs": [
    {
     "data": {
      "text/plain": [
       "1000×1000 Matrix{Float64}:\n",
       "  1.09331     0.363573    0.496485   …  -1.76341    -0.29403    -1.50402\n",
       " -0.724628    0.791012    0.778186      -0.818687    0.738579   -1.50574\n",
       " -0.216552   -1.35119     0.736085       0.032596    3.08291     0.0295347\n",
       "  0.163385   -0.297444    0.104863       1.54627     0.712209   -0.0278661\n",
       "  0.994555    0.512395    1.12558       -0.403578   -0.866692    0.44531\n",
       "  0.0811756   1.11385    -0.20963    …   1.57396    -0.677453    1.61112\n",
       " -0.773997   -0.172837   -1.05391       -0.0932662   1.94645    -1.01871\n",
       "  2.52906    -0.901346   -0.843311       1.0383      0.623605    0.656359\n",
       "  0.982829    0.265711    0.156347       0.352033   -0.284927   -0.382084\n",
       "  1.11329    -1.40048     0.668007      -2.02452     0.50392    -0.961662\n",
       "  0.383897    0.010126    0.0196763  …  -0.709709   -0.376469    0.815097\n",
       "  0.0937731   1.4082     -2.4076         0.411469   -1.4196      1.60788\n",
       "  0.843918    0.497192    1.56077       -0.0221146  -0.899836    0.47918\n",
       "  ⋮                                  ⋱                          \n",
       " -0.0347134  -0.555417    2.42698       -0.461311    0.272944    0.972082\n",
       " -0.239573    0.0896085  -0.828352      -1.05095    -1.51708     1.20302\n",
       "  0.415476   -0.415669   -0.221218   …  -0.121232   -0.436856    0.00618963\n",
       " -0.952634    1.23785     0.823623      -0.333718   -0.16586     0.46349\n",
       " -0.0803476   1.26081     0.772363       1.82774    -1.11934     0.0655876\n",
       "  0.842054    0.568115    0.34688       -1.83662     0.925081   -0.00218425\n",
       "  0.244448    0.337534    0.839703       1.60527    -1.308      -0.324341\n",
       " -0.353554    0.76102     0.511991   …   0.15865    -0.224898    1.67484\n",
       " -1.72469    -0.652394   -0.765574      -2.09769     0.0897537   0.198026\n",
       " -0.730816   -0.684269   -0.493971      -0.438051   -0.859559   -0.797776\n",
       "  1.48212    -1.73081    -0.27274        1.15672     0.0654311   0.960161\n",
       " -0.530268   -0.500795   -0.496474      -0.0215955   0.261902   -1.95928"
      ]
     },
     "execution_count": 64,
     "metadata": {},
     "output_type": "execute_result"
    }
   ],
   "source": [
    "# Матрица 1000 х 1000:\n",
    "n = 1000\n",
    "A = randn(n,n)"
   ]
  },
  {
   "cell_type": "code",
   "execution_count": 65,
   "id": "a3946dc7-01aa-4083-9528-0492ad96e6b4",
   "metadata": {},
   "outputs": [
    {
     "data": {
      "text/plain": [
       "1000×1000 Matrix{Float64}:\n",
       "  2.18661   -0.361055    0.279933  …  -2.49423    1.18809    -2.03428\n",
       " -0.361055   1.58202    -0.573        -1.50296   -0.992234   -2.00654\n",
       "  0.279933  -0.573       1.47217      -0.461375   2.81017    -0.466939\n",
       "  0.668439  -0.402568   -0.48608       1.92255    0.643016   -0.887874\n",
       "  1.71045   -0.390169    0.562203      0.104965   0.208191    1.59537\n",
       "  0.885325   2.61484     0.451158  …   0.423864  -1.47572     2.71705\n",
       " -0.970016  -1.06746    -0.780918      0.213899   2.78338    -1.24366\n",
       "  3.69698   -1.33448    -2.50497       1.23476   -1.14255     2.56779\n",
       " -0.210032  -0.998559    0.532328     -1.22678   -0.453834   -1.05629\n",
       "  2.72342   -2.67369     3.0387       -0.537171   0.612701    0.672373\n",
       "  0.226774  -0.199525   -0.535861  …  -2.98722   -1.32099    -0.0612656\n",
       " -0.833087   1.09618    -2.63641       1.80995   -2.41069     1.49708\n",
       "  1.43679    0.112258    1.38431       0.264252  -0.810277   -0.813267\n",
       "  ⋮                                ⋱                         \n",
       " -0.761554  -1.25494     0.4716       -1.33875   -0.538068    0.559707\n",
       " -0.529632  -0.800666   -1.72588      -0.633209  -1.31007     0.616118\n",
       "  0.752629  -0.0617439  -0.922474  …  -0.854399   0.0675425   1.30087\n",
       " -2.25919    3.08421     1.3232        0.323439   0.511136   -1.20275\n",
       " -1.33657    1.28897     0.421992      0.107038  -0.238649   -0.802519\n",
       "  1.60278    0.528414    1.13165      -2.32809    2.14216     0.988029\n",
       "  0.487394   0.479831    0.165436      1.56637   -0.0624694  -0.727635\n",
       "  2.46724    0.33127    -0.194843  …  -0.594897   1.3797      1.33205\n",
       " -1.37197   -1.24193    -2.33148      -1.70881    0.71292     0.404588\n",
       " -2.49423   -1.50296    -0.461375     -0.876102   0.297163   -0.819371\n",
       "  1.18809   -0.992234    2.81017       0.297163   0.130862    1.22206\n",
       " -2.03428   -2.00654    -0.466939     -0.819371   1.22206    -3.91856"
      ]
     },
     "execution_count": 65,
     "metadata": {},
     "output_type": "execute_result"
    }
   ],
   "source": [
    "# Симметризация матрицы:\n",
    "Asym = A + A'"
   ]
  },
  {
   "cell_type": "code",
   "execution_count": 66,
   "id": "b7f7dfc7-bd24-422d-b4b7-235edbf80ffb",
   "metadata": {},
   "outputs": [
    {
     "data": {
      "text/plain": [
       "true"
      ]
     },
     "execution_count": 66,
     "metadata": {},
     "output_type": "execute_result"
    }
   ],
   "source": [
    "# Проверка, является ли матрица симметричной:\n",
    "issymmetric(Asym)"
   ]
  },
  {
   "cell_type": "code",
   "execution_count": 67,
   "id": "3b8093ca-3b8d-4eb1-aaf6-b3f76a51c452",
   "metadata": {},
   "outputs": [
    {
     "data": {
      "text/plain": [
       "-0.36105516619829875"
      ]
     },
     "execution_count": 67,
     "metadata": {},
     "output_type": "execute_result"
    }
   ],
   "source": [
    "# Добавление шума:\n",
    "Asym_noisy = copy(Asym)\n",
    "Asym_noisy[1,2] += 5eps()"
   ]
  },
  {
   "cell_type": "code",
   "execution_count": 68,
   "id": "06beb5f3-6951-4366-ba83-0cd63ee228b2",
   "metadata": {},
   "outputs": [
    {
     "data": {
      "text/plain": [
       "false"
      ]
     },
     "execution_count": 68,
     "metadata": {},
     "output_type": "execute_result"
    }
   ],
   "source": [
    "# Проверка, является ли матрица симметричной:\n",
    "issymmetric(Asym_noisy)"
   ]
  },
  {
   "cell_type": "code",
   "execution_count": 69,
   "id": "b2f0fce8-88dc-48a3-8790-5a36110f0db2",
   "metadata": {},
   "outputs": [
    {
     "data": {
      "text/plain": [
       "1000×1000 Symmetric{Float64, Matrix{Float64}}:\n",
       "  2.18661   -0.361055    0.279933  …  -2.49423    1.18809    -2.03428\n",
       " -0.361055   1.58202    -0.573        -1.50296   -0.992234   -2.00654\n",
       "  0.279933  -0.573       1.47217      -0.461375   2.81017    -0.466939\n",
       "  0.668439  -0.402568   -0.48608       1.92255    0.643016   -0.887874\n",
       "  1.71045   -0.390169    0.562203      0.104965   0.208191    1.59537\n",
       "  0.885325   2.61484     0.451158  …   0.423864  -1.47572     2.71705\n",
       " -0.970016  -1.06746    -0.780918      0.213899   2.78338    -1.24366\n",
       "  3.69698   -1.33448    -2.50497       1.23476   -1.14255     2.56779\n",
       " -0.210032  -0.998559    0.532328     -1.22678   -0.453834   -1.05629\n",
       "  2.72342   -2.67369     3.0387       -0.537171   0.612701    0.672373\n",
       "  0.226774  -0.199525   -0.535861  …  -2.98722   -1.32099    -0.0612656\n",
       " -0.833087   1.09618    -2.63641       1.80995   -2.41069     1.49708\n",
       "  1.43679    0.112258    1.38431       0.264252  -0.810277   -0.813267\n",
       "  ⋮                                ⋱                         \n",
       " -0.761554  -1.25494     0.4716       -1.33875   -0.538068    0.559707\n",
       " -0.529632  -0.800666   -1.72588      -0.633209  -1.31007     0.616118\n",
       "  0.752629  -0.0617439  -0.922474  …  -0.854399   0.0675425   1.30087\n",
       " -2.25919    3.08421     1.3232        0.323439   0.511136   -1.20275\n",
       " -1.33657    1.28897     0.421992      0.107038  -0.238649   -0.802519\n",
       "  1.60278    0.528414    1.13165      -2.32809    2.14216     0.988029\n",
       "  0.487394   0.479831    0.165436      1.56637   -0.0624694  -0.727635\n",
       "  2.46724    0.33127    -0.194843  …  -0.594897   1.3797      1.33205\n",
       " -1.37197   -1.24193    -2.33148      -1.70881    0.71292     0.404588\n",
       " -2.49423   -1.50296    -0.461375     -0.876102   0.297163   -0.819371\n",
       "  1.18809   -0.992234    2.81017       0.297163   0.130862    1.22206\n",
       " -2.03428   -2.00654    -0.466939     -0.819371   1.22206    -3.91856"
      ]
     },
     "execution_count": 69,
     "metadata": {},
     "output_type": "execute_result"
    }
   ],
   "source": [
    "# Явно указываем, что матрица является симметричной:\n",
    "Asym_explicit = Symmetric(Asym_noisy)"
   ]
  },
  {
   "cell_type": "code",
   "execution_count": 70,
   "id": "a3762bfc-0996-4e68-82f2-3eab68b14bd4",
   "metadata": {},
   "outputs": [
    {
     "name": "stderr",
     "output_type": "stream",
     "text": [
      "\u001b[32m\u001b[1m   Resolving\u001b[22m\u001b[39m package versions...\n",
      "\u001b[32m\u001b[1m  No Changes\u001b[22m\u001b[39m to `~/.julia/environments/v1.8/Project.toml`\n",
      "\u001b[32m\u001b[1m  No Changes\u001b[22m\u001b[39m to `~/.julia/environments/v1.8/Manifest.toml`\n"
     ]
    }
   ],
   "source": [
    "import Pkg\n",
    "Pkg.add(\"BenchmarkTools\")\n",
    "using BenchmarkTools"
   ]
  },
  {
   "cell_type": "code",
   "execution_count": 71,
   "id": "c06fc714-6a07-4abe-ae39-8849868a9db5",
   "metadata": {},
   "outputs": [
    {
     "name": "stdout",
     "output_type": "stream",
     "text": [
      "  76.094 ms (11 allocations: 7.99 MiB)\n"
     ]
    }
   ],
   "source": [
    "# Оценка эффективности выполнения операции по нахождению \n",
    "# собственных значений симметризованной матрицы:\n",
    "@btime eigvals(Asym);"
   ]
  },
  {
   "cell_type": "code",
   "execution_count": 72,
   "id": "7f85cc1b-17b3-41ba-8162-5b376eb7f597",
   "metadata": {},
   "outputs": [
    {
     "name": "stdout",
     "output_type": "stream",
     "text": [
      "  618.973 ms (13 allocations: 7.92 MiB)\n"
     ]
    }
   ],
   "source": [
    "# Оценка эффективности выполнения операции по нахождению\n",
    "# собственных значений зашумлённой матрицы:\n",
    "@btime eigvals(Asym_noisy);"
   ]
  },
  {
   "cell_type": "code",
   "execution_count": 73,
   "id": "671e5705-3206-4dc2-8223-6e94f4a18470",
   "metadata": {},
   "outputs": [
    {
     "name": "stdout",
     "output_type": "stream",
     "text": [
      "  74.211 ms (11 allocations: 7.99 MiB)\n"
     ]
    }
   ],
   "source": [
    "# Оценка эффективности выполнения операции по нахождению\n",
    "# собственных значений зашумлённой матрицы,\n",
    "# для которой явно указано, что она симметричная:\n",
    "@btime eigvals(Asym_explicit);"
   ]
  },
  {
   "cell_type": "code",
   "execution_count": 74,
   "id": "4f68ba54-1ee2-4096-881d-b49a1fc26049",
   "metadata": {},
   "outputs": [
    {
     "data": {
      "text/plain": [
       "1000000×1000000 SymTridiagonal{Float64, Vector{Float64}}:\n",
       " -0.156001  -1.07412     ⋅        …    ⋅          ⋅          ⋅ \n",
       " -1.07412   -0.740443   0.651895       ⋅          ⋅          ⋅ \n",
       "   ⋅         0.651895  -0.401327       ⋅          ⋅          ⋅ \n",
       "   ⋅          ⋅         0.30778        ⋅          ⋅          ⋅ \n",
       "   ⋅          ⋅          ⋅             ⋅          ⋅          ⋅ \n",
       "   ⋅          ⋅          ⋅        …    ⋅          ⋅          ⋅ \n",
       "   ⋅          ⋅          ⋅             ⋅          ⋅          ⋅ \n",
       "   ⋅          ⋅          ⋅             ⋅          ⋅          ⋅ \n",
       "   ⋅          ⋅          ⋅             ⋅          ⋅          ⋅ \n",
       "   ⋅          ⋅          ⋅             ⋅          ⋅          ⋅ \n",
       "   ⋅          ⋅          ⋅        …    ⋅          ⋅          ⋅ \n",
       "   ⋅          ⋅          ⋅             ⋅          ⋅          ⋅ \n",
       "   ⋅          ⋅          ⋅             ⋅          ⋅          ⋅ \n",
       "  ⋮                               ⋱                        \n",
       "   ⋅          ⋅          ⋅             ⋅          ⋅          ⋅ \n",
       "   ⋅          ⋅          ⋅             ⋅          ⋅          ⋅ \n",
       "   ⋅          ⋅          ⋅        …    ⋅          ⋅          ⋅ \n",
       "   ⋅          ⋅          ⋅             ⋅          ⋅          ⋅ \n",
       "   ⋅          ⋅          ⋅             ⋅          ⋅          ⋅ \n",
       "   ⋅          ⋅          ⋅             ⋅          ⋅          ⋅ \n",
       "   ⋅          ⋅          ⋅             ⋅          ⋅          ⋅ \n",
       "   ⋅          ⋅          ⋅        …    ⋅          ⋅          ⋅ \n",
       "   ⋅          ⋅          ⋅            1.23595     ⋅          ⋅ \n",
       "   ⋅          ⋅          ⋅            0.404675  -1.42635     ⋅ \n",
       "   ⋅          ⋅          ⋅           -1.42635    0.978342  -1.07449\n",
       "   ⋅          ⋅          ⋅             ⋅        -1.07449   -0.0469415"
      ]
     },
     "execution_count": 74,
     "metadata": {},
     "output_type": "execute_result"
    }
   ],
   "source": [
    "# Трёхдиагональная матрица 1000000 х 1000000:\n",
    "n = 1000000;\n",
    "A = SymTridiagonal(randn(n), randn(n-1))"
   ]
  },
  {
   "cell_type": "code",
   "execution_count": 75,
   "id": "cb589a88-836f-412a-a679-8f9450c41730",
   "metadata": {
    "tags": []
   },
   "outputs": [
    {
     "name": "stdout",
     "output_type": "stream",
     "text": [
      "  547.812 ms (17 allocations: 183.11 MiB)\n"
     ]
    },
    {
     "data": {
      "text/plain": [
       "6.514227997785152"
      ]
     },
     "execution_count": 75,
     "metadata": {},
     "output_type": "execute_result"
    }
   ],
   "source": [
    "# Оценка эффективности выполнения операции по нахождению\n",
    "# собственных значений:\n",
    "@btime eigmax(A)"
   ]
  },
  {
   "cell_type": "code",
   "execution_count": null,
   "id": "2c21b9de-fbd5-4c17-9691-0fa82e0a4acf",
   "metadata": {},
   "outputs": [],
   "source": [
    "B = Matrix(A)"
   ]
  },
  {
   "cell_type": "code",
   "execution_count": 76,
   "id": "c28aff2d-d54f-45af-9132-723585ea89b5",
   "metadata": {},
   "outputs": [
    {
     "data": {
      "text/plain": [
       "3×3 Matrix{Rational{BigInt}}:\n",
       " 3//5  3//10  3//5\n",
       " 4//5  1//5   7//10\n",
       " 4//5  9//10  4//5"
      ]
     },
     "execution_count": 76,
     "metadata": {},
     "output_type": "execute_result"
    }
   ],
   "source": [
    "# Матрица с рациональными элементами:\n",
    "Arational = Matrix{Rational{BigInt}}(rand(1:10, 3, 3))/10"
   ]
  },
  {
   "cell_type": "code",
   "execution_count": 77,
   "id": "3d881e23-3f5b-4de4-80fb-3ae7fdd2e474",
   "metadata": {},
   "outputs": [
    {
     "data": {
      "text/plain": [
       "3-element Vector{Int64}:\n",
       " 1\n",
       " 1\n",
       " 1"
      ]
     },
     "execution_count": 77,
     "metadata": {},
     "output_type": "execute_result"
    }
   ],
   "source": [
    "# Единичный вектор:\n",
    "x = fill(1, 3)"
   ]
  },
  {
   "cell_type": "code",
   "execution_count": 78,
   "id": "feffdbd5-a34e-4c21-b394-d620a6ff5c37",
   "metadata": {},
   "outputs": [
    {
     "data": {
      "text/plain": [
       "3-element Vector{Rational{BigInt}}:\n",
       "  3//2\n",
       " 17//10\n",
       "  5//2"
      ]
     },
     "execution_count": 78,
     "metadata": {},
     "output_type": "execute_result"
    }
   ],
   "source": [
    "# Задаём вектор b:\n",
    "b = Arational*x"
   ]
  },
  {
   "cell_type": "code",
   "execution_count": 79,
   "id": "e2b4726b-b20b-4f04-9d2e-a75a8c19588b",
   "metadata": {},
   "outputs": [
    {
     "data": {
      "text/plain": [
       "3-element Vector{Rational{BigInt}}:\n",
       " 1//1\n",
       " 1//1\n",
       " 1//1"
      ]
     },
     "execution_count": 79,
     "metadata": {},
     "output_type": "execute_result"
    }
   ],
   "source": [
    "# Решение исходного уравнения получаем с помощью функции \\ \n",
    "# (убеждаемся, что x - единичный вектор):\n",
    "Arational\\b"
   ]
  },
  {
   "cell_type": "code",
   "execution_count": 80,
   "id": "8e326bc1-52ed-4f95-97bc-1b6bcf5c9e42",
   "metadata": {},
   "outputs": [
    {
     "data": {
      "text/plain": [
       "LU{Rational{BigInt}, Matrix{Rational{BigInt}}, Vector{Int64}}\n",
       "L factor:\n",
       "3×3 Matrix{Rational{BigInt}}:\n",
       " 1//1  0//1   0//1\n",
       " 1//1  1//1   0//1\n",
       " 3//4  3//14  1//1\n",
       "U factor:\n",
       "3×3 Matrix{Rational{BigInt}}:\n",
       " 4//5  1//5   7//10\n",
       " 0//1  7//10  1//10\n",
       " 0//1  0//1   3//56"
      ]
     },
     "execution_count": 80,
     "metadata": {},
     "output_type": "execute_result"
    }
   ],
   "source": [
    "# LU-разложение:\n",
    "lu(Arational)"
   ]
  },
  {
   "cell_type": "code",
   "execution_count": null,
   "id": "ed409845-3e64-418c-9cd0-abd65b8ff31e",
   "metadata": {},
   "outputs": [],
   "source": [
    "# ЗАДАНИЯ ДЛЯ САМОСТОЯТЕЛЬНОГО ВЫПОЛНЕНИЯ"
   ]
  },
  {
   "cell_type": "code",
   "execution_count": 81,
   "id": "294759a9-7705-429e-815b-d2bed6407f8d",
   "metadata": {},
   "outputs": [
    {
     "data": {
      "text/plain": [
       "55"
      ]
     },
     "execution_count": 81,
     "metadata": {},
     "output_type": "execute_result"
    }
   ],
   "source": [
    "# 1.1\n",
    "\n",
    "v = [1, 2, 3, 4, 5]\n",
    "dot_v = v'v"
   ]
  },
  {
   "cell_type": "code",
   "execution_count": 82,
   "id": "4945c033-b232-493f-8fbe-0205acaf9790",
   "metadata": {},
   "outputs": [
    {
     "data": {
      "text/plain": [
       "5×5 Matrix{Int64}:\n",
       " 1   2   3   4   5\n",
       " 2   4   6   8  10\n",
       " 3   6   9  12  15\n",
       " 4   8  12  16  20\n",
       " 5  10  15  20  25"
      ]
     },
     "execution_count": 82,
     "metadata": {},
     "output_type": "execute_result"
    }
   ],
   "source": [
    "# 1.2\n",
    "outer_v = v * v'"
   ]
  },
  {
   "cell_type": "code",
   "execution_count": 85,
   "id": "9f19b9f2-056a-41b9-b52c-038ebd82194f",
   "metadata": {},
   "outputs": [
    {
     "data": {
      "text/plain": [
       "2-element Vector{Float64}:\n",
       "  2.5\n",
       " -0.5"
      ]
     },
     "execution_count": 85,
     "metadata": {},
     "output_type": "execute_result"
    }
   ],
   "source": [
    "#2.1\n",
    "\n",
    "A = [ 1 1; 1 -1]\n",
    "b = [2;3]\n",
    "A\\b"
   ]
  },
  {
   "cell_type": "code",
   "execution_count": 86,
   "id": "22a86e98-df74-46e0-aab0-9f3438439f37",
   "metadata": {},
   "outputs": [
    {
     "ename": "LoadError",
     "evalue": "SingularException(2)",
     "output_type": "error",
     "traceback": [
      "SingularException(2)",
      "",
      "Stacktrace:",
      " [1] checknonsingular",
      "   @ /Applications/Julia-1.8.app/Contents/Resources/julia/share/julia/stdlib/v1.8/LinearAlgebra/src/factorization.jl:19 [inlined]",
      " [2] checknonsingular",
      "   @ /Applications/Julia-1.8.app/Contents/Resources/julia/share/julia/stdlib/v1.8/LinearAlgebra/src/factorization.jl:21 [inlined]",
      " [3] #lu!#170",
      "   @ /Applications/Julia-1.8.app/Contents/Resources/julia/share/julia/stdlib/v1.8/LinearAlgebra/src/lu.jl:82 [inlined]",
      " [4] #lu#177",
      "   @ /Applications/Julia-1.8.app/Contents/Resources/julia/share/julia/stdlib/v1.8/LinearAlgebra/src/lu.jl:279 [inlined]",
      " [5] lu (repeats 2 times)",
      "   @ /Applications/Julia-1.8.app/Contents/Resources/julia/share/julia/stdlib/v1.8/LinearAlgebra/src/lu.jl:278 [inlined]",
      " [6] \\(A::Matrix{Int64}, B::Vector{Int64})",
      "   @ LinearAlgebra /Applications/Julia-1.8.app/Contents/Resources/julia/share/julia/stdlib/v1.8/LinearAlgebra/src/generic.jl:1110",
      " [7] top-level scope",
      "   @ In[86]:3",
      " [8] eval",
      "   @ ./boot.jl:368 [inlined]",
      " [9] include_string(mapexpr::typeof(REPL.softscope), mod::Module, code::String, filename::String)",
      "   @ Base ./loading.jl:1428"
     ]
    }
   ],
   "source": [
    "A = [1 1; 2 2]\n",
    "b = [4;2]\n",
    "A\\b"
   ]
  },
  {
   "cell_type": "code",
   "execution_count": 90,
   "id": "ca1534ac-0f16-4c86-b7b0-9af62ab636d9",
   "metadata": {},
   "outputs": [
    {
     "ename": "LoadError",
     "evalue": "SingularException(2)",
     "output_type": "error",
     "traceback": [
      "SingularException(2)",
      "",
      "Stacktrace:",
      " [1] checknonsingular",
      "   @ /Applications/Julia-1.8.app/Contents/Resources/julia/share/julia/stdlib/v1.8/LinearAlgebra/src/factorization.jl:19 [inlined]",
      " [2] checknonsingular",
      "   @ /Applications/Julia-1.8.app/Contents/Resources/julia/share/julia/stdlib/v1.8/LinearAlgebra/src/factorization.jl:21 [inlined]",
      " [3] #lu!#170",
      "   @ /Applications/Julia-1.8.app/Contents/Resources/julia/share/julia/stdlib/v1.8/LinearAlgebra/src/lu.jl:82 [inlined]",
      " [4] #lu#177",
      "   @ /Applications/Julia-1.8.app/Contents/Resources/julia/share/julia/stdlib/v1.8/LinearAlgebra/src/lu.jl:279 [inlined]",
      " [5] lu (repeats 2 times)",
      "   @ /Applications/Julia-1.8.app/Contents/Resources/julia/share/julia/stdlib/v1.8/LinearAlgebra/src/lu.jl:278 [inlined]",
      " [6] \\(A::Matrix{Int64}, B::Vector{Int64})",
      "   @ LinearAlgebra /Applications/Julia-1.8.app/Contents/Resources/julia/share/julia/stdlib/v1.8/LinearAlgebra/src/generic.jl:1110",
      " [7] top-level scope",
      "   @ In[90]:3",
      " [8] eval",
      "   @ ./boot.jl:368 [inlined]",
      " [9] include_string(mapexpr::typeof(REPL.softscope), mod::Module, code::String, filename::String)",
      "   @ Base ./loading.jl:1428"
     ]
    }
   ],
   "source": [
    "A = [1 1; 2 2]\n",
    "b = [2;5]\n",
    "A\\b"
   ]
  },
  {
   "cell_type": "code",
   "execution_count": 91,
   "id": "03b5aa78-b135-4652-9b3e-c9b824c6e676",
   "metadata": {},
   "outputs": [
    {
     "data": {
      "text/plain": [
       "2-element Vector{Float64}:\n",
       " 0.4999999999999999\n",
       " 0.5"
      ]
     },
     "execution_count": 91,
     "metadata": {},
     "output_type": "execute_result"
    }
   ],
   "source": [
    "A = [1 1; 2 2; 3 3]\n",
    "b = [1; 2; 3]\n",
    "A\\b"
   ]
  },
  {
   "cell_type": "code",
   "execution_count": 92,
   "id": "323f65bb-69e9-4042-ab09-b1d91d905c4c",
   "metadata": {},
   "outputs": [
    {
     "data": {
      "text/plain": [
       "2-element Vector{Float64}:\n",
       "  1.5000000000000004\n",
       " -0.9999999999999997"
      ]
     },
     "execution_count": 92,
     "metadata": {},
     "output_type": "execute_result"
    }
   ],
   "source": [
    "A = [1 1; 2 1; 1 -1]\n",
    "b = [2; 1; 3]\n",
    "A\\b"
   ]
  },
  {
   "cell_type": "code",
   "execution_count": 93,
   "id": "e9e57254-e28a-48a2-b2eb-806874de225d",
   "metadata": {},
   "outputs": [
    {
     "data": {
      "text/plain": [
       "2-element Vector{Float64}:\n",
       " -0.9999999999999989\n",
       "  2.9999999999999982"
      ]
     },
     "execution_count": 93,
     "metadata": {},
     "output_type": "execute_result"
    }
   ],
   "source": [
    "A = [1 1; 2 1; 3 2]\n",
    "b = [2; 1; 3]\n",
    "A\\b"
   ]
  },
  {
   "cell_type": "code",
   "execution_count": 94,
   "id": "2db73586-ef5d-4e34-aea8-773c1912f8ab",
   "metadata": {},
   "outputs": [
    {
     "data": {
      "text/plain": [
       "3-element Vector{Float64}:\n",
       "  2.2142857142857144\n",
       "  0.35714285714285704\n",
       " -0.5714285714285712"
      ]
     },
     "execution_count": 94,
     "metadata": {},
     "output_type": "execute_result"
    }
   ],
   "source": [
    "# 2.2\n",
    "\n",
    "A = [1 1 1; 1 -1 -2]\n",
    "b = [2; 3]\n",
    "A\\b"
   ]
  },
  {
   "cell_type": "code",
   "execution_count": 96,
   "id": "e202de36-3b45-4699-8262-ae819b8991a5",
   "metadata": {},
   "outputs": [
    {
     "data": {
      "text/plain": [
       "3-element Vector{Float64}:\n",
       " -0.5\n",
       "  2.5\n",
       "  0.0"
      ]
     },
     "execution_count": 96,
     "metadata": {},
     "output_type": "execute_result"
    }
   ],
   "source": [
    "A = [1 1 1; 2 2 -3; 3 1 1]\n",
    "b = [2; 4; 1]\n",
    "A\\b"
   ]
  },
  {
   "cell_type": "code",
   "execution_count": 97,
   "id": "271fb46f-fd08-4a90-bc26-8fb499850946",
   "metadata": {},
   "outputs": [
    {
     "ename": "LoadError",
     "evalue": "SingularException(2)",
     "output_type": "error",
     "traceback": [
      "SingularException(2)",
      "",
      "Stacktrace:",
      " [1] checknonsingular",
      "   @ /Applications/Julia-1.8.app/Contents/Resources/julia/share/julia/stdlib/v1.8/LinearAlgebra/src/factorization.jl:19 [inlined]",
      " [2] checknonsingular",
      "   @ /Applications/Julia-1.8.app/Contents/Resources/julia/share/julia/stdlib/v1.8/LinearAlgebra/src/factorization.jl:21 [inlined]",
      " [3] #lu!#170",
      "   @ /Applications/Julia-1.8.app/Contents/Resources/julia/share/julia/stdlib/v1.8/LinearAlgebra/src/lu.jl:82 [inlined]",
      " [4] #lu#177",
      "   @ /Applications/Julia-1.8.app/Contents/Resources/julia/share/julia/stdlib/v1.8/LinearAlgebra/src/lu.jl:279 [inlined]",
      " [5] lu (repeats 2 times)",
      "   @ /Applications/Julia-1.8.app/Contents/Resources/julia/share/julia/stdlib/v1.8/LinearAlgebra/src/lu.jl:278 [inlined]",
      " [6] \\(A::Matrix{Int64}, B::Vector{Int64})",
      "   @ LinearAlgebra /Applications/Julia-1.8.app/Contents/Resources/julia/share/julia/stdlib/v1.8/LinearAlgebra/src/generic.jl:1110",
      " [7] top-level scope",
      "   @ In[97]:3",
      " [8] eval",
      "   @ ./boot.jl:368 [inlined]",
      " [9] include_string(mapexpr::typeof(REPL.softscope), mod::Module, code::String, filename::String)",
      "   @ Base ./loading.jl:1428"
     ]
    }
   ],
   "source": [
    "A = [1 1 1; 1 1 2; 2 2 3]\n",
    "b = [1; 0; 1]\n",
    "A\\b"
   ]
  },
  {
   "cell_type": "code",
   "execution_count": 98,
   "id": "7cb51a26-0824-4dfb-b130-17c2f6d78c91",
   "metadata": {},
   "outputs": [
    {
     "ename": "LoadError",
     "evalue": "SingularException(2)",
     "output_type": "error",
     "traceback": [
      "SingularException(2)",
      "",
      "Stacktrace:",
      " [1] checknonsingular",
      "   @ /Applications/Julia-1.8.app/Contents/Resources/julia/share/julia/stdlib/v1.8/LinearAlgebra/src/factorization.jl:19 [inlined]",
      " [2] checknonsingular",
      "   @ /Applications/Julia-1.8.app/Contents/Resources/julia/share/julia/stdlib/v1.8/LinearAlgebra/src/factorization.jl:21 [inlined]",
      " [3] #lu!#170",
      "   @ /Applications/Julia-1.8.app/Contents/Resources/julia/share/julia/stdlib/v1.8/LinearAlgebra/src/lu.jl:82 [inlined]",
      " [4] #lu#177",
      "   @ /Applications/Julia-1.8.app/Contents/Resources/julia/share/julia/stdlib/v1.8/LinearAlgebra/src/lu.jl:279 [inlined]",
      " [5] lu (repeats 2 times)",
      "   @ /Applications/Julia-1.8.app/Contents/Resources/julia/share/julia/stdlib/v1.8/LinearAlgebra/src/lu.jl:278 [inlined]",
      " [6] \\(A::Matrix{Int64}, B::Vector{Int64})",
      "   @ LinearAlgebra /Applications/Julia-1.8.app/Contents/Resources/julia/share/julia/stdlib/v1.8/LinearAlgebra/src/generic.jl:1110",
      " [7] top-level scope",
      "   @ In[98]:3",
      " [8] eval",
      "   @ ./boot.jl:368 [inlined]",
      " [9] include_string(mapexpr::typeof(REPL.softscope), mod::Module, code::String, filename::String)",
      "   @ Base ./loading.jl:1428"
     ]
    }
   ],
   "source": [
    "A = [1 1 1; 1 1 2; 2 2 3]\n",
    "b = [1; 0; 0]\n",
    "A\\b"
   ]
  },
  {
   "cell_type": "code",
   "execution_count": 99,
   "id": "c13c6894-9a59-4d1f-b2cb-f5517864d0c6",
   "metadata": {},
   "outputs": [
    {
     "data": {
      "text/plain": [
       "2×2 Diagonal{Float64, Vector{Float64}}:\n",
       " -1.0   ⋅ \n",
       "   ⋅   3.0"
      ]
     },
     "execution_count": 99,
     "metadata": {},
     "output_type": "execute_result"
    }
   ],
   "source": [
    "# 3.1\n",
    "M = [1 -2; -2 1]\n",
    "Diagonal(eigen(M).values)"
   ]
  },
  {
   "cell_type": "code",
   "execution_count": 100,
   "id": "63d77382-4191-43dc-b214-db1d1e6420ec",
   "metadata": {},
   "outputs": [
    {
     "data": {
      "text/plain": [
       "2×2 Matrix{Float64}:\n",
       " -1.0  0.0\n",
       "  0.0  3.0"
      ]
     },
     "execution_count": 100,
     "metadata": {},
     "output_type": "execute_result"
    }
   ],
   "source": [
    "Matrix(Diagonal(eigen(M).values))"
   ]
  },
  {
   "cell_type": "code",
   "execution_count": 101,
   "id": "60c7a2d5-7afe-4dc5-96f2-91c3c40ce155",
   "metadata": {},
   "outputs": [
    {
     "data": {
      "text/plain": [
       "2×2 Diagonal{Float64, Vector{Float64}}:\n",
       " -0.236068   ⋅ \n",
       "   ⋅        4.23607"
      ]
     },
     "execution_count": 101,
     "metadata": {},
     "output_type": "execute_result"
    }
   ],
   "source": [
    "M = [1 -2; -2 3]\n",
    "Diagonal(eigen(M).values)"
   ]
  },
  {
   "cell_type": "code",
   "execution_count": 102,
   "id": "d68c504b-25b1-4f28-997c-e5c58e3cbea4",
   "metadata": {},
   "outputs": [
    {
     "data": {
      "text/plain": [
       "3×3 Diagonal{Float64, Vector{Float64}}:\n",
       " -2.14134   ⋅         ⋅ \n",
       "   ⋅       0.515138   ⋅ \n",
       "   ⋅        ⋅        3.6262"
      ]
     },
     "execution_count": 102,
     "metadata": {},
     "output_type": "execute_result"
    }
   ],
   "source": [
    "M = [1 -2 0; -2 1 2; 0 2 0]\n",
    "Diagonal(eigen(M).values)"
   ]
  },
  {
   "cell_type": "code",
   "execution_count": 103,
   "id": "f6414629-b118-4923-aeb8-81fdb9399779",
   "metadata": {},
   "outputs": [
    {
     "data": {
      "text/plain": [
       "2×2 Matrix{Int64}:\n",
       "  29525  -29524\n",
       " -29524   29525"
      ]
     },
     "execution_count": 103,
     "metadata": {},
     "output_type": "execute_result"
    }
   ],
   "source": [
    "# 3.2\n",
    "\n",
    "C = [1 -2; -2 1]\n",
    "C^10"
   ]
  },
  {
   "cell_type": "code",
   "execution_count": 104,
   "id": "fde2f345-f895-4ef9-8791-23b6b613b13d",
   "metadata": {},
   "outputs": [
    {
     "data": {
      "text/plain": [
       "2×2 Matrix{Float64}:\n",
       "  2.1889   -0.45685\n",
       " -0.45685   2.1889"
      ]
     },
     "execution_count": 104,
     "metadata": {},
     "output_type": "execute_result"
    }
   ],
   "source": [
    "C = [5 -2; -2 5]\n",
    "sqrt(C)"
   ]
  },
  {
   "cell_type": "code",
   "execution_count": 105,
   "id": "396801d1-8488-4d16-93a7-e50654aa5822",
   "metadata": {},
   "outputs": [
    {
     "data": {
      "text/plain": [
       "2×2 Symmetric{ComplexF64, Matrix{ComplexF64}}:\n",
       "  0.971125+0.433013im  -0.471125+0.433013im\n",
       " -0.471125+0.433013im   0.971125+0.433013im"
      ]
     },
     "execution_count": 105,
     "metadata": {},
     "output_type": "execute_result"
    }
   ],
   "source": [
    "C = [1 -2; -2 1]\n",
    "C^(1//3)"
   ]
  },
  {
   "cell_type": "code",
   "execution_count": 106,
   "id": "4699f797-4043-4ee5-b518-6e71e3e0f46b",
   "metadata": {},
   "outputs": [
    {
     "data": {
      "text/plain": [
       "2×2 Matrix{ComplexF64}:\n",
       " 0.568864+0.351578im  0.920442-0.217287im\n",
       " 0.920442-0.217287im   1.48931+0.134291im"
      ]
     },
     "execution_count": 106,
     "metadata": {},
     "output_type": "execute_result"
    }
   ],
   "source": [
    "C = [1 2; 2 3]\n",
    "sqrt(C)"
   ]
  },
  {
   "cell_type": "code",
   "execution_count": 107,
   "id": "e43de08e-09e8-4ab8-92ef-34d1c9038dec",
   "metadata": {},
   "outputs": [
    {
     "data": {
      "text/plain": [
       "5×5 Matrix{Int64}:\n",
       " 140   97   74  168  131\n",
       "  97  106   89  131   36\n",
       "  74   89  152  144   71\n",
       " 168  131  144   54  142\n",
       " 131   36   71  142   36"
      ]
     },
     "execution_count": 107,
     "metadata": {},
     "output_type": "execute_result"
    }
   ],
   "source": [
    "#3.3\n",
    "\n",
    "A = [140 97 74 168 131;\n",
    "    97 106 89 131 36;\n",
    "    74 89 152 144 71;\n",
    "    168 131 144 54 142;\n",
    "    131 36 71 142 36]"
   ]
  },
  {
   "cell_type": "code",
   "execution_count": 135,
   "id": "0a9ac41a-4397-4579-bfbb-01c7e3aaf37b",
   "metadata": {},
   "outputs": [
    {
     "data": {
      "text/plain": [
       "3-element Vector{Float64}:\n",
       " 0.02679491924311228\n",
       " 0.1\n",
       " 0.37320508075688774"
      ]
     },
     "execution_count": 135,
     "metadata": {},
     "output_type": "execute_result"
    }
   ],
   "source": [
    "eigvals(A)"
   ]
  },
  {
   "cell_type": "code",
   "execution_count": 136,
   "id": "eb1b0e01-0723-425d-8ac2-a5a82063f1db",
   "metadata": {},
   "outputs": [
    {
     "data": {
      "text/plain": [
       "3×3 Diagonal{Float64, Vector{Float64}}:\n",
       " 0.0267949   ⋅    ⋅ \n",
       "  ⋅         0.1   ⋅ \n",
       "  ⋅          ⋅   0.373205"
      ]
     },
     "execution_count": 136,
     "metadata": {},
     "output_type": "execute_result"
    }
   ],
   "source": [
    "Diagonal(eigen(A).values)"
   ]
  },
  {
   "cell_type": "code",
   "execution_count": 109,
   "id": "6a63af8b-2a3b-4969-8b08-059b63421f28",
   "metadata": {},
   "outputs": [
    {
     "data": {
      "text/plain": [
       "5×5 Matrix{Float64}:\n",
       " 1.0        0.0        0.0       0.0       0.0\n",
       " 0.779762   1.0        0.0       0.0       0.0\n",
       " 0.440476  -0.47314    1.0       0.0       0.0\n",
       " 0.833333   0.183929  -0.556312  1.0       0.0\n",
       " 0.577381  -0.459012  -0.189658  0.897068  1.0"
      ]
     },
     "execution_count": 109,
     "metadata": {},
     "output_type": "execute_result"
    }
   ],
   "source": [
    "lu(A).L"
   ]
  },
  {
   "cell_type": "code",
   "execution_count": 137,
   "id": "92a950e5-22d7-46eb-addd-910e0e72d451",
   "metadata": {},
   "outputs": [
    {
     "name": "stdout",
     "output_type": "stream",
     "text": [
      "  1.458 μs (12 allocations: 1.64 KiB)\n"
     ]
    }
   ],
   "source": [
    "@btime eigvals(A);"
   ]
  },
  {
   "cell_type": "code",
   "execution_count": 138,
   "id": "47272748-0473-4164-908b-03fc3149a3c3",
   "metadata": {},
   "outputs": [
    {
     "name": "stdout",
     "output_type": "stream",
     "text": [
      "  4.289 μs (18 allocations: 4.28 KiB)\n"
     ]
    }
   ],
   "source": [
    "@btime Diagonal(eigen(A).values);"
   ]
  },
  {
   "cell_type": "code",
   "execution_count": 111,
   "id": "aca22a5b-2584-4978-b75e-6248300d010f",
   "metadata": {},
   "outputs": [
    {
     "name": "stdout",
     "output_type": "stream",
     "text": [
      "  601.695 ns (4 allocations: 640 bytes)\n"
     ]
    }
   ],
   "source": [
    "@btime lu(A).L;"
   ]
  },
  {
   "cell_type": "code",
   "execution_count": 114,
   "id": "cc3aa03a-d6e9-45f7-a6ab-2190eeebecf6",
   "metadata": {},
   "outputs": [
    {
     "data": {
      "text/plain": [
       "false"
      ]
     },
     "execution_count": 114,
     "metadata": {},
     "output_type": "execute_result"
    }
   ],
   "source": [
    "# 4.1\n",
    "\n",
    "A = [1 2; 3 4]\n",
    "E = Matrix{Int}(I, 2, 2)\n",
    "y = rand(0:10000, 2)\n",
    "all(>=(0), y\\(E-A))"
   ]
  },
  {
   "cell_type": "code",
   "execution_count": 118,
   "id": "8ca558e1-d236-4410-a298-39f4d1f683aa",
   "metadata": {},
   "outputs": [
    {
     "data": {
      "text/plain": [
       "false"
      ]
     },
     "execution_count": 118,
     "metadata": {},
     "output_type": "execute_result"
    }
   ],
   "source": [
    "A = Matrix{Rational{Int}}([1 2; 3 4])/2\n",
    "y = rand(0:10000, 2)\n",
    "all(>=(0), y\\(E-A))"
   ]
  },
  {
   "cell_type": "code",
   "execution_count": 119,
   "id": "3b882119-3215-4fd5-975b-3a0cb0635521",
   "metadata": {},
   "outputs": [
    {
     "data": {
      "text/plain": [
       "true"
      ]
     },
     "execution_count": 119,
     "metadata": {},
     "output_type": "execute_result"
    }
   ],
   "source": [
    "A = Matrix{Rational{Int}}([1 2; 3 4])/10\n",
    "y = rand(0:10000, 2)\n",
    "all(>=(0), y\\(E-A))"
   ]
  },
  {
   "cell_type": "code",
   "execution_count": 120,
   "id": "f96dba21-6d4c-4ec0-809f-abebc45ab427",
   "metadata": {},
   "outputs": [
    {
     "data": {
      "text/plain": [
       "false"
      ]
     },
     "execution_count": 120,
     "metadata": {},
     "output_type": "execute_result"
    }
   ],
   "source": [
    "# 4.2\n",
    "\n",
    "A = [1 2; 3 1]\n",
    "all(>=(0), inv(E-A))"
   ]
  },
  {
   "cell_type": "code",
   "execution_count": 121,
   "id": "0919242d-5e32-48a4-b134-f2c39a98b112",
   "metadata": {},
   "outputs": [
    {
     "data": {
      "text/plain": [
       "false"
      ]
     },
     "execution_count": 121,
     "metadata": {},
     "output_type": "execute_result"
    }
   ],
   "source": [
    "A = Matrix{Rational{Int}}([1 2; 3 1])/2\n",
    "all(>=(0), inv(E-A))"
   ]
  },
  {
   "cell_type": "code",
   "execution_count": 122,
   "id": "b6f8c277-9022-4d7c-a6ee-e15b4f41f20c",
   "metadata": {},
   "outputs": [
    {
     "data": {
      "text/plain": [
       "true"
      ]
     },
     "execution_count": 122,
     "metadata": {},
     "output_type": "execute_result"
    }
   ],
   "source": [
    "A = Matrix{Rational{Int}}([1 2; 3 1])/10\n",
    "all(>=(0), inv(E-A))"
   ]
  },
  {
   "cell_type": "code",
   "execution_count": 126,
   "id": "2c1d8fa6-f597-40ae-ba70-d497d89c5ba3",
   "metadata": {},
   "outputs": [
    {
     "data": {
      "text/plain": [
       "false"
      ]
     },
     "execution_count": 126,
     "metadata": {},
     "output_type": "execute_result"
    }
   ],
   "source": [
    "# 4.3\n",
    "A = [1 2; 3 1]\n",
    "all(<(1), broadcast(abs,eigvals(A)))"
   ]
  },
  {
   "cell_type": "code",
   "execution_count": 128,
   "id": "470e2902-f589-44f8-9169-2ed777c62d9c",
   "metadata": {},
   "outputs": [
    {
     "data": {
      "text/plain": [
       "false"
      ]
     },
     "execution_count": 128,
     "metadata": {},
     "output_type": "execute_result"
    }
   ],
   "source": [
    "A = Matrix{Rational{Int}}([1 2; 3 1])/2\n",
    "all(<(1), broadcast(abs,eigvals(A)))"
   ]
  },
  {
   "cell_type": "code",
   "execution_count": 129,
   "id": "d54c68a1-16c4-479c-bc4b-66c7a208127e",
   "metadata": {},
   "outputs": [
    {
     "data": {
      "text/plain": [
       "true"
      ]
     },
     "execution_count": 129,
     "metadata": {},
     "output_type": "execute_result"
    }
   ],
   "source": [
    "A = Matrix{Rational{Int}}([1 2; 3 1])/10\n",
    "all(<(1), broadcast(abs,eigvals(A)))"
   ]
  },
  {
   "cell_type": "code",
   "execution_count": 131,
   "id": "80767dc9-8c1b-49ce-8de1-7d6533a5c8b8",
   "metadata": {},
   "outputs": [
    {
     "data": {
      "text/plain": [
       "true"
      ]
     },
     "execution_count": 131,
     "metadata": {},
     "output_type": "execute_result"
    }
   ],
   "source": [
    "A = [0.1 0.2 0.3; 0 0.1 0.2; 0 0.1 0.3]\n",
    "all(<(1), broadcast(abs,eigvals(A)))"
   ]
  }
 ],
 "metadata": {
  "kernelspec": {
   "display_name": "Julia 1.8.2",
   "language": "julia",
   "name": "julia-1.8"
  },
  "language_info": {
   "file_extension": ".jl",
   "mimetype": "application/julia",
   "name": "julia",
   "version": "1.8.2"
  }
 },
 "nbformat": 4,
 "nbformat_minor": 5
}
