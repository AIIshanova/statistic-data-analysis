{
 "cells": [
  {
   "cell_type": "code",
   "execution_count": 1,
   "id": "58770955-8fc6-4374-b19c-acf8da5227c2",
   "metadata": {},
   "outputs": [
    {
     "data": {
      "text/plain": [
       "()"
      ]
     },
     "execution_count": 1,
     "metadata": {},
     "output_type": "execute_result"
    }
   ],
   "source": [
    "# пустой кортеж:\n",
    "()"
   ]
  },
  {
   "cell_type": "code",
   "execution_count": 2,
   "id": "943038c9-3c86-4160-87ae-e607c76781df",
   "metadata": {},
   "outputs": [
    {
     "data": {
      "text/plain": [
       "(\"Python\", \"Julia\", \"R\")"
      ]
     },
     "execution_count": 2,
     "metadata": {},
     "output_type": "execute_result"
    }
   ],
   "source": [
    "# кортеж из элементов типа String:\n",
    "favoritelang = (\"Python\",\"Julia\",\"R\")"
   ]
  },
  {
   "cell_type": "code",
   "execution_count": 3,
   "id": "edc521a1-5f4f-41ee-aa72-a7e20e859360",
   "metadata": {},
   "outputs": [
    {
     "data": {
      "text/plain": [
       "(1, 2, 3)"
      ]
     },
     "execution_count": 3,
     "metadata": {},
     "output_type": "execute_result"
    }
   ],
   "source": [
    "# кортеж из целых чисел:\n",
    "x1 = (1, 2, 3)"
   ]
  },
  {
   "cell_type": "code",
   "execution_count": 5,
   "id": "19b7e032-fc59-4505-b1a1-0744d17fc056",
   "metadata": {},
   "outputs": [
    {
     "data": {
      "text/plain": [
       "(1, 2.0, \"tmp\")"
      ]
     },
     "execution_count": 5,
     "metadata": {},
     "output_type": "execute_result"
    }
   ],
   "source": [
    "# кортеж из элементов разных типов: \n",
    "x2 = (1, 2.0, \"tmp\")"
   ]
  },
  {
   "cell_type": "code",
   "execution_count": 6,
   "id": "fa1be0d2-312f-4337-a5c5-a652e28fb3d6",
   "metadata": {},
   "outputs": [
    {
     "data": {
      "text/plain": [
       "(a = 2, b = 3)"
      ]
     },
     "execution_count": 6,
     "metadata": {},
     "output_type": "execute_result"
    }
   ],
   "source": [
    "# именованный кортеж:\n",
    "x3 = (a=2, b=1+2)"
   ]
  },
  {
   "cell_type": "code",
   "execution_count": 7,
   "id": "12a13b19-bcca-4a3b-a3e5-357c655b6dfd",
   "metadata": {},
   "outputs": [
    {
     "data": {
      "text/plain": [
       "3"
      ]
     },
     "execution_count": 7,
     "metadata": {},
     "output_type": "execute_result"
    }
   ],
   "source": [
    "# длина кортежа x2:\n",
    "length(x2)"
   ]
  },
  {
   "cell_type": "code",
   "execution_count": 8,
   "id": "b873071b-9314-484d-8cc6-bde8e07445db",
   "metadata": {},
   "outputs": [
    {
     "data": {
      "text/plain": [
       "(1, 2.0, \"tmp\")"
      ]
     },
     "execution_count": 8,
     "metadata": {},
     "output_type": "execute_result"
    }
   ],
   "source": [
    "# обратиться к элементам кортежа x2:\n",
    "x2[1], x2[2], x2[3]"
   ]
  },
  {
   "cell_type": "code",
   "execution_count": 9,
   "id": "03a085d7-53c4-4363-9906-9f97d3e5ddd0",
   "metadata": {},
   "outputs": [
    {
     "data": {
      "text/plain": [
       "5"
      ]
     },
     "execution_count": 9,
     "metadata": {},
     "output_type": "execute_result"
    }
   ],
   "source": [
    "# произвести какую-либо операцию (сложение)\n",
    "# с вторым и третьим элементами кортежа x1:\n",
    "с = x1[2] + x1[3]"
   ]
  },
  {
   "cell_type": "code",
   "execution_count": 10,
   "id": "f3bc5732-1fbe-4096-9240-ab9abe4de1be",
   "metadata": {},
   "outputs": [
    {
     "data": {
      "text/plain": [
       "(2, 3, 3)"
      ]
     },
     "execution_count": 10,
     "metadata": {},
     "output_type": "execute_result"
    }
   ],
   "source": [
    "# обращение к элементам именованного кортежа x3: \n",
    "x3.a, x3.b, x3[2]"
   ]
  },
  {
   "cell_type": "code",
   "execution_count": 11,
   "id": "73697176-c64e-4a8a-8cc5-e4ec9cd38e74",
   "metadata": {},
   "outputs": [
    {
     "data": {
      "text/plain": [
       "(true, false)"
      ]
     },
     "execution_count": 11,
     "metadata": {},
     "output_type": "execute_result"
    }
   ],
   "source": [
    "# проверка вхождения элементов tmp и 0 в кортеж x2 \n",
    "# (два способа обращения к методу in()):\n",
    "in(\"tmp\", x2), 0 in x2"
   ]
  },
  {
   "cell_type": "code",
   "execution_count": 23,
   "id": "41b2f8d5-c7c8-455c-891c-55c4a00ebff0",
   "metadata": {},
   "outputs": [
    {
     "data": {
      "text/plain": [
       "Dict{String, Any} with 2 entries:\n",
       "  \"Бухгалтерия\" => \"555-2368\"\n",
       "  \"Иванов И.И.\" => (\"867-5309\", \"333-5544\")"
      ]
     },
     "execution_count": 23,
     "metadata": {},
     "output_type": "execute_result"
    }
   ],
   "source": [
    "# создать словарь с именем phonebook:\n",
    "phonebook = Dict(\"Иванов И.И.\" => (\"867-5309\",\"333-5544\"), \n",
    "    \"Бухгалтерия\" => \"555-2368\")"
   ]
  },
  {
   "cell_type": "code",
   "execution_count": 13,
   "id": "98fb5bdc-d713-4a59-83b5-c30cb439fc31",
   "metadata": {},
   "outputs": [
    {
     "data": {
      "text/plain": [
       "KeySet for a Dict{String, Any} with 2 entries. Keys:\n",
       "  \"Бухгалтерия\"\n",
       "  \"Иванов И.И.\""
      ]
     },
     "execution_count": 13,
     "metadata": {},
     "output_type": "execute_result"
    }
   ],
   "source": [
    "# вывести ключи словаря:\n",
    "keys(phonebook)"
   ]
  },
  {
   "cell_type": "code",
   "execution_count": 14,
   "id": "16a83757-a1de-4e51-8c5e-033b0d16c1a3",
   "metadata": {},
   "outputs": [
    {
     "data": {
      "text/plain": [
       "ValueIterator for a Dict{String, Any} with 2 entries. Values:\n",
       "  \"555-2368\"\n",
       "  (\"867-5309\", \"333-5544\")"
      ]
     },
     "execution_count": 14,
     "metadata": {},
     "output_type": "execute_result"
    }
   ],
   "source": [
    "# вывести значения элементов словаря:\n",
    "values(phonebook)"
   ]
  },
  {
   "cell_type": "code",
   "execution_count": 15,
   "id": "dbba1c44-8e18-40d9-bd4b-58dd0cb7e455",
   "metadata": {},
   "outputs": [
    {
     "data": {
      "text/plain": [
       "Dict{String, Any} with 2 entries:\n",
       "  \"Бухгалтерия\" => \"555-2368\"\n",
       "  \"Иванов И.И.\" => (\"867-5309\", \"333-5544\")"
      ]
     },
     "execution_count": 15,
     "metadata": {},
     "output_type": "execute_result"
    }
   ],
   "source": [
    "# вывести заданные в словаре пары \"ключ - значение\":\n",
    "pairs(phonebook)"
   ]
  },
  {
   "cell_type": "code",
   "execution_count": 16,
   "id": "88b5055a-e657-46e8-802c-f4f94e6672b5",
   "metadata": {},
   "outputs": [
    {
     "data": {
      "text/plain": [
       "true"
      ]
     },
     "execution_count": 16,
     "metadata": {},
     "output_type": "execute_result"
    }
   ],
   "source": [
    "# проверка вхождения ключа в словарь:\n",
    "haskey(phonebook, \"Иванов И.И.\")"
   ]
  },
  {
   "cell_type": "code",
   "execution_count": 24,
   "id": "eeb473f4-97df-490f-a2a8-ab8e22e3ace6",
   "metadata": {},
   "outputs": [
    {
     "data": {
      "text/plain": [
       "\"555-3344\""
      ]
     },
     "execution_count": 24,
     "metadata": {},
     "output_type": "execute_result"
    }
   ],
   "source": [
    "# добавить элемент в словарь:\n",
    "phonebook[\"Сидоров П.С.\"] = \"555-3344\""
   ]
  },
  {
   "cell_type": "code",
   "execution_count": 25,
   "id": "2f92c8a1-8645-43d1-8625-66e21ed3fedc",
   "metadata": {},
   "outputs": [
    {
     "data": {
      "text/plain": [
       "(\"867-5309\", \"333-5544\")"
      ]
     },
     "execution_count": 25,
     "metadata": {},
     "output_type": "execute_result"
    }
   ],
   "source": [
    "# удалить ключ и связанные с ним значения из словаря\n",
    "pop!(phonebook, \"Иванов И.И.\")"
   ]
  },
  {
   "cell_type": "code",
   "execution_count": 26,
   "id": "78623b05-20a2-407d-9240-17229fe384af",
   "metadata": {},
   "outputs": [
    {
     "data": {
      "text/plain": [
       "(Dict{String, Real}(\"bar\" => 13.0, \"baz\" => 17, \"foo\" => 0.0), Dict{String, Real}(\"bar\" => 42.0, \"baz\" => 17, \"foo\" => 0.0))"
      ]
     },
     "execution_count": 26,
     "metadata": {},
     "output_type": "execute_result"
    }
   ],
   "source": [
    "# Объединение словарей (функция merge()):\n",
    "a = Dict(\"foo\" => 0.0, \"bar\" => 42.0);\n",
    "b = Dict(\"baz\" => 17, \"bar\" => 13.0);\n",
    "merge(a, b), merge(b,a)"
   ]
  },
  {
   "cell_type": "code",
   "execution_count": 27,
   "id": "2086db88-4487-450f-8127-303738cb437a",
   "metadata": {},
   "outputs": [
    {
     "data": {
      "text/plain": [
       "Set{Int64} with 4 elements:\n",
       "  5\n",
       "  4\n",
       "  3\n",
       "  1"
      ]
     },
     "execution_count": 27,
     "metadata": {},
     "output_type": "execute_result"
    }
   ],
   "source": [
    "# создать множество из четырёх целочисленных значений:\n",
    "A = Set([1, 3, 4, 5])"
   ]
  },
  {
   "cell_type": "code",
   "execution_count": 28,
   "id": "52caba6a-edb7-48d7-822e-9de92497f098",
   "metadata": {},
   "outputs": [
    {
     "data": {
      "text/plain": [
       "Set{Char} with 5 elements:\n",
       "  'a'\n",
       "  'd'\n",
       "  'r'\n",
       "  'k'\n",
       "  'b'"
      ]
     },
     "execution_count": 28,
     "metadata": {},
     "output_type": "execute_result"
    }
   ],
   "source": [
    "# создать множество из 11 символьных значений:\n",
    "B = Set(\"abrakadabra\")"
   ]
  },
  {
   "cell_type": "code",
   "execution_count": 29,
   "id": "5f1341d7-ae1f-4004-9857-8d8705b5ace1",
   "metadata": {},
   "outputs": [
    {
     "data": {
      "text/plain": [
       "false"
      ]
     },
     "execution_count": 29,
     "metadata": {},
     "output_type": "execute_result"
    }
   ],
   "source": [
    "# проверка эквивалентности двух множеств:\n",
    "S1 = Set([1,2]);\n",
    "S2 = Set([3,4]);\n",
    "issetequal(S1,S2)"
   ]
  },
  {
   "cell_type": "code",
   "execution_count": 30,
   "id": "6bbd9808-0592-47ab-9510-2f88cf8dff72",
   "metadata": {},
   "outputs": [
    {
     "data": {
      "text/plain": [
       "true"
      ]
     },
     "execution_count": 30,
     "metadata": {},
     "output_type": "execute_result"
    }
   ],
   "source": [
    "S3 = Set([1,2,2,3,1,2,3,2,1]); \n",
    "S4 = Set([2,3,1]); \n",
    "issetequal(S3,S4)"
   ]
  },
  {
   "cell_type": "code",
   "execution_count": 31,
   "id": "d75d45bb-261b-45a4-a7e8-c1e6bd591776",
   "metadata": {},
   "outputs": [
    {
     "data": {
      "text/plain": [
       "Set{Int64} with 4 elements:\n",
       "  4\n",
       "  2\n",
       "  3\n",
       "  1"
      ]
     },
     "execution_count": 31,
     "metadata": {},
     "output_type": "execute_result"
    }
   ],
   "source": [
    "# объединение множеств:\n",
    "C=union(S1,S2)"
   ]
  },
  {
   "cell_type": "code",
   "execution_count": 32,
   "id": "004d1004-214b-493f-8e39-7a50a34efcef",
   "metadata": {},
   "outputs": [
    {
     "data": {
      "text/plain": [
       "Set{Int64} with 2 elements:\n",
       "  2\n",
       "  1"
      ]
     },
     "execution_count": 32,
     "metadata": {},
     "output_type": "execute_result"
    }
   ],
   "source": [
    "# пересечение множеств:\n",
    "D = intersect(S1,S3)"
   ]
  },
  {
   "cell_type": "code",
   "execution_count": 33,
   "id": "95d09d96-9def-4514-a606-c0f72390d5ea",
   "metadata": {},
   "outputs": [
    {
     "data": {
      "text/plain": [
       "Set{Int64} with 1 element:\n",
       "  3"
      ]
     },
     "execution_count": 33,
     "metadata": {},
     "output_type": "execute_result"
    }
   ],
   "source": [
    "# разность множеств:\n",
    "E = setdiff(S3,S1)"
   ]
  },
  {
   "cell_type": "code",
   "execution_count": 34,
   "id": "dc177882-ac3e-4f27-bdf0-c3e8c4745fa4",
   "metadata": {},
   "outputs": [
    {
     "data": {
      "text/plain": [
       "true"
      ]
     },
     "execution_count": 34,
     "metadata": {},
     "output_type": "execute_result"
    }
   ],
   "source": [
    "# проверка вхождения элементов одного множества в другое:\n",
    "issubset(S1,S4)"
   ]
  },
  {
   "cell_type": "code",
   "execution_count": 35,
   "id": "e7f797ec-0639-4a67-90f2-5d07ee2ca05b",
   "metadata": {},
   "outputs": [
    {
     "data": {
      "text/plain": [
       "Set{Int64} with 4 elements:\n",
       "  2\n",
       "  99\n",
       "  3\n",
       "  1"
      ]
     },
     "execution_count": 35,
     "metadata": {},
     "output_type": "execute_result"
    }
   ],
   "source": [
    "# добавление элемента в множество:\n",
    "push!(S4, 99)"
   ]
  },
  {
   "cell_type": "code",
   "execution_count": 36,
   "id": "66a82582-3979-4969-a00e-5096b7998e25",
   "metadata": {},
   "outputs": [
    {
     "data": {
      "text/plain": [
       "2"
      ]
     },
     "execution_count": 36,
     "metadata": {},
     "output_type": "execute_result"
    }
   ],
   "source": [
    "# удаление последнего элемента множества:\n",
    "pop!(S4)"
   ]
  },
  {
   "cell_type": "code",
   "execution_count": 37,
   "id": "06ff013b-128b-4cde-86b4-d396a535fc90",
   "metadata": {},
   "outputs": [
    {
     "data": {
      "text/plain": [
       "Any[]"
      ]
     },
     "execution_count": 37,
     "metadata": {},
     "output_type": "execute_result"
    }
   ],
   "source": [
    "# создание пустого массива с абстрактным типом:\n",
    "empty_array_1 = []"
   ]
  },
  {
   "cell_type": "code",
   "execution_count": 39,
   "id": "a87da068-8d40-4a76-a908-4ff68f9cc25e",
   "metadata": {},
   "outputs": [
    {
     "data": {
      "text/plain": [
       "Int64[]"
      ]
     },
     "execution_count": 39,
     "metadata": {},
     "output_type": "execute_result"
    }
   ],
   "source": [
    "# создание пустого массива с конкретным типом: \n",
    "empty_array_2 = (Int64)[]"
   ]
  },
  {
   "cell_type": "code",
   "execution_count": 40,
   "id": "91d29038-ce5f-4c28-9f65-aab27de67f1b",
   "metadata": {},
   "outputs": [
    {
     "data": {
      "text/plain": [
       "Float64[]"
      ]
     },
     "execution_count": 40,
     "metadata": {},
     "output_type": "execute_result"
    }
   ],
   "source": [
    "empty_array_3 = (Float64)[]"
   ]
  },
  {
   "cell_type": "code",
   "execution_count": 41,
   "id": "391da5b9-7b3d-4f3e-b29c-52bc12b34702",
   "metadata": {},
   "outputs": [
    {
     "data": {
      "text/plain": [
       "3-element Vector{Int64}:\n",
       " 1\n",
       " 2\n",
       " 3"
      ]
     },
     "execution_count": 41,
     "metadata": {},
     "output_type": "execute_result"
    }
   ],
   "source": [
    "# вектор-столбец:\n",
    "a = [1, 2, 3]"
   ]
  },
  {
   "cell_type": "code",
   "execution_count": 42,
   "id": "14ec11d8-d368-4a43-8fd1-a3df5f3dd33d",
   "metadata": {},
   "outputs": [
    {
     "data": {
      "text/plain": [
       "1×3 Matrix{Int64}:\n",
       " 1  2  3"
      ]
     },
     "execution_count": 42,
     "metadata": {},
     "output_type": "execute_result"
    }
   ],
   "source": [
    "# вектор-строка:\n",
    "b = [1 2 3]"
   ]
  },
  {
   "cell_type": "code",
   "execution_count": 43,
   "id": "9087359f-4253-4639-ad8c-718fd372345b",
   "metadata": {},
   "outputs": [
    {
     "data": {
      "text/plain": [
       "3×3 Matrix{Int64}:\n",
       " 1  4  7\n",
       " 2  5  8\n",
       " 3  6  9"
      ]
     },
     "execution_count": 43,
     "metadata": {},
     "output_type": "execute_result"
    }
   ],
   "source": [
    "# многомерные массивы (матрицы):\n",
    "A = [[1, 2, 3] [4, 5, 6] [7, 8, 9]]"
   ]
  },
  {
   "cell_type": "code",
   "execution_count": 44,
   "id": "4aa2e0d4-5d9a-4209-96ac-954de9b238ce",
   "metadata": {},
   "outputs": [
    {
     "data": {
      "text/plain": [
       "3×3 Matrix{Int64}:\n",
       " 1  2  3\n",
       " 4  5  6\n",
       " 7  8  9"
      ]
     },
     "execution_count": 44,
     "metadata": {},
     "output_type": "execute_result"
    }
   ],
   "source": [
    "B = [[1 2 3]; [4 5 6]; [7 8 9]]"
   ]
  },
  {
   "cell_type": "code",
   "execution_count": 45,
   "id": "c9ded4e9-7ba1-4886-937f-ad2e56329c5e",
   "metadata": {},
   "outputs": [
    {
     "data": {
      "text/plain": [
       "1×8 Matrix{Float64}:\n",
       " 0.209468  0.4564  0.716093  0.980613  …  0.0162479  0.548266  0.456862"
      ]
     },
     "execution_count": 45,
     "metadata": {},
     "output_type": "execute_result"
    }
   ],
   "source": [
    "# одномерный массив из 8 элементов (массив $1 \\times 8$)\n",
    "# со значениями, случайно распределёнными на интервале [0, 1):\n",
    "c = rand(1,8)"
   ]
  },
  {
   "cell_type": "code",
   "execution_count": 46,
   "id": "a8402cab-8334-4452-a386-963a10269b8c",
   "metadata": {},
   "outputs": [],
   "source": [
    "# многомерный массив $2 \\times 3$ (2 строки, 3 столбца) элементов\n",
    "# со значениями, случайно распределёнными на интервале [0, 1):\n",
    "C = rand(2,3);"
   ]
  },
  {
   "cell_type": "code",
   "execution_count": 47,
   "id": "db34ec39-1555-4fc4-bcdd-f873ff3659de",
   "metadata": {},
   "outputs": [
    {
     "data": {
      "text/plain": [
       "2×3 Matrix{Float64}:\n",
       " 0.113001   0.941538  0.804419\n",
       " 0.0108865  0.935917  0.653456"
      ]
     },
     "execution_count": 47,
     "metadata": {},
     "output_type": "execute_result"
    }
   ],
   "source": [
    "C"
   ]
  },
  {
   "cell_type": "code",
   "execution_count": 48,
   "id": "162e5485-7b67-4c30-9734-5d0c20a7b574",
   "metadata": {},
   "outputs": [
    {
     "data": {
      "text/plain": [
       "4×3×2 Array{Float64, 3}:\n",
       "[:, :, 1] =\n",
       " 0.324993  0.920096   0.0513952\n",
       " 0.328887  0.0933765  0.0491648\n",
       " 0.879014  0.2423     0.362187\n",
       " 0.583426  0.360941   0.213788\n",
       "\n",
       "[:, :, 2] =\n",
       " 0.483531  0.347641  0.669412\n",
       " 0.095872  0.656512  0.402238\n",
       " 0.609596  0.412485  0.296019\n",
       " 0.133062  0.652427  0.532998"
      ]
     },
     "execution_count": 48,
     "metadata": {},
     "output_type": "execute_result"
    }
   ],
   "source": [
    "# трёхмерный массив:\n",
    "D = rand(4, 3, 2)"
   ]
  },
  {
   "cell_type": "code",
   "execution_count": 49,
   "id": "b0aca7d0-1c22-45f3-a783-451df0b1e32f",
   "metadata": {},
   "outputs": [
    {
     "data": {
      "text/plain": [
       "10-element Vector{Float64}:\n",
       " 1.0\n",
       " 1.4142135623730951\n",
       " 1.7320508075688772\n",
       " 2.0\n",
       " 2.23606797749979\n",
       " 2.449489742783178\n",
       " 2.6457513110645907\n",
       " 2.8284271247461903\n",
       " 3.0\n",
       " 3.1622776601683795"
      ]
     },
     "execution_count": 49,
     "metadata": {},
     "output_type": "execute_result"
    }
   ],
   "source": [
    "# массив из квадратных корней всех целых чисел от 1 до 10:\n",
    "roots = [sqrt(i) for i in 1:10]"
   ]
  },
  {
   "cell_type": "code",
   "execution_count": 50,
   "id": "8155cc96-fa37-4747-874a-3385cf261358",
   "metadata": {},
   "outputs": [
    {
     "data": {
      "text/plain": [
       "5-element Vector{Int64}:\n",
       "   3\n",
       "  27\n",
       "  75\n",
       " 147\n",
       " 243"
      ]
     },
     "execution_count": 50,
     "metadata": {},
     "output_type": "execute_result"
    }
   ],
   "source": [
    "# массив с элементами вида 3*x^2,\n",
    "# где x - нечётное число от 1 до 9 (включительно)\n",
    "ar_1 = [3*i^2 for i in 1:2:9]"
   ]
  },
  {
   "cell_type": "code",
   "execution_count": 51,
   "id": "82a763c3-8f0f-4598-951e-f5122140da86",
   "metadata": {},
   "outputs": [
    {
     "data": {
      "text/plain": [
       "4-element Vector{Int64}:\n",
       "  1\n",
       "  9\n",
       " 49\n",
       " 81"
      ]
     },
     "execution_count": 51,
     "metadata": {},
     "output_type": "execute_result"
    }
   ],
   "source": [
    "# массив квадратов элементов, если квадрат не делится на 5 или 4:\n",
    "ar_2=[i^2 for i=1:10 if (i^2%5!=0 && i^2%4!=0)]"
   ]
  },
  {
   "cell_type": "code",
   "execution_count": 52,
   "id": "a44e411d-e04e-446d-9fdd-eb9ab42ac642",
   "metadata": {},
   "outputs": [
    {
     "data": {
      "text/plain": [
       "5-element Vector{Float64}:\n",
       " 1.0\n",
       " 1.0\n",
       " 1.0\n",
       " 1.0\n",
       " 1.0"
      ]
     },
     "execution_count": 52,
     "metadata": {},
     "output_type": "execute_result"
    }
   ],
   "source": [
    "# одномерный массив из пяти единиц:\n",
    "ones(5)"
   ]
  },
  {
   "cell_type": "code",
   "execution_count": 53,
   "id": "a1dcbfd0-c69c-485d-acd7-19b22b1b7e98",
   "metadata": {},
   "outputs": [
    {
     "data": {
      "text/plain": [
       "2×3 Matrix{Float64}:\n",
       " 1.0  1.0  1.0\n",
       " 1.0  1.0  1.0"
      ]
     },
     "execution_count": 53,
     "metadata": {},
     "output_type": "execute_result"
    }
   ],
   "source": [
    "# двумерный массив 2x3 из единиц:\n",
    "ones(2,3)"
   ]
  },
  {
   "cell_type": "code",
   "execution_count": 54,
   "id": "7aee5686-0592-4a05-b0f1-bf5f2f4dd69a",
   "metadata": {},
   "outputs": [
    {
     "data": {
      "text/plain": [
       "4-element Vector{Float64}:\n",
       " 0.0\n",
       " 0.0\n",
       " 0.0\n",
       " 0.0"
      ]
     },
     "execution_count": 54,
     "metadata": {},
     "output_type": "execute_result"
    }
   ],
   "source": [
    "# одномерный массив из 4 нулей:\n",
    "zeros(4)"
   ]
  },
  {
   "cell_type": "code",
   "execution_count": 55,
   "id": "09d1d737-c9c4-42fb-8e5c-e7d27b33d832",
   "metadata": {},
   "outputs": [
    {
     "data": {
      "text/plain": [
       "3×2 Matrix{Float64}:\n",
       " 3.5  3.5\n",
       " 3.5  3.5\n",
       " 3.5  3.5"
      ]
     },
     "execution_count": 55,
     "metadata": {},
     "output_type": "execute_result"
    }
   ],
   "source": [
    "# заполнить массив 3x2 цифрами 3.5\n",
    "fill(3.5,(3,2))"
   ]
  },
  {
   "cell_type": "code",
   "execution_count": 56,
   "id": "22d3efee-1359-4cfe-9625-d189c3a5c640",
   "metadata": {},
   "outputs": [
    {
     "data": {
      "text/plain": [
       "3×6 Matrix{Int64}:\n",
       " 1  2  1  2  1  2\n",
       " 1  2  1  2  1  2\n",
       " 1  2  1  2  1  2"
      ]
     },
     "execution_count": 56,
     "metadata": {},
     "output_type": "execute_result"
    }
   ],
   "source": [
    "# заполнение массива посредством функции repeat():\n",
    "repeat([1,2],3,3)\n",
    "repeat([1 2],3,3)"
   ]
  },
  {
   "cell_type": "code",
   "execution_count": 57,
   "id": "7715e371-d149-4075-95ae-7f94d2210fa8",
   "metadata": {},
   "outputs": [
    {
     "data": {
      "text/plain": [
       "2×6 Matrix{Int64}:\n",
       " 1  3  5  7   9  11\n",
       " 2  4  6  8  10  12"
      ]
     },
     "execution_count": 57,
     "metadata": {},
     "output_type": "execute_result"
    }
   ],
   "source": [
    "# преобразование одномерного массива из целых чисел от 1 до 12\n",
    "# в двумерный массив  2x6\n",
    "a = collect(1:12)\n",
    "b = reshape(a,(2,6))"
   ]
  },
  {
   "cell_type": "code",
   "execution_count": 58,
   "id": "eded7f8f-648b-4323-9355-3dbe2cd89ebb",
   "metadata": {},
   "outputs": [
    {
     "data": {
      "text/plain": [
       "6×2 adjoint(::Matrix{Int64}) with eltype Int64:\n",
       "  1   2\n",
       "  3   4\n",
       "  5   6\n",
       "  7   8\n",
       "  9  10\n",
       " 11  12"
      ]
     },
     "execution_count": 58,
     "metadata": {},
     "output_type": "execute_result"
    }
   ],
   "source": [
    "# транспонирование\n",
    "b'"
   ]
  },
  {
   "cell_type": "code",
   "execution_count": 59,
   "id": "5c145f0b-1fef-4005-a200-011105fe446b",
   "metadata": {},
   "outputs": [
    {
     "data": {
      "text/plain": [
       "6×2 transpose(::Matrix{Int64}) with eltype Int64:\n",
       "  1   2\n",
       "  3   4\n",
       "  5   6\n",
       "  7   8\n",
       "  9  10\n",
       " 11  12"
      ]
     },
     "execution_count": 59,
     "metadata": {},
     "output_type": "execute_result"
    }
   ],
   "source": [
    "# транспонирование\n",
    "с = transpose(b)"
   ]
  },
  {
   "cell_type": "code",
   "execution_count": 60,
   "id": "39c3fba6-201d-4021-b9bb-4490feecbbb4",
   "metadata": {},
   "outputs": [
    {
     "data": {
      "text/plain": [
       "10×5 Matrix{Int64}:\n",
       " 14  14  16  11  17\n",
       " 20  11  17  15  16\n",
       " 18  11  13  19  11\n",
       " 19  13  13  18  10\n",
       " 17  17  16  19  18\n",
       " 14  18  19  14  15\n",
       " 20  19  12  14  16\n",
       " 12  17  11  13  15\n",
       " 11  15  15  15  12\n",
       " 16  10  11  15  20"
      ]
     },
     "execution_count": 60,
     "metadata": {},
     "output_type": "execute_result"
    }
   ],
   "source": [
    "#  массив 10x5 целых чисел в диапазоне [10, 20]:\n",
    "ar = rand(10:20, 10, 5)"
   ]
  },
  {
   "cell_type": "code",
   "execution_count": 61,
   "id": "5e79e8b8-3277-4deb-ae83-72d7a357b95e",
   "metadata": {},
   "outputs": [
    {
     "data": {
      "text/plain": [
       "10-element Vector{Int64}:\n",
       " 14\n",
       " 11\n",
       " 11\n",
       " 13\n",
       " 17\n",
       " 18\n",
       " 19\n",
       " 17\n",
       " 15\n",
       " 10"
      ]
     },
     "execution_count": 61,
     "metadata": {},
     "output_type": "execute_result"
    }
   ],
   "source": [
    "# выбор всех значений строки в столбце 2:\n",
    "ar[:, 2]"
   ]
  },
  {
   "cell_type": "code",
   "execution_count": 62,
   "id": "feb1e24c-3317-40d7-8128-897ff71aa5f5",
   "metadata": {},
   "outputs": [
    {
     "data": {
      "text/plain": [
       "10×2 Matrix{Int64}:\n",
       " 14  17\n",
       " 11  16\n",
       " 11  11\n",
       " 13  10\n",
       " 17  18\n",
       " 18  15\n",
       " 19  16\n",
       " 17  15\n",
       " 15  12\n",
       " 10  20"
      ]
     },
     "execution_count": 62,
     "metadata": {},
     "output_type": "execute_result"
    }
   ],
   "source": [
    "# выбор всех значений в столбцах 2 и 5:\n",
    "ar[:, [2, 5]]"
   ]
  },
  {
   "cell_type": "code",
   "execution_count": 63,
   "id": "d5d8ac4d-ac67-4c83-9c4c-b5b6f56c7240",
   "metadata": {},
   "outputs": [
    {
     "data": {
      "text/plain": [
       "10×3 Matrix{Int64}:\n",
       " 14  16  11\n",
       " 11  17  15\n",
       " 11  13  19\n",
       " 13  13  18\n",
       " 17  16  19\n",
       " 18  19  14\n",
       " 19  12  14\n",
       " 17  11  13\n",
       " 15  15  15\n",
       " 10  11  15"
      ]
     },
     "execution_count": 63,
     "metadata": {},
     "output_type": "execute_result"
    }
   ],
   "source": [
    "# все значения строк в столбцах 2, 3 и 4:\n",
    "ar[:, 2:4]"
   ]
  },
  {
   "cell_type": "code",
   "execution_count": 64,
   "id": "6f438ed1-e5da-4f7a-bba0-1842743348aa",
   "metadata": {},
   "outputs": [
    {
     "data": {
      "text/plain": [
       "3×2 Matrix{Int64}:\n",
       " 20  16\n",
       " 19  10\n",
       " 14  15"
      ]
     },
     "execution_count": 64,
     "metadata": {},
     "output_type": "execute_result"
    }
   ],
   "source": [
    "# значения в строках 2, 4, 6 и в столбцах 1 и 5:\n",
    "ar[[2, 4, 6], [1, 5]]"
   ]
  },
  {
   "cell_type": "code",
   "execution_count": 65,
   "id": "1808d0be-73f8-4d10-b7c0-280d408ffb8d",
   "metadata": {},
   "outputs": [
    {
     "data": {
      "text/plain": [
       "3-element Vector{Int64}:\n",
       " 16\n",
       " 11\n",
       " 17"
      ]
     },
     "execution_count": 65,
     "metadata": {},
     "output_type": "execute_result"
    }
   ],
   "source": [
    "# значения в строке 1 от столбца 3 до последнего столбца: \n",
    "ar[1, 3:end]"
   ]
  },
  {
   "cell_type": "code",
   "execution_count": 66,
   "id": "21ed79ee-2231-4b62-bce4-260d46939e39",
   "metadata": {},
   "outputs": [
    {
     "data": {
      "text/plain": [
       "10×5 Matrix{Int64}:\n",
       " 11  10  11  11  10\n",
       " 12  11  11  13  11\n",
       " 14  11  12  14  12\n",
       " 14  13  13  14  15\n",
       " 16  14  13  15  15\n",
       " 17  15  15  15  16\n",
       " 18  17  16  15  16\n",
       " 19  17  16  18  17\n",
       " 20  18  17  19  18\n",
       " 20  19  19  19  20"
      ]
     },
     "execution_count": 66,
     "metadata": {},
     "output_type": "execute_result"
    }
   ],
   "source": [
    "# сортировка по столбцам:\n",
    "sort(ar,dims=1)"
   ]
  },
  {
   "cell_type": "code",
   "execution_count": 67,
   "id": "d0b6a866-135e-41a0-be88-8b1994a6cb28",
   "metadata": {},
   "outputs": [
    {
     "data": {
      "text/plain": [
       "10×5 Matrix{Int64}:\n",
       " 11  14  14  16  17\n",
       " 11  15  16  17  20\n",
       " 11  11  13  18  19\n",
       " 10  13  13  18  19\n",
       " 16  17  17  18  19\n",
       " 14  14  15  18  19\n",
       " 12  14  16  19  20\n",
       " 11  12  13  15  17\n",
       " 11  12  15  15  15\n",
       " 10  11  15  16  20"
      ]
     },
     "execution_count": 67,
     "metadata": {},
     "output_type": "execute_result"
    }
   ],
   "source": [
    "# сортировка по строкам:\n",
    "sort(ar,dims=2)"
   ]
  },
  {
   "cell_type": "code",
   "execution_count": 68,
   "id": "c2f12445-9ead-4037-b5f3-606abf3cbda4",
   "metadata": {},
   "outputs": [
    {
     "data": {
      "text/plain": [
       "10×5 BitMatrix:\n",
       " 0  0  1  0  1\n",
       " 1  0  1  1  1\n",
       " 1  0  0  1  0\n",
       " 1  0  0  1  0\n",
       " 1  1  1  1  1\n",
       " 0  1  1  0  1\n",
       " 1  1  0  0  1\n",
       " 0  1  0  0  1\n",
       " 0  1  1  1  0\n",
       " 1  0  0  1  1"
      ]
     },
     "execution_count": 68,
     "metadata": {},
     "output_type": "execute_result"
    }
   ],
   "source": [
    "# поэлементное сравнение с числом\n",
    "# (результат - массив логических значений):\n",
    "ar .> 14"
   ]
  },
  {
   "cell_type": "code",
   "execution_count": 69,
   "id": "07b0899a-6b3d-4d80-8712-40a2378d2bd5",
   "metadata": {},
   "outputs": [
    {
     "data": {
      "text/plain": [
       "29-element Vector{CartesianIndex{2}}:\n",
       " CartesianIndex(2, 1)\n",
       " CartesianIndex(3, 1)\n",
       " CartesianIndex(4, 1)\n",
       " CartesianIndex(5, 1)\n",
       " CartesianIndex(7, 1)\n",
       " CartesianIndex(10, 1)\n",
       " CartesianIndex(5, 2)\n",
       " CartesianIndex(6, 2)\n",
       " CartesianIndex(7, 2)\n",
       " CartesianIndex(8, 2)\n",
       " CartesianIndex(9, 2)\n",
       " CartesianIndex(1, 3)\n",
       " CartesianIndex(2, 3)\n",
       " ⋮\n",
       " CartesianIndex(3, 4)\n",
       " CartesianIndex(4, 4)\n",
       " CartesianIndex(5, 4)\n",
       " CartesianIndex(9, 4)\n",
       " CartesianIndex(10, 4)\n",
       " CartesianIndex(1, 5)\n",
       " CartesianIndex(2, 5)\n",
       " CartesianIndex(5, 5)\n",
       " CartesianIndex(6, 5)\n",
       " CartesianIndex(7, 5)\n",
       " CartesianIndex(8, 5)\n",
       " CartesianIndex(10, 5)"
      ]
     },
     "execution_count": 69,
     "metadata": {},
     "output_type": "execute_result"
    }
   ],
   "source": [
    "# возврат индексов элементов массива, удовлетворяющих условию:\n",
    "findall(ar .> 14)"
   ]
  },
  {
   "cell_type": "code",
   "execution_count": null,
   "id": "8912e910-eb81-4ba4-ac62-83732a325d62",
   "metadata": {},
   "outputs": [],
   "source": [
    "# ЗАДАНИЯ ДЛЯ САМОСТОЯТЕЛЬНОЙ РАБОТЫ"
   ]
  },
  {
   "cell_type": "code",
   "execution_count": 71,
   "id": "baee7932-73b3-44c3-ba37-25460cb6c2e6",
   "metadata": {},
   "outputs": [
    {
     "data": {
      "text/plain": [
       "Set{Int64} with 6 elements:\n",
       "  0\n",
       "  4\n",
       "  7\n",
       "  9\n",
       "  3\n",
       "  1"
      ]
     },
     "execution_count": 71,
     "metadata": {},
     "output_type": "execute_result"
    }
   ],
   "source": [
    "#1.\n",
    "A = Set([0, 3, 4, 9])\n",
    "B = Set([1, 3, 4, 7])\n",
    "C = Set([0, 1, 2, 4, 7, 8, 9])\n",
    "\n",
    "AandB = intersect(A,B)\n",
    "AandC = intersect(A,C)\n",
    "BandC = intersect(B,C)\n",
    "\n",
    "p1 = union(AandB, AandB)\n",
    "p2 = union(p1, AandC)\n",
    "\n",
    "P = union(p2, BandC)"
   ]
  },
  {
   "cell_type": "code",
   "execution_count": 72,
   "id": "96fa0798-744e-40ed-a391-38ad14b15324",
   "metadata": {},
   "outputs": [
    {
     "data": {
      "text/plain": [
       "Set{Char} with 6 elements:\n",
       "  'w'\n",
       "  'y'\n",
       "  'e'\n",
       "  'r'\n",
       "  't'\n",
       "  'q'"
      ]
     },
     "execution_count": 72,
     "metadata": {},
     "output_type": "execute_result"
    }
   ],
   "source": [
    "#2.\n",
    "Q = Set([1, 2, 3, 4])\n",
    "W = Set([1.0, 3.3, 7.6])\n",
    "E = Set(\"qwerty\")"
   ]
  },
  {
   "cell_type": "code",
   "execution_count": 73,
   "id": "aec1c7a8-315c-4396-b844-876a7670da91",
   "metadata": {},
   "outputs": [
    {
     "data": {
      "text/plain": [
       "false"
      ]
     },
     "execution_count": 73,
     "metadata": {},
     "output_type": "execute_result"
    }
   ],
   "source": [
    "issetequal(Q,W)"
   ]
  },
  {
   "cell_type": "code",
   "execution_count": 74,
   "id": "81b67b2b-2922-489f-abf0-d638d62e440d",
   "metadata": {},
   "outputs": [
    {
     "data": {
      "text/plain": [
       "Set{Any} with 12 elements:\n",
       "  'w'\n",
       "  7.6\n",
       "  'e'\n",
       "  1.0\n",
       "  4\n",
       "  2\n",
       "  'y'\n",
       "  3.3\n",
       "  'r'\n",
       "  't'\n",
       "  3\n",
       "  'q'"
      ]
     },
     "execution_count": 74,
     "metadata": {},
     "output_type": "execute_result"
    }
   ],
   "source": [
    "union(Q,W,E)"
   ]
  },
  {
   "cell_type": "code",
   "execution_count": 75,
   "id": "4a02d8c6-b63c-4507-9163-657af6a10cf1",
   "metadata": {},
   "outputs": [
    {
     "data": {
      "text/plain": [
       "Set{Float64} with 1 element:\n",
       "  1.0"
      ]
     },
     "execution_count": 75,
     "metadata": {},
     "output_type": "execute_result"
    }
   ],
   "source": [
    "intersect(Q,W)"
   ]
  },
  {
   "cell_type": "code",
   "execution_count": 76,
   "id": "2f3b10a3-f75f-40f3-9477-11dc4e8028c0",
   "metadata": {},
   "outputs": [
    {
     "data": {
      "text/plain": [
       "Set{Int64} with 3 elements:\n",
       "  4\n",
       "  2\n",
       "  3"
      ]
     },
     "execution_count": 76,
     "metadata": {},
     "output_type": "execute_result"
    }
   ],
   "source": [
    "setdiff(Q,W)"
   ]
  },
  {
   "cell_type": "code",
   "execution_count": 77,
   "id": "ac619889-caca-4596-a5a2-44c6ce61f8cf",
   "metadata": {},
   "outputs": [
    {
     "data": {
      "text/plain": [
       "false"
      ]
     },
     "execution_count": 77,
     "metadata": {},
     "output_type": "execute_result"
    }
   ],
   "source": [
    "issubset(Q,W)"
   ]
  },
  {
   "cell_type": "code",
   "execution_count": 78,
   "id": "e0307f36-388c-42d0-89d0-67c4fb0f3bc5",
   "metadata": {},
   "outputs": [
    {
     "data": {
      "text/plain": [
       "Set{Char} with 7 elements:\n",
       "  'w'\n",
       "  'y'\n",
       "  'u'\n",
       "  'e'\n",
       "  'r'\n",
       "  't'\n",
       "  'q'"
      ]
     },
     "execution_count": 78,
     "metadata": {},
     "output_type": "execute_result"
    }
   ],
   "source": [
    "push!(E, 'u')"
   ]
  },
  {
   "cell_type": "code",
   "execution_count": 79,
   "id": "f425dbc3-a6a4-4141-825d-c92a6def17f5",
   "metadata": {},
   "outputs": [
    {
     "data": {
      "text/plain": [
       "'w': ASCII/Unicode U+0077 (category Ll: Letter, lowercase)"
      ]
     },
     "execution_count": 79,
     "metadata": {},
     "output_type": "execute_result"
    }
   ],
   "source": [
    "pop!(E)"
   ]
  },
  {
   "cell_type": "code",
   "execution_count": 80,
   "id": "7e72b4a3-ab77-4c98-834b-d9e30b45d176",
   "metadata": {},
   "outputs": [
    {
     "data": {
      "text/plain": [
       "21-element Vector{Int64}:\n",
       "  1\n",
       "  2\n",
       "  3\n",
       "  4\n",
       "  5\n",
       "  6\n",
       "  7\n",
       "  8\n",
       "  9\n",
       " 10\n",
       " 11\n",
       " 12\n",
       " 13\n",
       " 14\n",
       " 15\n",
       " 16\n",
       " 17\n",
       " 18\n",
       " 19\n",
       " 20\n",
       " 21"
      ]
     },
     "execution_count": 80,
     "metadata": {},
     "output_type": "execute_result"
    }
   ],
   "source": [
    "#3.\n",
    "#1) N=21\n",
    "[i for i in 1:21]"
   ]
  },
  {
   "cell_type": "code",
   "execution_count": 81,
   "id": "b9a6120d-5e43-4e8f-8811-cebab230b965",
   "metadata": {},
   "outputs": [
    {
     "data": {
      "text/plain": [
       "21-element Vector{Int64}:\n",
       "  1\n",
       "  2\n",
       "  3\n",
       "  4\n",
       "  5\n",
       "  6\n",
       "  7\n",
       "  8\n",
       "  9\n",
       " 10\n",
       " 11\n",
       " 12\n",
       " 13\n",
       " 14\n",
       " 15\n",
       " 16\n",
       " 17\n",
       " 18\n",
       " 19\n",
       " 20\n",
       " 21"
      ]
     },
     "execution_count": 81,
     "metadata": {},
     "output_type": "execute_result"
    }
   ],
   "source": [
    "collect(1:21)"
   ]
  },
  {
   "cell_type": "code",
   "execution_count": 83,
   "id": "c21d7daa-c7f0-427e-8075-167af21b24df",
   "metadata": {},
   "outputs": [
    {
     "data": {
      "text/plain": [
       "21-element Vector{Int64}:\n",
       " 21\n",
       " 20\n",
       " 19\n",
       " 18\n",
       " 17\n",
       " 16\n",
       " 15\n",
       " 14\n",
       " 13\n",
       " 12\n",
       " 11\n",
       " 10\n",
       "  9\n",
       "  8\n",
       "  7\n",
       "  6\n",
       "  5\n",
       "  4\n",
       "  3\n",
       "  2\n",
       "  1"
      ]
     },
     "execution_count": 83,
     "metadata": {},
     "output_type": "execute_result"
    }
   ],
   "source": [
    "#2)\n",
    "[i for i in 21:-1:1]"
   ]
  },
  {
   "cell_type": "code",
   "execution_count": 85,
   "id": "431e3b96-e9de-41a2-a2fc-35332351d795",
   "metadata": {},
   "outputs": [
    {
     "data": {
      "text/plain": [
       "21-element Vector{Int64}:\n",
       " 21\n",
       " 20\n",
       " 19\n",
       " 18\n",
       " 17\n",
       " 16\n",
       " 15\n",
       " 14\n",
       " 13\n",
       " 12\n",
       " 11\n",
       " 10\n",
       "  9\n",
       "  8\n",
       "  7\n",
       "  6\n",
       "  5\n",
       "  4\n",
       "  3\n",
       "  2\n",
       "  1"
      ]
     },
     "execution_count": 85,
     "metadata": {},
     "output_type": "execute_result"
    }
   ],
   "source": [
    "sort(collect(1:21), rev=true)"
   ]
  },
  {
   "cell_type": "code",
   "execution_count": 163,
   "id": "e153c7a6-e739-4b03-844d-9b0ccea5d66d",
   "metadata": {},
   "outputs": [
    {
     "data": {
      "text/plain": [
       "41-element Vector{Int64}:\n",
       "  1\n",
       "  2\n",
       "  3\n",
       "  4\n",
       "  5\n",
       "  6\n",
       "  7\n",
       "  8\n",
       "  9\n",
       " 10\n",
       " 11\n",
       " 12\n",
       " 13\n",
       "  ⋮\n",
       " 12\n",
       " 11\n",
       " 10\n",
       "  9\n",
       "  8\n",
       "  7\n",
       "  6\n",
       "  5\n",
       "  4\n",
       "  3\n",
       "  2\n",
       "  1"
      ]
     },
     "execution_count": 163,
     "metadata": {},
     "output_type": "execute_result"
    }
   ],
   "source": [
    "#3)\n",
    "append!(collect(1:21), sort(collect(1:20), rev = true))"
   ]
  },
  {
   "cell_type": "code",
   "execution_count": 164,
   "id": "08af98af-0522-4b2a-baf0-7332e77c51c0",
   "metadata": {},
   "outputs": [
    {
     "data": {
      "text/plain": [
       "41-element Vector{Int64}:\n",
       "  1\n",
       "  2\n",
       "  3\n",
       "  4\n",
       "  5\n",
       "  6\n",
       "  7\n",
       "  8\n",
       "  9\n",
       " 10\n",
       " 11\n",
       " 12\n",
       " 13\n",
       "  ⋮\n",
       " 12\n",
       " 11\n",
       " 10\n",
       "  9\n",
       "  8\n",
       "  7\n",
       "  6\n",
       "  5\n",
       "  4\n",
       "  3\n",
       "  2\n",
       "  1"
      ]
     },
     "execution_count": 164,
     "metadata": {},
     "output_type": "execute_result"
    }
   ],
   "source": [
    "append!([i for i in 1:21], [j for j in 20:-1:1])"
   ]
  },
  {
   "cell_type": "code",
   "execution_count": 91,
   "id": "1d92ac5a-fb11-4b21-a4dc-5e2cfcb5629a",
   "metadata": {},
   "outputs": [
    {
     "data": {
      "text/plain": [
       "4×6×3 Array{Float64, 3}:\n",
       "[:, :, 1] =\n",
       " 0.22539    0.823737   0.665588  0.867232   0.0812585  0.771429\n",
       " 0.0298163  0.23293    0.0968    0.740822   0.698985   0.000895025\n",
       " 0.688696   0.0922611  0.24061   0.994667   0.254193   0.751649\n",
       " 0.91861    0.642699   0.152821  0.0233591  0.990343   0.909852\n",
       "\n",
       "[:, :, 2] =\n",
       " 0.167417  0.147863  0.633164  0.860159  0.281131   0.335424\n",
       " 0.870791  0.351263  0.218078  0.890443  0.0787401  0.0345359\n",
       " 0.902846  0.036589  0.555971  0.844363  0.206415   0.976347\n",
       " 0.592511  0.676162  0.399539  0.904641  0.250451   0.907981\n",
       "\n",
       "[:, :, 3] =\n",
       " 0.485854  0.819319   0.0303418  0.748488   0.983264  0.0732588\n",
       " 0.213279  0.395082   0.132885   0.877686   0.328408  0.822766\n",
       " 0.42471   0.0617085  0.707469   0.225382   0.59201   0.227713\n",
       " 0.11433   0.473567   0.216158   0.0846277  0.898807  0.907894"
      ]
     },
     "execution_count": 91,
     "metadata": {},
     "output_type": "execute_result"
    }
   ],
   "source": [
    "#4)\n",
    "tmp = rand(4,6,3)"
   ]
  },
  {
   "cell_type": "code",
   "execution_count": 92,
   "id": "c5d44522-b965-4ca7-b571-37fa9b5b10d3",
   "metadata": {},
   "outputs": [
    {
     "data": {
      "text/plain": [
       "4×6×3 Array{Float64, 3}:\n",
       "[:, :, 1] =\n",
       " 0.980892  0.0201232  0.514157  0.457269   0.456321  0.102833\n",
       " 0.74343   0.308824   0.192523  0.960027   0.883829  0.873872\n",
       " 0.707595  0.795022   0.460781  0.148293   0.570975  0.630099\n",
       " 0.777631  0.123396   0.18402   0.0488513  0.919143  0.291544\n",
       "\n",
       "[:, :, 2] =\n",
       " 0.451821  0.732986  0.406866  0.920406   0.787951   0.506432\n",
       " 0.956721  0.552998  0.96593   0.0517157  0.0796583  0.816998\n",
       " 0.904932  0.815316  0.367541  0.973002   0.641644   0.855112\n",
       " 0.331768  0.600887  0.784642  0.349721   0.898262   0.0618003\n",
       "\n",
       "[:, :, 3] =\n",
       " 0.658466  0.815065  0.787332  0.297999  0.125613  0.522754\n",
       " 0.543201  0.102713  0.500018  0.019029  0.135879  0.728455\n",
       " 0.921976  0.100955  0.345157  0.934015  0.499408  0.786769\n",
       " 0.817066  0.528364  0.859519  0.742694  0.482367  0.777953"
      ]
     },
     "execution_count": 92,
     "metadata": {},
     "output_type": "execute_result"
    }
   ],
   "source": [
    "tmp = rand(4*6*3)\n",
    "tmp = reshape(tmp, (4,6,3))"
   ]
  },
  {
   "cell_type": "code",
   "execution_count": 93,
   "id": "a6907aeb-742c-407d-ae85-75a9e75c9c80",
   "metadata": {},
   "outputs": [
    {
     "data": {
      "text/plain": [
       "10-element Vector{Float64}:\n",
       " 0.9808917867288434\n",
       " 0.9808917867288434\n",
       " 0.9808917867288434\n",
       " 0.9808917867288434\n",
       " 0.9808917867288434\n",
       " 0.9808917867288434\n",
       " 0.9808917867288434\n",
       " 0.9808917867288434\n",
       " 0.9808917867288434\n",
       " 0.9808917867288434"
      ]
     },
     "execution_count": 93,
     "metadata": {},
     "output_type": "execute_result"
    }
   ],
   "source": [
    "#5)\n",
    "fill(tmp[1], 10)"
   ]
  },
  {
   "cell_type": "code",
   "execution_count": 95,
   "id": "b733e437-41d5-4566-ac0e-3a732ff7a072",
   "metadata": {},
   "outputs": [
    {
     "data": {
      "text/plain": [
       "10-element Vector{Float64}:\n",
       " 0.9808917867288434\n",
       " 0.9808917867288434\n",
       " 0.9808917867288434\n",
       " 0.9808917867288434\n",
       " 0.9808917867288434\n",
       " 0.9808917867288434\n",
       " 0.9808917867288434\n",
       " 0.9808917867288434\n",
       " 0.9808917867288434\n",
       " 0.9808917867288434"
      ]
     },
     "execution_count": 95,
     "metadata": {},
     "output_type": "execute_result"
    }
   ],
   "source": [
    "repeat([tmp[1]], 10)"
   ]
  },
  {
   "cell_type": "code",
   "execution_count": 96,
   "id": "71e0c407-255b-4d8e-a180-2723d87f7ffc",
   "metadata": {},
   "outputs": [
    {
     "data": {
      "text/plain": [
       "10-element Vector{Array{Float64, 3}}:\n",
       " [0.9808917867288434 0.020123188447783047 … 0.45632142406202014 0.10283265015022502; 0.7434301085294002 0.30882397712043275 … 0.8838293508654596 0.8738715541593599; 0.7075951400097695 0.795022004426991 … 0.5709747571885091 0.6300990834049478; 0.7776309241296008 0.12339558195359324 … 0.9191428286758081 0.2915435501093566;;; 0.4518209596910817 0.7329861102593678 … 0.787950988756123 0.5064317764997949; 0.9567210460434802 0.5529979255726463 … 0.07965832960309915 0.8169975822798834; 0.904931736158913 0.8153164154141312 … 0.6416439865074085 0.8551119546083065; 0.33176764291879257 0.6008867207723797 … 0.8982623162985729 0.06180025049687332;;; 0.6584657350247354 0.815064943495369 … 0.12561313621353853 0.5227537178005716; 0.5432014929540012 0.10271269074213529 … 0.1358789944805312 0.7284551487825051; 0.921975735677537 0.10095473066123795 … 0.49940826113426307 0.7867694671098151; 0.8170661599847463 0.5283639758606172 … 0.48236749329329853 0.7779534900213554]\n",
       " [0.9808917867288434 0.020123188447783047 … 0.45632142406202014 0.10283265015022502; 0.7434301085294002 0.30882397712043275 … 0.8838293508654596 0.8738715541593599; 0.7075951400097695 0.795022004426991 … 0.5709747571885091 0.6300990834049478; 0.7776309241296008 0.12339558195359324 … 0.9191428286758081 0.2915435501093566;;; 0.4518209596910817 0.7329861102593678 … 0.787950988756123 0.5064317764997949; 0.9567210460434802 0.5529979255726463 … 0.07965832960309915 0.8169975822798834; 0.904931736158913 0.8153164154141312 … 0.6416439865074085 0.8551119546083065; 0.33176764291879257 0.6008867207723797 … 0.8982623162985729 0.06180025049687332;;; 0.6584657350247354 0.815064943495369 … 0.12561313621353853 0.5227537178005716; 0.5432014929540012 0.10271269074213529 … 0.1358789944805312 0.7284551487825051; 0.921975735677537 0.10095473066123795 … 0.49940826113426307 0.7867694671098151; 0.8170661599847463 0.5283639758606172 … 0.48236749329329853 0.7779534900213554]\n",
       " [0.9808917867288434 0.020123188447783047 … 0.45632142406202014 0.10283265015022502; 0.7434301085294002 0.30882397712043275 … 0.8838293508654596 0.8738715541593599; 0.7075951400097695 0.795022004426991 … 0.5709747571885091 0.6300990834049478; 0.7776309241296008 0.12339558195359324 … 0.9191428286758081 0.2915435501093566;;; 0.4518209596910817 0.7329861102593678 … 0.787950988756123 0.5064317764997949; 0.9567210460434802 0.5529979255726463 … 0.07965832960309915 0.8169975822798834; 0.904931736158913 0.8153164154141312 … 0.6416439865074085 0.8551119546083065; 0.33176764291879257 0.6008867207723797 … 0.8982623162985729 0.06180025049687332;;; 0.6584657350247354 0.815064943495369 … 0.12561313621353853 0.5227537178005716; 0.5432014929540012 0.10271269074213529 … 0.1358789944805312 0.7284551487825051; 0.921975735677537 0.10095473066123795 … 0.49940826113426307 0.7867694671098151; 0.8170661599847463 0.5283639758606172 … 0.48236749329329853 0.7779534900213554]\n",
       " [0.9808917867288434 0.020123188447783047 … 0.45632142406202014 0.10283265015022502; 0.7434301085294002 0.30882397712043275 … 0.8838293508654596 0.8738715541593599; 0.7075951400097695 0.795022004426991 … 0.5709747571885091 0.6300990834049478; 0.7776309241296008 0.12339558195359324 … 0.9191428286758081 0.2915435501093566;;; 0.4518209596910817 0.7329861102593678 … 0.787950988756123 0.5064317764997949; 0.9567210460434802 0.5529979255726463 … 0.07965832960309915 0.8169975822798834; 0.904931736158913 0.8153164154141312 … 0.6416439865074085 0.8551119546083065; 0.33176764291879257 0.6008867207723797 … 0.8982623162985729 0.06180025049687332;;; 0.6584657350247354 0.815064943495369 … 0.12561313621353853 0.5227537178005716; 0.5432014929540012 0.10271269074213529 … 0.1358789944805312 0.7284551487825051; 0.921975735677537 0.10095473066123795 … 0.49940826113426307 0.7867694671098151; 0.8170661599847463 0.5283639758606172 … 0.48236749329329853 0.7779534900213554]\n",
       " [0.9808917867288434 0.020123188447783047 … 0.45632142406202014 0.10283265015022502; 0.7434301085294002 0.30882397712043275 … 0.8838293508654596 0.8738715541593599; 0.7075951400097695 0.795022004426991 … 0.5709747571885091 0.6300990834049478; 0.7776309241296008 0.12339558195359324 … 0.9191428286758081 0.2915435501093566;;; 0.4518209596910817 0.7329861102593678 … 0.787950988756123 0.5064317764997949; 0.9567210460434802 0.5529979255726463 … 0.07965832960309915 0.8169975822798834; 0.904931736158913 0.8153164154141312 … 0.6416439865074085 0.8551119546083065; 0.33176764291879257 0.6008867207723797 … 0.8982623162985729 0.06180025049687332;;; 0.6584657350247354 0.815064943495369 … 0.12561313621353853 0.5227537178005716; 0.5432014929540012 0.10271269074213529 … 0.1358789944805312 0.7284551487825051; 0.921975735677537 0.10095473066123795 … 0.49940826113426307 0.7867694671098151; 0.8170661599847463 0.5283639758606172 … 0.48236749329329853 0.7779534900213554]\n",
       " [0.9808917867288434 0.020123188447783047 … 0.45632142406202014 0.10283265015022502; 0.7434301085294002 0.30882397712043275 … 0.8838293508654596 0.8738715541593599; 0.7075951400097695 0.795022004426991 … 0.5709747571885091 0.6300990834049478; 0.7776309241296008 0.12339558195359324 … 0.9191428286758081 0.2915435501093566;;; 0.4518209596910817 0.7329861102593678 … 0.787950988756123 0.5064317764997949; 0.9567210460434802 0.5529979255726463 … 0.07965832960309915 0.8169975822798834; 0.904931736158913 0.8153164154141312 … 0.6416439865074085 0.8551119546083065; 0.33176764291879257 0.6008867207723797 … 0.8982623162985729 0.06180025049687332;;; 0.6584657350247354 0.815064943495369 … 0.12561313621353853 0.5227537178005716; 0.5432014929540012 0.10271269074213529 … 0.1358789944805312 0.7284551487825051; 0.921975735677537 0.10095473066123795 … 0.49940826113426307 0.7867694671098151; 0.8170661599847463 0.5283639758606172 … 0.48236749329329853 0.7779534900213554]\n",
       " [0.9808917867288434 0.020123188447783047 … 0.45632142406202014 0.10283265015022502; 0.7434301085294002 0.30882397712043275 … 0.8838293508654596 0.8738715541593599; 0.7075951400097695 0.795022004426991 … 0.5709747571885091 0.6300990834049478; 0.7776309241296008 0.12339558195359324 … 0.9191428286758081 0.2915435501093566;;; 0.4518209596910817 0.7329861102593678 … 0.787950988756123 0.5064317764997949; 0.9567210460434802 0.5529979255726463 … 0.07965832960309915 0.8169975822798834; 0.904931736158913 0.8153164154141312 … 0.6416439865074085 0.8551119546083065; 0.33176764291879257 0.6008867207723797 … 0.8982623162985729 0.06180025049687332;;; 0.6584657350247354 0.815064943495369 … 0.12561313621353853 0.5227537178005716; 0.5432014929540012 0.10271269074213529 … 0.1358789944805312 0.7284551487825051; 0.921975735677537 0.10095473066123795 … 0.49940826113426307 0.7867694671098151; 0.8170661599847463 0.5283639758606172 … 0.48236749329329853 0.7779534900213554]\n",
       " [0.9808917867288434 0.020123188447783047 … 0.45632142406202014 0.10283265015022502; 0.7434301085294002 0.30882397712043275 … 0.8838293508654596 0.8738715541593599; 0.7075951400097695 0.795022004426991 … 0.5709747571885091 0.6300990834049478; 0.7776309241296008 0.12339558195359324 … 0.9191428286758081 0.2915435501093566;;; 0.4518209596910817 0.7329861102593678 … 0.787950988756123 0.5064317764997949; 0.9567210460434802 0.5529979255726463 … 0.07965832960309915 0.8169975822798834; 0.904931736158913 0.8153164154141312 … 0.6416439865074085 0.8551119546083065; 0.33176764291879257 0.6008867207723797 … 0.8982623162985729 0.06180025049687332;;; 0.6584657350247354 0.815064943495369 … 0.12561313621353853 0.5227537178005716; 0.5432014929540012 0.10271269074213529 … 0.1358789944805312 0.7284551487825051; 0.921975735677537 0.10095473066123795 … 0.49940826113426307 0.7867694671098151; 0.8170661599847463 0.5283639758606172 … 0.48236749329329853 0.7779534900213554]\n",
       " [0.9808917867288434 0.020123188447783047 … 0.45632142406202014 0.10283265015022502; 0.7434301085294002 0.30882397712043275 … 0.8838293508654596 0.8738715541593599; 0.7075951400097695 0.795022004426991 … 0.5709747571885091 0.6300990834049478; 0.7776309241296008 0.12339558195359324 … 0.9191428286758081 0.2915435501093566;;; 0.4518209596910817 0.7329861102593678 … 0.787950988756123 0.5064317764997949; 0.9567210460434802 0.5529979255726463 … 0.07965832960309915 0.8169975822798834; 0.904931736158913 0.8153164154141312 … 0.6416439865074085 0.8551119546083065; 0.33176764291879257 0.6008867207723797 … 0.8982623162985729 0.06180025049687332;;; 0.6584657350247354 0.815064943495369 … 0.12561313621353853 0.5227537178005716; 0.5432014929540012 0.10271269074213529 … 0.1358789944805312 0.7284551487825051; 0.921975735677537 0.10095473066123795 … 0.49940826113426307 0.7867694671098151; 0.8170661599847463 0.5283639758606172 … 0.48236749329329853 0.7779534900213554]\n",
       " [0.9808917867288434 0.020123188447783047 … 0.45632142406202014 0.10283265015022502; 0.7434301085294002 0.30882397712043275 … 0.8838293508654596 0.8738715541593599; 0.7075951400097695 0.795022004426991 … 0.5709747571885091 0.6300990834049478; 0.7776309241296008 0.12339558195359324 … 0.9191428286758081 0.2915435501093566;;; 0.4518209596910817 0.7329861102593678 … 0.787950988756123 0.5064317764997949; 0.9567210460434802 0.5529979255726463 … 0.07965832960309915 0.8169975822798834; 0.904931736158913 0.8153164154141312 … 0.6416439865074085 0.8551119546083065; 0.33176764291879257 0.6008867207723797 … 0.8982623162985729 0.06180025049687332;;; 0.6584657350247354 0.815064943495369 … 0.12561313621353853 0.5227537178005716; 0.5432014929540012 0.10271269074213529 … 0.1358789944805312 0.7284551487825051; 0.921975735677537 0.10095473066123795 … 0.49940826113426307 0.7867694671098151; 0.8170661599847463 0.5283639758606172 … 0.48236749329329853 0.7779534900213554]"
      ]
     },
     "execution_count": 96,
     "metadata": {},
     "output_type": "execute_result"
    }
   ],
   "source": [
    "#6)\n",
    "fill(tmp, 10)"
   ]
  },
  {
   "cell_type": "code",
   "execution_count": 97,
   "id": "6e063818-ad9d-4a54-a7f8-4b0e3f9a52b0",
   "metadata": {},
   "outputs": [
    {
     "data": {
      "text/plain": [
       "10-element Vector{Array{Float64, 3}}:\n",
       " [0.9808917867288434 0.020123188447783047 … 0.45632142406202014 0.10283265015022502; 0.7434301085294002 0.30882397712043275 … 0.8838293508654596 0.8738715541593599; 0.7075951400097695 0.795022004426991 … 0.5709747571885091 0.6300990834049478; 0.7776309241296008 0.12339558195359324 … 0.9191428286758081 0.2915435501093566;;; 0.4518209596910817 0.7329861102593678 … 0.787950988756123 0.5064317764997949; 0.9567210460434802 0.5529979255726463 … 0.07965832960309915 0.8169975822798834; 0.904931736158913 0.8153164154141312 … 0.6416439865074085 0.8551119546083065; 0.33176764291879257 0.6008867207723797 … 0.8982623162985729 0.06180025049687332;;; 0.6584657350247354 0.815064943495369 … 0.12561313621353853 0.5227537178005716; 0.5432014929540012 0.10271269074213529 … 0.1358789944805312 0.7284551487825051; 0.921975735677537 0.10095473066123795 … 0.49940826113426307 0.7867694671098151; 0.8170661599847463 0.5283639758606172 … 0.48236749329329853 0.7779534900213554]\n",
       " [0.9808917867288434 0.020123188447783047 … 0.45632142406202014 0.10283265015022502; 0.7434301085294002 0.30882397712043275 … 0.8838293508654596 0.8738715541593599; 0.7075951400097695 0.795022004426991 … 0.5709747571885091 0.6300990834049478; 0.7776309241296008 0.12339558195359324 … 0.9191428286758081 0.2915435501093566;;; 0.4518209596910817 0.7329861102593678 … 0.787950988756123 0.5064317764997949; 0.9567210460434802 0.5529979255726463 … 0.07965832960309915 0.8169975822798834; 0.904931736158913 0.8153164154141312 … 0.6416439865074085 0.8551119546083065; 0.33176764291879257 0.6008867207723797 … 0.8982623162985729 0.06180025049687332;;; 0.6584657350247354 0.815064943495369 … 0.12561313621353853 0.5227537178005716; 0.5432014929540012 0.10271269074213529 … 0.1358789944805312 0.7284551487825051; 0.921975735677537 0.10095473066123795 … 0.49940826113426307 0.7867694671098151; 0.8170661599847463 0.5283639758606172 … 0.48236749329329853 0.7779534900213554]\n",
       " [0.9808917867288434 0.020123188447783047 … 0.45632142406202014 0.10283265015022502; 0.7434301085294002 0.30882397712043275 … 0.8838293508654596 0.8738715541593599; 0.7075951400097695 0.795022004426991 … 0.5709747571885091 0.6300990834049478; 0.7776309241296008 0.12339558195359324 … 0.9191428286758081 0.2915435501093566;;; 0.4518209596910817 0.7329861102593678 … 0.787950988756123 0.5064317764997949; 0.9567210460434802 0.5529979255726463 … 0.07965832960309915 0.8169975822798834; 0.904931736158913 0.8153164154141312 … 0.6416439865074085 0.8551119546083065; 0.33176764291879257 0.6008867207723797 … 0.8982623162985729 0.06180025049687332;;; 0.6584657350247354 0.815064943495369 … 0.12561313621353853 0.5227537178005716; 0.5432014929540012 0.10271269074213529 … 0.1358789944805312 0.7284551487825051; 0.921975735677537 0.10095473066123795 … 0.49940826113426307 0.7867694671098151; 0.8170661599847463 0.5283639758606172 … 0.48236749329329853 0.7779534900213554]\n",
       " [0.9808917867288434 0.020123188447783047 … 0.45632142406202014 0.10283265015022502; 0.7434301085294002 0.30882397712043275 … 0.8838293508654596 0.8738715541593599; 0.7075951400097695 0.795022004426991 … 0.5709747571885091 0.6300990834049478; 0.7776309241296008 0.12339558195359324 … 0.9191428286758081 0.2915435501093566;;; 0.4518209596910817 0.7329861102593678 … 0.787950988756123 0.5064317764997949; 0.9567210460434802 0.5529979255726463 … 0.07965832960309915 0.8169975822798834; 0.904931736158913 0.8153164154141312 … 0.6416439865074085 0.8551119546083065; 0.33176764291879257 0.6008867207723797 … 0.8982623162985729 0.06180025049687332;;; 0.6584657350247354 0.815064943495369 … 0.12561313621353853 0.5227537178005716; 0.5432014929540012 0.10271269074213529 … 0.1358789944805312 0.7284551487825051; 0.921975735677537 0.10095473066123795 … 0.49940826113426307 0.7867694671098151; 0.8170661599847463 0.5283639758606172 … 0.48236749329329853 0.7779534900213554]\n",
       " [0.9808917867288434 0.020123188447783047 … 0.45632142406202014 0.10283265015022502; 0.7434301085294002 0.30882397712043275 … 0.8838293508654596 0.8738715541593599; 0.7075951400097695 0.795022004426991 … 0.5709747571885091 0.6300990834049478; 0.7776309241296008 0.12339558195359324 … 0.9191428286758081 0.2915435501093566;;; 0.4518209596910817 0.7329861102593678 … 0.787950988756123 0.5064317764997949; 0.9567210460434802 0.5529979255726463 … 0.07965832960309915 0.8169975822798834; 0.904931736158913 0.8153164154141312 … 0.6416439865074085 0.8551119546083065; 0.33176764291879257 0.6008867207723797 … 0.8982623162985729 0.06180025049687332;;; 0.6584657350247354 0.815064943495369 … 0.12561313621353853 0.5227537178005716; 0.5432014929540012 0.10271269074213529 … 0.1358789944805312 0.7284551487825051; 0.921975735677537 0.10095473066123795 … 0.49940826113426307 0.7867694671098151; 0.8170661599847463 0.5283639758606172 … 0.48236749329329853 0.7779534900213554]\n",
       " [0.9808917867288434 0.020123188447783047 … 0.45632142406202014 0.10283265015022502; 0.7434301085294002 0.30882397712043275 … 0.8838293508654596 0.8738715541593599; 0.7075951400097695 0.795022004426991 … 0.5709747571885091 0.6300990834049478; 0.7776309241296008 0.12339558195359324 … 0.9191428286758081 0.2915435501093566;;; 0.4518209596910817 0.7329861102593678 … 0.787950988756123 0.5064317764997949; 0.9567210460434802 0.5529979255726463 … 0.07965832960309915 0.8169975822798834; 0.904931736158913 0.8153164154141312 … 0.6416439865074085 0.8551119546083065; 0.33176764291879257 0.6008867207723797 … 0.8982623162985729 0.06180025049687332;;; 0.6584657350247354 0.815064943495369 … 0.12561313621353853 0.5227537178005716; 0.5432014929540012 0.10271269074213529 … 0.1358789944805312 0.7284551487825051; 0.921975735677537 0.10095473066123795 … 0.49940826113426307 0.7867694671098151; 0.8170661599847463 0.5283639758606172 … 0.48236749329329853 0.7779534900213554]\n",
       " [0.9808917867288434 0.020123188447783047 … 0.45632142406202014 0.10283265015022502; 0.7434301085294002 0.30882397712043275 … 0.8838293508654596 0.8738715541593599; 0.7075951400097695 0.795022004426991 … 0.5709747571885091 0.6300990834049478; 0.7776309241296008 0.12339558195359324 … 0.9191428286758081 0.2915435501093566;;; 0.4518209596910817 0.7329861102593678 … 0.787950988756123 0.5064317764997949; 0.9567210460434802 0.5529979255726463 … 0.07965832960309915 0.8169975822798834; 0.904931736158913 0.8153164154141312 … 0.6416439865074085 0.8551119546083065; 0.33176764291879257 0.6008867207723797 … 0.8982623162985729 0.06180025049687332;;; 0.6584657350247354 0.815064943495369 … 0.12561313621353853 0.5227537178005716; 0.5432014929540012 0.10271269074213529 … 0.1358789944805312 0.7284551487825051; 0.921975735677537 0.10095473066123795 … 0.49940826113426307 0.7867694671098151; 0.8170661599847463 0.5283639758606172 … 0.48236749329329853 0.7779534900213554]\n",
       " [0.9808917867288434 0.020123188447783047 … 0.45632142406202014 0.10283265015022502; 0.7434301085294002 0.30882397712043275 … 0.8838293508654596 0.8738715541593599; 0.7075951400097695 0.795022004426991 … 0.5709747571885091 0.6300990834049478; 0.7776309241296008 0.12339558195359324 … 0.9191428286758081 0.2915435501093566;;; 0.4518209596910817 0.7329861102593678 … 0.787950988756123 0.5064317764997949; 0.9567210460434802 0.5529979255726463 … 0.07965832960309915 0.8169975822798834; 0.904931736158913 0.8153164154141312 … 0.6416439865074085 0.8551119546083065; 0.33176764291879257 0.6008867207723797 … 0.8982623162985729 0.06180025049687332;;; 0.6584657350247354 0.815064943495369 … 0.12561313621353853 0.5227537178005716; 0.5432014929540012 0.10271269074213529 … 0.1358789944805312 0.7284551487825051; 0.921975735677537 0.10095473066123795 … 0.49940826113426307 0.7867694671098151; 0.8170661599847463 0.5283639758606172 … 0.48236749329329853 0.7779534900213554]\n",
       " [0.9808917867288434 0.020123188447783047 … 0.45632142406202014 0.10283265015022502; 0.7434301085294002 0.30882397712043275 … 0.8838293508654596 0.8738715541593599; 0.7075951400097695 0.795022004426991 … 0.5709747571885091 0.6300990834049478; 0.7776309241296008 0.12339558195359324 … 0.9191428286758081 0.2915435501093566;;; 0.4518209596910817 0.7329861102593678 … 0.787950988756123 0.5064317764997949; 0.9567210460434802 0.5529979255726463 … 0.07965832960309915 0.8169975822798834; 0.904931736158913 0.8153164154141312 … 0.6416439865074085 0.8551119546083065; 0.33176764291879257 0.6008867207723797 … 0.8982623162985729 0.06180025049687332;;; 0.6584657350247354 0.815064943495369 … 0.12561313621353853 0.5227537178005716; 0.5432014929540012 0.10271269074213529 … 0.1358789944805312 0.7284551487825051; 0.921975735677537 0.10095473066123795 … 0.49940826113426307 0.7867694671098151; 0.8170661599847463 0.5283639758606172 … 0.48236749329329853 0.7779534900213554]\n",
       " [0.9808917867288434 0.020123188447783047 … 0.45632142406202014 0.10283265015022502; 0.7434301085294002 0.30882397712043275 … 0.8838293508654596 0.8738715541593599; 0.7075951400097695 0.795022004426991 … 0.5709747571885091 0.6300990834049478; 0.7776309241296008 0.12339558195359324 … 0.9191428286758081 0.2915435501093566;;; 0.4518209596910817 0.7329861102593678 … 0.787950988756123 0.5064317764997949; 0.9567210460434802 0.5529979255726463 … 0.07965832960309915 0.8169975822798834; 0.904931736158913 0.8153164154141312 … 0.6416439865074085 0.8551119546083065; 0.33176764291879257 0.6008867207723797 … 0.8982623162985729 0.06180025049687332;;; 0.6584657350247354 0.815064943495369 … 0.12561313621353853 0.5227537178005716; 0.5432014929540012 0.10271269074213529 … 0.1358789944805312 0.7284551487825051; 0.921975735677537 0.10095473066123795 … 0.49940826113426307 0.7867694671098151; 0.8170661599847463 0.5283639758606172 … 0.48236749329329853 0.7779534900213554]"
      ]
     },
     "execution_count": 97,
     "metadata": {},
     "output_type": "execute_result"
    }
   ],
   "source": [
    "repeat([tmp], 10)"
   ]
  },
  {
   "cell_type": "code",
   "execution_count": 98,
   "id": "aa68d220-e5cf-4427-8a3f-1a9ef15cc385",
   "metadata": {},
   "outputs": [
    {
     "data": {
      "text/plain": [
       "31-element Vector{Float64}:\n",
       " 0.9808917867288434\n",
       " 0.9808917867288434\n",
       " 0.9808917867288434\n",
       " 0.9808917867288434\n",
       " 0.9808917867288434\n",
       " 0.9808917867288434\n",
       " 0.9808917867288434\n",
       " 0.9808917867288434\n",
       " 0.9808917867288434\n",
       " 0.9808917867288434\n",
       " 0.9808917867288434\n",
       " 0.7434301085294002\n",
       " 0.7434301085294002\n",
       " ⋮\n",
       " 0.7434301085294002\n",
       " 0.7434301085294002\n",
       " 0.7075951400097695\n",
       " 0.7075951400097695\n",
       " 0.7075951400097695\n",
       " 0.7075951400097695\n",
       " 0.7075951400097695\n",
       " 0.7075951400097695\n",
       " 0.7075951400097695\n",
       " 0.7075951400097695\n",
       " 0.7075951400097695\n",
       " 0.7075951400097695"
      ]
     },
     "execution_count": 98,
     "metadata": {},
     "output_type": "execute_result"
    }
   ],
   "source": [
    "#7)\n",
    "append!(fill(tmp[1], 11), append!(fill(tmp[2], 10), fill(tmp[3], 10)))"
   ]
  },
  {
   "cell_type": "code",
   "execution_count": 100,
   "id": "ff47aa7c-2055-4499-8dd8-c0d604085dcf",
   "metadata": {},
   "outputs": [
    {
     "data": {
      "text/plain": [
       "31-element Vector{Float64}:\n",
       " 0.9808917867288434\n",
       " 0.9808917867288434\n",
       " 0.9808917867288434\n",
       " 0.9808917867288434\n",
       " 0.9808917867288434\n",
       " 0.9808917867288434\n",
       " 0.9808917867288434\n",
       " 0.9808917867288434\n",
       " 0.9808917867288434\n",
       " 0.9808917867288434\n",
       " 0.9808917867288434\n",
       " 0.7434301085294002\n",
       " 0.7434301085294002\n",
       " ⋮\n",
       " 0.7434301085294002\n",
       " 0.7434301085294002\n",
       " 0.7075951400097695\n",
       " 0.7075951400097695\n",
       " 0.7075951400097695\n",
       " 0.7075951400097695\n",
       " 0.7075951400097695\n",
       " 0.7075951400097695\n",
       " 0.7075951400097695\n",
       " 0.7075951400097695\n",
       " 0.7075951400097695\n",
       " 0.7075951400097695"
      ]
     },
     "execution_count": 100,
     "metadata": {},
     "output_type": "execute_result"
    }
   ],
   "source": [
    "append!(repeat([tmp[1]], 11), append!(repeat([tmp[2]], 10),\n",
    "        repeat([tmp[3]], 10)))"
   ]
  },
  {
   "cell_type": "code",
   "execution_count": 101,
   "id": "0801184d-318c-48a5-b372-9d915141a7b9",
   "metadata": {},
   "outputs": [
    {
     "data": {
      "text/plain": [
       "31-element Vector{Float64}:\n",
       " 0.9808917867288434\n",
       " 0.7434301085294002\n",
       " 0.7075951400097695\n",
       " 0.9808917867288434\n",
       " 0.7434301085294002\n",
       " 0.7075951400097695\n",
       " 0.9808917867288434\n",
       " 0.7434301085294002\n",
       " 0.7075951400097695\n",
       " 0.9808917867288434\n",
       " 0.7434301085294002\n",
       " 0.7075951400097695\n",
       " 0.9808917867288434\n",
       " ⋮\n",
       " 0.7434301085294002\n",
       " 0.7075951400097695\n",
       " 0.9808917867288434\n",
       " 0.7434301085294002\n",
       " 0.7075951400097695\n",
       " 0.9808917867288434\n",
       " 0.7434301085294002\n",
       " 0.7075951400097695\n",
       " 0.9808917867288434\n",
       " 0.7434301085294002\n",
       " 0.7075951400097695\n",
       " 0.9808917867288434"
      ]
     },
     "execution_count": 101,
     "metadata": {},
     "output_type": "execute_result"
    }
   ],
   "source": [
    "append!(repeat([tmp[1], tmp[2], tmp[3]], 10), tmp[1])"
   ]
  },
  {
   "cell_type": "code",
   "execution_count": 102,
   "id": "f7d41225-7bce-4b35-a1f4-75087cf2790a",
   "metadata": {},
   "outputs": [
    {
     "data": {
      "text/plain": [
       "60-element Vector{Float64}:\n",
       " 0.9808917867288434\n",
       " 0.9808917867288434\n",
       " 0.9808917867288434\n",
       " 0.9808917867288434\n",
       " 0.9808917867288434\n",
       " 0.9808917867288434\n",
       " 0.9808917867288434\n",
       " 0.9808917867288434\n",
       " 0.9808917867288434\n",
       " 0.9808917867288434\n",
       " 0.7434301085294002\n",
       " 0.7434301085294002\n",
       " 0.7434301085294002\n",
       " ⋮\n",
       " 0.7075951400097695\n",
       " 0.7075951400097695\n",
       " 0.7075951400097695\n",
       " 0.7075951400097695\n",
       " 0.7075951400097695\n",
       " 0.7075951400097695\n",
       " 0.7075951400097695\n",
       " 0.7075951400097695\n",
       " 0.7075951400097695\n",
       " 0.7075951400097695\n",
       " 0.7075951400097695\n",
       " 0.7075951400097695"
      ]
     },
     "execution_count": 102,
     "metadata": {},
     "output_type": "execute_result"
    }
   ],
   "source": [
    "#8)\n",
    "append!(fill(tmp[1], 10), append!(fill(tmp[2], 20), fill(tmp[3], 30)))"
   ]
  },
  {
   "cell_type": "code",
   "execution_count": 103,
   "id": "b53ecc79-fb76-4a18-910c-1cf7e862f684",
   "metadata": {},
   "outputs": [
    {
     "data": {
      "text/plain": [
       "60-element Vector{Float64}:\n",
       " 0.9808917867288434\n",
       " 0.9808917867288434\n",
       " 0.9808917867288434\n",
       " 0.9808917867288434\n",
       " 0.9808917867288434\n",
       " 0.9808917867288434\n",
       " 0.9808917867288434\n",
       " 0.9808917867288434\n",
       " 0.9808917867288434\n",
       " 0.9808917867288434\n",
       " 0.7434301085294002\n",
       " 0.7434301085294002\n",
       " 0.7434301085294002\n",
       " ⋮\n",
       " 0.7075951400097695\n",
       " 0.7075951400097695\n",
       " 0.7075951400097695\n",
       " 0.7075951400097695\n",
       " 0.7075951400097695\n",
       " 0.7075951400097695\n",
       " 0.7075951400097695\n",
       " 0.7075951400097695\n",
       " 0.7075951400097695\n",
       " 0.7075951400097695\n",
       " 0.7075951400097695\n",
       " 0.7075951400097695"
      ]
     },
     "execution_count": 103,
     "metadata": {},
     "output_type": "execute_result"
    }
   ],
   "source": [
    "append!(repeat([tmp[1]], 10), append!(repeat([tmp[2]], 20),\n",
    "        repeat([tmp[3]], 30)))"
   ]
  },
  {
   "cell_type": "code",
   "execution_count": 105,
   "id": "38dd5749-f3a2-4869-a22e-119110dc4519",
   "metadata": {},
   "outputs": [
    {
     "data": {
      "text/plain": [
       "6-element Vector{Float64}:\n",
       " 1.9736850445967162\n",
       " 1.6741515232810351\n",
       " 1.6330796307567377\n",
       " 1.6330796307567377\n",
       " 1.6330796307567377\n",
       " 1.6330796307567377"
      ]
     },
     "execution_count": 105,
     "metadata": {},
     "output_type": "execute_result"
    }
   ],
   "source": [
    "#9)\n",
    "ar2 = [2^tmp[i] for i in 1:3]\n",
    "ar2 = append!(ar2, fill(2^tmp[3], 3))"
   ]
  },
  {
   "cell_type": "code",
   "execution_count": 106,
   "id": "3cb8ef79-a033-4f79-9264-7dffc01827cb",
   "metadata": {},
   "outputs": [
    {
     "data": {
      "text/plain": [
       "6-element Vector{Float64}:\n",
       " 1.9736850445967162\n",
       " 1.6741515232810351\n",
       " 1.6330796307567377\n",
       " 1.6330796307567377\n",
       " 1.6330796307567377\n",
       " 1.6330796307567377"
      ]
     },
     "execution_count": 106,
     "metadata": {},
     "output_type": "execute_result"
    }
   ],
   "source": [
    "ar2 = [2^tmp[i] for i in [1,2,3,3,3,3]]"
   ]
  },
  {
   "cell_type": "code",
   "execution_count": 109,
   "id": "c053d7b0-c861-4f47-a2e9-3c18e1c10317",
   "metadata": {},
   "outputs": [
    {
     "data": {
      "text/plain": [
       "16"
      ]
     },
     "execution_count": 109,
     "metadata": {},
     "output_type": "execute_result"
    }
   ],
   "source": [
    "n = 0\n",
    "for i in (1:length(ar2))\n",
    "    t = ar2[i]\n",
    "    k = 1\n",
    "    if (trunc(Int,t)==0)\n",
    "        k = 0\n",
    "    end\n",
    "    while(!(t%1==0))\n",
    "        t = t*10\n",
    "        k = k+1\n",
    "    end\n",
    "    t = trunc(Int,t)\n",
    "    for i in (1:1:k)\n",
    "        if (t%10==6)\n",
    "            n = n+1\n",
    "        end\n",
    "        t = div(t, 10)\n",
    "    end\n",
    "end\n",
    "\n",
    "n    "
   ]
  },
  {
   "cell_type": "code",
   "execution_count": 115,
   "id": "4d7d7f18-2fa7-4dcd-8b8b-5c4d5f0d58e5",
   "metadata": {},
   "outputs": [
    {
     "data": {
      "text/plain": [
       "31-element Vector{Float64}:\n",
       " -19.884530844146987\n",
       " -22.178753389342127\n",
       " -24.490696732801293\n",
       " -26.77318244299338\n",
       " -28.969237768093574\n",
       " -31.011186439374516\n",
       " -32.819774760338504\n",
       " -34.30336011037369\n",
       " -35.35719361853035\n",
       " -35.86283371230767\n",
       " -35.68773248011913\n",
       " -34.68504225166807\n",
       " -32.693695428321746\n",
       "   ⋮\n",
       "  25.046704998273004\n",
       "  42.09920106253839\n",
       "  61.99663027669454\n",
       "  84.92906736250268\n",
       " 111.0615860420258\n",
       " 140.5250750527875\n",
       " 173.40577640857734\n",
       " 209.73349424783467\n",
       " 249.46844055885668\n",
       " 292.4867067371223\n",
       " 338.5643778585117\n",
       " 387.36034029093076"
      ]
     },
     "execution_count": 115,
     "metadata": {},
     "output_type": "execute_result"
    }
   ],
   "source": [
    "#10)\n",
    "y = [exp(i)*cos(i) for i in 3:0.1:6]"
   ]
  },
  {
   "cell_type": "code",
   "execution_count": 116,
   "id": "b50f8749-a9d8-419f-ad22-8c9cf9679e08",
   "metadata": {},
   "outputs": [
    {
     "data": {
      "text/plain": [
       "53.11374594642971"
      ]
     },
     "execution_count": 116,
     "metadata": {},
     "output_type": "execute_result"
    }
   ],
   "source": [
    "sum(y)/length(y)"
   ]
  },
  {
   "cell_type": "code",
   "execution_count": 117,
   "id": "4719c9b5-6156-421d-99da-0b7a210ab0f9",
   "metadata": {},
   "outputs": [
    {
     "data": {
      "text/plain": [
       "12-element Vector{Matrix{Float64}}:\n",
       " [0.0010000000000000002 0.2]\n",
       " [1.0000000000000004e-6 0.0016000000000000003]\n",
       " [1.0000000000000005e-9 1.2800000000000006e-5]\n",
       " [1.0000000000000008e-12 1.0240000000000006e-7]\n",
       " [1.0000000000000009e-15 8.192000000000005e-10]\n",
       " [1.0000000000000008e-18 6.5536000000000055e-12]\n",
       " [1.0000000000000012e-21 5.2428800000000056e-14]\n",
       " [1.0000000000000012e-24 4.194304000000005e-16]\n",
       " [1.0000000000000015e-27 3.3554432000000044e-18]\n",
       " [1.0000000000000017e-30 2.684354560000004e-20]\n",
       " [1.0000000000000018e-33 2.147483648000004e-22]\n",
       " [1.000000000000002e-36 1.7179869184000035e-24]"
      ]
     },
     "execution_count": 117,
     "metadata": {},
     "output_type": "execute_result"
    }
   ],
   "source": [
    "#11)\n",
    "x = 0.1\n",
    "y = 0.2\n",
    "\n",
    "[[x^i y^(i-2)] for i in 3:3:36]"
   ]
  },
  {
   "cell_type": "code",
   "execution_count": 118,
   "id": "d8444fbc-0b7d-45b8-a45f-032c7675194a",
   "metadata": {},
   "outputs": [
    {
     "data": {
      "text/plain": [
       "25-element Vector{Float64}:\n",
       "      2.0\n",
       "      2.0\n",
       "      2.6666666666666665\n",
       "      4.0\n",
       "      6.4\n",
       "     10.666666666666666\n",
       "     18.285714285714285\n",
       "     32.0\n",
       "     56.888888888888886\n",
       "    102.4\n",
       "    186.1818181818182\n",
       "    341.3333333333333\n",
       "    630.1538461538462\n",
       "   1170.2857142857142\n",
       "   2184.5333333333333\n",
       "   4096.0\n",
       "   7710.117647058823\n",
       "  14563.555555555555\n",
       "  27594.105263157893\n",
       "  52428.8\n",
       "  99864.38095238095\n",
       " 190650.18181818182\n",
       " 364722.0869565217\n",
       " 699050.6666666666\n",
       "      1.34217728e6"
      ]
     },
     "execution_count": 118,
     "metadata": {},
     "output_type": "execute_result"
    }
   ],
   "source": [
    "#12)\n",
    "M = 25\n",
    "[2^i/i for i in 1:1:M]"
   ]
  },
  {
   "cell_type": "code",
   "execution_count": 119,
   "id": "1bd7ede6-7a81-4e3b-918e-1ab51a729b02",
   "metadata": {},
   "outputs": [
    {
     "data": {
      "text/plain": [
       "30-element Vector{String}:\n",
       " \"fn1\"\n",
       " \"fn2\"\n",
       " \"fn3\"\n",
       " \"fn4\"\n",
       " \"fn5\"\n",
       " \"fn6\"\n",
       " \"fn7\"\n",
       " \"fn8\"\n",
       " \"fn9\"\n",
       " \"fn10\"\n",
       " \"fn11\"\n",
       " \"fn12\"\n",
       " \"fn13\"\n",
       " ⋮\n",
       " \"fn19\"\n",
       " \"fn20\"\n",
       " \"fn21\"\n",
       " \"fn22\"\n",
       " \"fn23\"\n",
       " \"fn24\"\n",
       " \"fn25\"\n",
       " \"fn26\"\n",
       " \"fn27\"\n",
       " \"fn28\"\n",
       " \"fn29\"\n",
       " \"fn30\""
      ]
     },
     "execution_count": 119,
     "metadata": {},
     "output_type": "execute_result"
    }
   ],
   "source": [
    "#13)\n",
    "N = 30\n",
    "[string(\"fn\", string(i)) for i in 1:N]"
   ]
  },
  {
   "cell_type": "code",
   "execution_count": 120,
   "id": "d31321d8-f042-42af-aa00-b9795812ecd4",
   "metadata": {
    "collapsed": true,
    "jupyter": {
     "outputs_hidden": true
    },
    "tags": []
   },
   "outputs": [
    {
     "data": {
      "text/plain": [
       "250-element Vector{Int64}:\n",
       " 362\n",
       " 651\n",
       " 205\n",
       " 425\n",
       " 905\n",
       " 475\n",
       " 190\n",
       " 939\n",
       " 820\n",
       " 822\n",
       " 597\n",
       " 251\n",
       " 511\n",
       "   ⋮\n",
       " 345\n",
       " 320\n",
       " 136\n",
       " 317\n",
       "  20\n",
       " 205\n",
       " 399\n",
       " 834\n",
       " 130\n",
       " 800\n",
       " 180\n",
       " 828"
      ]
     },
     "execution_count": 120,
     "metadata": {},
     "output_type": "execute_result"
    }
   ],
   "source": [
    "#14)\n",
    "n = 250\n",
    "x = rand(0:999, n)\n",
    "y = rand(0:999, n)"
   ]
  },
  {
   "cell_type": "code",
   "execution_count": 121,
   "id": "06082584-2072-4306-bc72-9175d2ba17c1",
   "metadata": {},
   "outputs": [
    {
     "data": {
      "text/plain": [
       "249-element Vector{Int64}:\n",
       "  554\n",
       " -618\n",
       " -421\n",
       "  238\n",
       "   24\n",
       "  168\n",
       "  215\n",
       "  172\n",
       "  259\n",
       " -191\n",
       " -157\n",
       " -469\n",
       " -833\n",
       "    ⋮\n",
       "  -60\n",
       " -442\n",
       " -106\n",
       "  165\n",
       " -496\n",
       " -547\n",
       " -488\n",
       "  770\n",
       " -437\n",
       "  683\n",
       "  109\n",
       "  796"
      ]
     },
     "execution_count": 121,
     "metadata": {},
     "output_type": "execute_result"
    }
   ],
   "source": [
    "[y[i+1]-x[i] for i in 1:n-1]"
   ]
  },
  {
   "cell_type": "code",
   "execution_count": 122,
   "id": "39d9b95f-7b97-4b14-a9ba-8bf9c5993915",
   "metadata": {},
   "outputs": [
    {
     "data": {
      "text/plain": [
       "248-element Vector{Int64}:\n",
       " -711\n",
       " -532\n",
       " -316\n",
       "  113\n",
       " -589\n",
       " -513\n",
       " -428\n",
       " -653\n",
       " -273\n",
       " -845\n",
       " -812\n",
       " -439\n",
       "   18\n",
       "    ⋮\n",
       " -627\n",
       " -107\n",
       "  -17\n",
       " -381\n",
       " -617\n",
       " -752\n",
       "   71\n",
       " -432\n",
       "   18\n",
       "   64\n",
       "  103\n",
       " -783"
      ]
     },
     "execution_count": 122,
     "metadata": {},
     "output_type": "execute_result"
    }
   ],
   "source": [
    "[x[n-2]+2*x[n-1]-x[i] for i in 3:n]"
   ]
  },
  {
   "cell_type": "code",
   "execution_count": 123,
   "id": "05df3d8b-df89-458a-a342-ab2d140ff9a3",
   "metadata": {},
   "outputs": [
    {
     "data": {
      "text/plain": [
       "249-element Vector{Float64}:\n",
       " -0.6601300937044344\n",
       "  1.0396471609189781\n",
       " -1.287957059948607\n",
       " -4.288536785917236\n",
       " -0.21952208609748033\n",
       " -4.248217489539866\n",
       "  1.481595686747271\n",
       " -0.4159697163707091\n",
       "  0.051645077729180824\n",
       " -0.9691530321343063\n",
       "  0.0987836690021917\n",
       "  1.7011892063534413\n",
       " -1.4393997926578683\n",
       "  ⋮\n",
       " -1.2930981885868857\n",
       "  0.5465846025946713\n",
       " -1.1924863971287591\n",
       " -1.1105433496420303\n",
       " -0.7409790344605799\n",
       "  1.90451099365609\n",
       " -1.824382586954184\n",
       " -0.30869330656435034\n",
       "  1.3750813882088726\n",
       "  3.009830233868485\n",
       "  1.0716190537438743\n",
       " -1.0101771371185286"
      ]
     },
     "execution_count": 123,
     "metadata": {},
     "output_type": "execute_result"
    }
   ],
   "source": [
    "[sin(y[i-1])/cos(x[i]) for i in 2:n]"
   ]
  },
  {
   "cell_type": "code",
   "execution_count": 125,
   "id": "15d71f19-20ad-4b33-bb70-95152a58dc06",
   "metadata": {},
   "outputs": [
    {
     "data": {
      "text/plain": [
       "0.001205313713794068"
      ]
     },
     "execution_count": 125,
     "metadata": {},
     "output_type": "execute_result"
    }
   ],
   "source": [
    "s = 0\n",
    "for i in 1:n-1\n",
    "    s = s + exp(-x[i+1])/(x[i]+10)\n",
    "end\n",
    "s"
   ]
  },
  {
   "cell_type": "code",
   "execution_count": 130,
   "id": "c4206511-1a42-4ae6-9696-d055962edf47",
   "metadata": {},
   "outputs": [
    {
     "data": {
      "text/plain": [
       "99-element Vector{Int64}:\n",
       " 651\n",
       " 905\n",
       " 939\n",
       " 820\n",
       " 822\n",
       " 900\n",
       " 874\n",
       " 816\n",
       " 979\n",
       " 747\n",
       " 658\n",
       " 951\n",
       " 848\n",
       "   ⋮\n",
       " 899\n",
       " 694\n",
       " 926\n",
       " 759\n",
       " 900\n",
       " 948\n",
       " 954\n",
       " 702\n",
       " 674\n",
       " 834\n",
       " 800\n",
       " 828"
      ]
     },
     "execution_count": 130,
     "metadata": {},
     "output_type": "execute_result"
    }
   ],
   "source": [
    "y600 = [y[i] for i in 1:n if (y[i]>600)]"
   ]
  },
  {
   "cell_type": "code",
   "execution_count": 131,
   "id": "30219a40-39b6-4d43-ae8a-e37df9f921aa",
   "metadata": {},
   "outputs": [
    {
     "data": {
      "text/plain": [
       "99-element Vector{Int64}:\n",
       "   2\n",
       "   5\n",
       "   8\n",
       "   9\n",
       "  10\n",
       "  16\n",
       "  17\n",
       "  20\n",
       "  23\n",
       "  26\n",
       "  27\n",
       "  28\n",
       "  29\n",
       "   ⋮\n",
       " 214\n",
       " 215\n",
       " 217\n",
       " 219\n",
       " 221\n",
       " 225\n",
       " 228\n",
       " 232\n",
       " 233\n",
       " 246\n",
       " 248\n",
       " 250"
      ]
     },
     "execution_count": 131,
     "metadata": {},
     "output_type": "execute_result"
    }
   ],
   "source": [
    "ind = findall(y .> 600)"
   ]
  },
  {
   "cell_type": "code",
   "execution_count": 132,
   "id": "289099ab-4c9f-48a9-a3ba-02982f1ee2f1",
   "metadata": {},
   "outputs": [
    {
     "data": {
      "text/plain": [
       "99-element Vector{Int64}:\n",
       " 823\n",
       " 451\n",
       " 648\n",
       " 563\n",
       " 788\n",
       " 179\n",
       " 945\n",
       " 354\n",
       " 883\n",
       " 482\n",
       " 609\n",
       " 937\n",
       " 717\n",
       "   ⋮\n",
       " 913\n",
       " 553\n",
       "  87\n",
       " 836\n",
       " 696\n",
       " 847\n",
       " 447\n",
       " 300\n",
       " 492\n",
       " 567\n",
       "  71\n",
       " 918"
      ]
     },
     "execution_count": 132,
     "metadata": {},
     "output_type": "execute_result"
    }
   ],
   "source": [
    "[x[i] for i in ind]"
   ]
  },
  {
   "cell_type": "code",
   "execution_count": 133,
   "id": "98e2f818-0eca-4d46-9b27-b8b341ebfcae",
   "metadata": {},
   "outputs": [
    {
     "data": {
      "text/plain": [
       "250-element Vector{Float64}:\n",
       " 20.355834544424848\n",
       " 17.65332829808589\n",
       " 18.2931681236466\n",
       " 12.475576139000555\n",
       "  7.7691698398220135\n",
       " 22.121482771279144\n",
       " 14.582180906846547\n",
       " 11.689311356961966\n",
       "  7.186097689288672\n",
       " 16.632498309033434\n",
       " 10.166612021711067\n",
       " 21.648094604375693\n",
       " 20.87199080107118\n",
       "  ⋮\n",
       " 15.831613941730641\n",
       " 16.412190591142913\n",
       " 18.956792977716457\n",
       "  2.1540659228537984\n",
       " 15.512575543732252\n",
       " 19.381434415439948\n",
       " 21.15088650624366\n",
       "  7.459222479588606\n",
       " 19.85849943978648\n",
       " 20.984756372185977\n",
       " 21.894291493446413\n",
       " 20.16531675922796"
      ]
     },
     "execution_count": 133,
     "metadata": {},
     "output_type": "execute_result"
    }
   ],
   "source": [
    "avg_x = sum(x)/length(x)\n",
    "[sqrt(abs(x[i]-avg_x)) for i=1:n]"
   ]
  },
  {
   "cell_type": "code",
   "execution_count": 135,
   "id": "8914e5b4-5bad-405c-9004-c1fdc62357b9",
   "metadata": {},
   "outputs": [
    {
     "data": {
      "text/plain": [
       "51"
      ]
     },
     "execution_count": 135,
     "metadata": {},
     "output_type": "execute_result"
    }
   ],
   "source": [
    "y_avg = sum(y)/length(y)\n",
    "length([y[i] for i=1:n if (abs(y[i]-y_avg)<=200 && y[i]<y_avg)])"
   ]
  },
  {
   "cell_type": "code",
   "execution_count": 137,
   "id": "eee9669a-2d2d-4632-a29f-c74183bf4599",
   "metadata": {},
   "outputs": [
    {
     "data": {
      "text/plain": [
       "(130, 120)"
      ]
     },
     "execution_count": 137,
     "metadata": {},
     "output_type": "execute_result"
    }
   ],
   "source": [
    "even_x = length([x[i] for i=1:n if (x[i]%2==0)])\n",
    "uneven_x = length([x[i] for i=1:n if (x[i]%2!=0)])\n",
    "even_x, uneven_x"
   ]
  },
  {
   "cell_type": "code",
   "execution_count": 138,
   "id": "7c9be70a-dd4d-40f3-9530-5fc77a482071",
   "metadata": {},
   "outputs": [
    {
     "data": {
      "text/plain": [
       "37"
      ]
     },
     "execution_count": 138,
     "metadata": {},
     "output_type": "execute_result"
    }
   ],
   "source": [
    "length([x[i] for i=1:n if (x[i]%7==0)])"
   ]
  },
  {
   "cell_type": "code",
   "execution_count": 152,
   "id": "74a796dc-aa11-4cb6-b1cb-3f6b0b8ac153",
   "metadata": {},
   "outputs": [
    {
     "data": {
      "text/plain": [
       "250-element Vector{Int64}:\n",
       "  97\n",
       " 823\n",
       " 846\n",
       " 667\n",
       " 451\n",
       "  22\n",
       " 724\n",
       " 724\n",
       " 563\n",
       " 788\n",
       " 408\n",
       " 408\n",
       " 947\n",
       "   ⋮\n",
       " 762\n",
       " 242\n",
       " 152\n",
       " 516\n",
       " 752\n",
       " 887\n",
       "  64\n",
       " 567\n",
       " 567\n",
       "  71\n",
       "  32\n",
       " 918"
      ]
     },
     "execution_count": 152,
     "metadata": {},
     "output_type": "execute_result"
    }
   ],
   "source": [
    "y_sorted = sort!(y)\n",
    "y_s_ind = [ indexin(y_sorted[i],y)[1] for i=1:n]\n",
    "x_s = [x[i] for i in y_s_ind]"
   ]
  },
  {
   "cell_type": "code",
   "execution_count": 153,
   "id": "bb0d3864-213e-4626-8503-0d56872276f1",
   "metadata": {},
   "outputs": [
    {
     "data": {
      "text/plain": [
       "10-element Vector{Int64}:\n",
       " 998\n",
       " 992\n",
       " 987\n",
       " 984\n",
       " 981\n",
       " 980\n",
       " 980\n",
       " 973\n",
       " 961\n",
       " 947"
      ]
     },
     "execution_count": 153,
     "metadata": {},
     "output_type": "execute_result"
    }
   ],
   "source": [
    "sort!(x, rev=true)[1:10]"
   ]
  },
  {
   "cell_type": "code",
   "execution_count": 154,
   "id": "80e498bf-34ed-4f97-84b9-fe51ab6183e5",
   "metadata": {},
   "outputs": [
    {
     "data": {
      "text/plain": [
       "226-element Vector{Int64}:\n",
       " 998\n",
       " 992\n",
       " 987\n",
       " 984\n",
       " 981\n",
       " 980\n",
       " 973\n",
       " 961\n",
       " 947\n",
       " 946\n",
       " 945\n",
       " 937\n",
       " 926\n",
       "   ⋮\n",
       "  49\n",
       "  48\n",
       "  44\n",
       "  40\n",
       "  32\n",
       "  31\n",
       "  24\n",
       "  22\n",
       "  18\n",
       "  11\n",
       "  10\n",
       "   0"
      ]
     },
     "execution_count": 154,
     "metadata": {},
     "output_type": "execute_result"
    }
   ],
   "source": [
    "unique(x)"
   ]
  },
  {
   "cell_type": "code",
   "execution_count": 155,
   "id": "48713290-4ee9-4f25-90b0-bd029bfbb6f8",
   "metadata": {},
   "outputs": [
    {
     "data": {
      "text/plain": [
       "100-element Vector{Int64}:\n",
       "     1\n",
       "     4\n",
       "     9\n",
       "    16\n",
       "    25\n",
       "    36\n",
       "    49\n",
       "    64\n",
       "    81\n",
       "   100\n",
       "   121\n",
       "   144\n",
       "   169\n",
       "     ⋮\n",
       "  7921\n",
       "  8100\n",
       "  8281\n",
       "  8464\n",
       "  8649\n",
       "  8836\n",
       "  9025\n",
       "  9216\n",
       "  9409\n",
       "  9604\n",
       "  9801\n",
       " 10000"
      ]
     },
     "execution_count": 155,
     "metadata": {},
     "output_type": "execute_result"
    }
   ],
   "source": [
    "#4)\n",
    "squares = [i^2 for i=1:100]"
   ]
  },
  {
   "cell_type": "code",
   "execution_count": 157,
   "id": "24129ab0-456c-49df-8ced-0e13fbe51650",
   "metadata": {},
   "outputs": [
    {
     "data": {
      "text/plain": [
       "168-element Vector{Int64}:\n",
       "   2\n",
       "   3\n",
       "   5\n",
       "   7\n",
       "  11\n",
       "  13\n",
       "  17\n",
       "  19\n",
       "  23\n",
       "  29\n",
       "  31\n",
       "  37\n",
       "  41\n",
       "   ⋮\n",
       " 919\n",
       " 929\n",
       " 937\n",
       " 941\n",
       " 947\n",
       " 953\n",
       " 967\n",
       " 971\n",
       " 977\n",
       " 983\n",
       " 991\n",
       " 997"
      ]
     },
     "execution_count": 157,
     "metadata": {},
     "output_type": "execute_result"
    }
   ],
   "source": [
    "#5)\n",
    "using Primes\n",
    "myprimes = [prime(i) for i=1:168]"
   ]
  },
  {
   "cell_type": "code",
   "execution_count": 158,
   "id": "b4f5b2eb-4de7-4b6b-8589-18b7014a07b1",
   "metadata": {},
   "outputs": [
    {
     "data": {
      "text/plain": [
       "461"
      ]
     },
     "execution_count": 158,
     "metadata": {},
     "output_type": "execute_result"
    }
   ],
   "source": [
    "myprimes[89]"
   ]
  },
  {
   "cell_type": "code",
   "execution_count": 159,
   "id": "46e2d92a-5525-4ee5-83be-9e018ea58b2f",
   "metadata": {},
   "outputs": [
    {
     "data": {
      "text/plain": [
       "11-element Vector{Int64}:\n",
       " 461\n",
       " 463\n",
       " 467\n",
       " 479\n",
       " 487\n",
       " 491\n",
       " 499\n",
       " 503\n",
       " 509\n",
       " 521\n",
       " 523"
      ]
     },
     "execution_count": 159,
     "metadata": {},
     "output_type": "execute_result"
    }
   ],
   "source": [
    "myprimes[89:99]"
   ]
  },
  {
   "cell_type": "code",
   "execution_count": 160,
   "id": "94e2e9f4-1e43-4685-aa9e-9bae12f60b45",
   "metadata": {},
   "outputs": [
    {
     "data": {
      "text/plain": [
       "26852735"
      ]
     },
     "execution_count": 160,
     "metadata": {},
     "output_type": "execute_result"
    }
   ],
   "source": [
    "#6.\n",
    "\n",
    "#1)\n",
    "s = 0\n",
    "for i=10:100\n",
    "    s = s + i^3+4*i^2\n",
    "end\n",
    "s"
   ]
  },
  {
   "cell_type": "code",
   "execution_count": 161,
   "id": "fbe47571-2aed-44e9-bb80-e65dff5841b6",
   "metadata": {},
   "outputs": [
    {
     "data": {
      "text/plain": [
       "2.1291704368143802e9"
      ]
     },
     "execution_count": 161,
     "metadata": {},
     "output_type": "execute_result"
    }
   ],
   "source": [
    "#2)\n",
    "M = 25\n",
    "s = 0\n",
    "for i=1:M\n",
    "    s = s + 2^i/i + 3^i/i^2\n",
    "end\n",
    "s"
   ]
  },
  {
   "cell_type": "code",
   "execution_count": 162,
   "id": "e9354e13-7bae-4cb7-9044-50b84f7ec3a4",
   "metadata": {},
   "outputs": [
    {
     "data": {
      "text/plain": [
       "6.97634613789762"
      ]
     },
     "execution_count": 162,
     "metadata": {},
     "output_type": "execute_result"
    }
   ],
   "source": [
    "#3)\n",
    "s = 1\n",
    "t = 1\n",
    "for i=2:2:38\n",
    "    t = t * i / (i+1) \n",
    "    s = s + t\n",
    "end\n",
    "s"
   ]
  },
  {
   "cell_type": "code",
   "execution_count": null,
   "id": "69e31a71-fa69-4c25-8ba9-ff998177acb6",
   "metadata": {},
   "outputs": [],
   "source": []
  }
 ],
 "metadata": {
  "kernelspec": {
   "display_name": "Julia 1.8.2",
   "language": "julia",
   "name": "julia-1.8"
  },
  "language_info": {
   "file_extension": ".jl",
   "mimetype": "application/julia",
   "name": "julia",
   "version": "1.8.2"
  }
 },
 "nbformat": 4,
 "nbformat_minor": 5
}
